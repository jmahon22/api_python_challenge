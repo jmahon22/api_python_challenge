{
 "cells": [
  {
   "cell_type": "markdown",
   "metadata": {},
   "source": [
    "# WeatherPy\n",
    "----\n",
    "\n",
    "#### Note\n",
    "* Instructions have been included for each segment. You do not have to follow them exactly, but they are included to help you think through the steps."
   ]
  },
  {
   "cell_type": "code",
   "execution_count": 1,
   "metadata": {
    "scrolled": true
   },
   "outputs": [],
   "source": [
    "# Dependencies and Setup\n",
    "\n",
    "import matplotlib.pyplot as plt\n",
    "import pandas as pd\n",
    "import numpy as np\n",
    "import requests\n",
    "import time\n",
    "from scipy.stats import linregress\n",
    "import json\n",
    "from pprint import pprint\n",
    "import scipy.stats as st\n",
    "\n",
    "# Import API key\n",
    "from api_keys import weather_api_key\n",
    "\n",
    "\n",
    "# Incorporated citipy to determine city based on latitude and longitude\n",
    "from citipy import citipy\n",
    "\n",
    "# Output File (CSV)\n",
    "output_data_file = \"output_data/cities.csv\"\n",
    "\n",
    "# Range of latitudes and longitudes\n",
    "lat_range = (-90, 90)\n",
    "lng_range = (-180, 180)"
   ]
  },
  {
   "cell_type": "markdown",
   "metadata": {},
   "source": [
    "## Generate Cities List"
   ]
  },
  {
   "cell_type": "code",
   "execution_count": 2,
   "metadata": {},
   "outputs": [
    {
     "data": {
      "text/plain": [
       "604"
      ]
     },
     "execution_count": 2,
     "metadata": {},
     "output_type": "execute_result"
    }
   ],
   "source": [
    "# List for holding lat_lngs and cities\n",
    "lat_lngs = []\n",
    "cities = []\n",
    "\n",
    "# random lat and lng combinations\n",
    "lats = np.random.uniform(lat_range[0], lat_range[1], size=1500)\n",
    "lngs = np.random.uniform(lng_range[0], lng_range[1], size=1500)\n",
    "lat_lngs = zip(lats, lngs)\n",
    "\n",
    "# Identify nearest city for each lat, lng combination\n",
    "for lat_lng in lat_lngs:\n",
    "    city = citipy.nearest_city(lat_lng[0], lat_lng[1]).city_name\n",
    "    \n",
    "    # If the city is unique, then add it to a our cities list\n",
    "    if city not in cities:\n",
    "        cities.append(city)\n",
    "\n",
    "# Print the city count to confirm sufficient count\n",
    "len(cities)"
   ]
  },
  {
   "cell_type": "markdown",
   "metadata": {},
   "source": [
    "### Perform API Calls\n",
    "* Perform a weather check on each city using a series of successive API calls.\n",
    "* Include a print log of each city as it'sbeing processed (with the city number and city name).\n"
   ]
  },
  {
   "cell_type": "code",
   "execution_count": 3,
   "metadata": {},
   "outputs": [],
   "source": [
    "#url\n",
    "temp_units = \"Imperial\"\n",
    "query_url = f\"http://api.openweathermap.org/data/2.5/weather?units={temp_units}&APPID={weather_api_key}&q=\""
   ]
  },
  {
   "cell_type": "code",
   "execution_count": 4,
   "metadata": {
    "scrolled": true
   },
   "outputs": [],
   "source": [
    "#response = requests.get(query_url).json()\n",
    "#print(json.dumps(response, indent=4, sort_keys=True))"
   ]
  },
  {
   "cell_type": "code",
   "execution_count": 5,
   "metadata": {
    "scrolled": true
   },
   "outputs": [
    {
     "name": "stdout",
     "output_type": "stream",
     "text": [
      "Processing Record 1 of Set 1 | jamestown\n",
      "Processing Record 2 of Set 1 | nikolskoye\n",
      "Processing Record 3 of Set 1 | padang\n",
      "Processing Record 4 of Set 1 | cherskiy\n",
      "City not found. Skipping...\n",
      "Processing Record 5 of Set 1 | vaini\n",
      "Processing Record 6 of Set 1 | wellington\n",
      "Processing Record 7 of Set 1 | chumikan\n",
      "Processing Record 8 of Set 1 | rikitea\n",
      "Processing Record 9 of Set 1 | praia\n",
      "Processing Record 10 of Set 1 | hobart\n",
      "Processing Record 11 of Set 1 | saskylakh\n",
      "Processing Record 12 of Set 1 | saldanha\n",
      "Processing Record 13 of Set 1 | changli\n",
      "Processing Record 14 of Set 1 | lebu\n",
      "Processing Record 15 of Set 1 | kenai\n",
      "Processing Record 16 of Set 1 | punta arenas\n",
      "Processing Record 17 of Set 1 | moose factory\n",
      "City not found. Skipping...\n",
      "Processing Record 18 of Set 1 | clinton\n",
      "Processing Record 19 of Set 1 | chokurdakh\n",
      "Processing Record 20 of Set 1 | dudinka\n",
      "City not found. Skipping...\n",
      "Processing Record 21 of Set 1 | rincon\n",
      "Processing Record 22 of Set 1 | itacare\n",
      "Processing Record 23 of Set 1 | arraial do cabo\n",
      "Processing Record 24 of Set 1 | rexburg\n",
      "Processing Record 25 of Set 1 | fortuna\n",
      "Processing Record 26 of Set 1 | albany\n",
      "Processing Record 27 of Set 1 | ushuaia\n",
      "Processing Record 28 of Set 1 | bluff\n",
      "Processing Record 29 of Set 1 | lagoa\n",
      "Processing Record 30 of Set 1 | saint-philippe\n",
      "Processing Record 31 of Set 1 | saint-joseph\n",
      "Processing Record 32 of Set 1 | kaitangata\n",
      "Processing Record 33 of Set 1 | kirkenaer\n",
      "Processing Record 34 of Set 1 | richards bay\n",
      "Processing Record 35 of Set 1 | kruisfontein\n",
      "Processing Record 36 of Set 1 | cabo san lucas\n",
      "Processing Record 37 of Set 1 | bumba\n",
      "City not found. Skipping...\n",
      "Processing Record 38 of Set 1 | avarua\n",
      "Processing Record 39 of Set 1 | aktash\n",
      "Processing Record 40 of Set 1 | ponta do sol\n",
      "Processing Record 41 of Set 1 | kysyl-syr\n",
      "Processing Record 42 of Set 1 | lata\n",
      "Processing Record 43 of Set 1 | esperance\n",
      "Processing Record 44 of Set 1 | vila franca do campo\n",
      "Processing Record 45 of Set 1 | georgetown\n",
      "Processing Record 46 of Set 1 | vostok\n",
      "Processing Record 47 of Set 1 | fallon\n",
      "Processing Record 48 of Set 1 | samfya\n",
      "Processing Record 49 of Set 1 | basco\n",
      "City not found. Skipping...\n",
      "Processing Record 50 of Set 1 | khatanga\n",
      "Processing Record 1 of Set 2 | sao filipe\n",
      "Processing Record 2 of Set 2 | kapaa\n",
      "Processing Record 3 of Set 2 | berlevag\n",
      "Processing Record 4 of Set 2 | longyearbyen\n",
      "Processing Record 5 of Set 2 | mataura\n",
      "Processing Record 6 of Set 2 | lakki marwat\n",
      "Processing Record 7 of Set 2 | lompoc\n",
      "Processing Record 8 of Set 2 | inhambane\n",
      "Processing Record 9 of Set 2 | cairns\n",
      "Processing Record 10 of Set 2 | mackay\n",
      "Processing Record 11 of Set 2 | atuona\n",
      "Processing Record 12 of Set 2 | pangai\n",
      "Processing Record 13 of Set 2 | bubaque\n",
      "Processing Record 14 of Set 2 | ozernovskiy\n",
      "Processing Record 15 of Set 2 | nurota\n",
      "City not found. Skipping...\n",
      "Processing Record 16 of Set 2 | tuktoyaktuk\n",
      "Processing Record 17 of Set 2 | opelousas\n",
      "Processing Record 18 of Set 2 | ust-ordynskiy\n",
      "Processing Record 19 of Set 2 | katsuura\n",
      "Processing Record 20 of Set 2 | pisco\n",
      "Processing Record 21 of Set 2 | port alfred\n",
      "Processing Record 22 of Set 2 | nanortalik\n",
      "Processing Record 23 of Set 2 | luderitz\n",
      "Processing Record 24 of Set 2 | dikson\n",
      "Processing Record 25 of Set 2 | hilo\n",
      "City not found. Skipping...\n",
      "Processing Record 26 of Set 2 | jizan\n",
      "Processing Record 27 of Set 2 | altamont\n",
      "Processing Record 28 of Set 2 | pitimbu\n",
      "Processing Record 29 of Set 2 | andenes\n",
      "Processing Record 30 of Set 2 | khandyga\n",
      "Processing Record 31 of Set 2 | thalgau\n",
      "Processing Record 32 of Set 2 | beringovskiy\n",
      "Processing Record 33 of Set 2 | mar del plata\n",
      "Processing Record 34 of Set 2 | kembe\n",
      "Processing Record 35 of Set 2 | victoria\n",
      "Processing Record 36 of Set 2 | tuy hoa\n",
      "Processing Record 37 of Set 2 | huimilpan\n",
      "Processing Record 38 of Set 2 | puerto leguizamo\n",
      "Processing Record 39 of Set 2 | tommot\n",
      "Processing Record 40 of Set 2 | lazaro cardenas\n",
      "Processing Record 41 of Set 2 | nuuk\n",
      "Processing Record 42 of Set 2 | port elizabeth\n",
      "Processing Record 43 of Set 2 | new norfolk\n",
      "Processing Record 44 of Set 2 | norman wells\n",
      "Processing Record 45 of Set 2 | aksarayskiy\n",
      "Processing Record 46 of Set 2 | san carlos de bariloche\n",
      "Processing Record 47 of Set 2 | cidreira\n",
      "Processing Record 48 of Set 2 | tiksi\n",
      "Processing Record 49 of Set 2 | anadyr\n",
      "Processing Record 50 of Set 2 | isangel\n",
      "City not found. Skipping...\n",
      "Processing Record 1 of Set 3 | castro\n",
      "Processing Record 2 of Set 3 | victor harbor\n",
      "Processing Record 3 of Set 3 | kavaratti\n",
      "Processing Record 4 of Set 3 | tamworth\n",
      "Processing Record 5 of Set 3 | mys shmidta\n",
      "City not found. Skipping...\n",
      "Processing Record 6 of Set 3 | bredasdorp\n",
      "Processing Record 7 of Set 3 | kidal\n",
      "Processing Record 8 of Set 3 | chuy\n",
      "Processing Record 9 of Set 3 | borzna\n",
      "Processing Record 10 of Set 3 | kristiinankaupunki\n",
      "Processing Record 11 of Set 3 | tasiilaq\n",
      "Processing Record 12 of Set 3 | naze\n",
      "Processing Record 13 of Set 3 | sinnamary\n",
      "Processing Record 14 of Set 3 | hermanus\n",
      "Processing Record 15 of Set 3 | aran\n",
      "Processing Record 16 of Set 3 | butaritari\n",
      "Processing Record 17 of Set 3 | fairbanks\n",
      "City not found. Skipping...\n",
      "City not found. Skipping...\n",
      "Processing Record 18 of Set 3 | faya\n",
      "Processing Record 19 of Set 3 | mahebourg\n",
      "Processing Record 20 of Set 3 | barrow\n",
      "Processing Record 21 of Set 3 | puerto ayora\n",
      "Processing Record 22 of Set 3 | laguna\n",
      "Processing Record 23 of Set 3 | morant bay\n",
      "Processing Record 24 of Set 3 | middelburg\n",
      "Processing Record 25 of Set 3 | palmer\n",
      "Processing Record 26 of Set 3 | nanakuli\n",
      "Processing Record 27 of Set 3 | torbay\n",
      "City not found. Skipping...\n",
      "Processing Record 28 of Set 3 | mana\n",
      "Processing Record 29 of Set 3 | westport\n",
      "Processing Record 30 of Set 3 | ames\n",
      "Processing Record 31 of Set 3 | zhangjiakou\n",
      "Processing Record 32 of Set 3 | ribeira grande\n",
      "Processing Record 33 of Set 3 | nome\n",
      "Processing Record 34 of Set 3 | zarichne\n",
      "Processing Record 35 of Set 3 | mina\n",
      "City not found. Skipping...\n",
      "Processing Record 36 of Set 3 | marystown\n",
      "Processing Record 37 of Set 3 | tonantins\n",
      "Processing Record 38 of Set 3 | severo-kurilsk\n",
      "Processing Record 39 of Set 3 | talnakh\n",
      "Processing Record 40 of Set 3 | yellowknife\n",
      "Processing Record 41 of Set 3 | bilibino\n",
      "Processing Record 42 of Set 3 | cape town\n",
      "Processing Record 43 of Set 3 | dovolnoye\n",
      "Processing Record 44 of Set 3 | djibo\n",
      "Processing Record 45 of Set 3 | sao joao da barra\n",
      "Processing Record 46 of Set 3 | marsh harbour\n",
      "Processing Record 47 of Set 3 | kota belud\n",
      "Processing Record 48 of Set 3 | saint-pierre\n",
      "Processing Record 49 of Set 3 | nizhniy tsasuchey\n",
      "Processing Record 50 of Set 3 | baruun-urt\n",
      "Processing Record 1 of Set 4 | port hedland\n",
      "Processing Record 2 of Set 4 | vilhena\n",
      "Processing Record 3 of Set 4 | arinos\n",
      "Processing Record 4 of Set 4 | pevek\n",
      "City not found. Skipping...\n",
      "Processing Record 5 of Set 4 | wanxian\n",
      "City not found. Skipping...\n",
      "City not found. Skipping...\n",
      "Processing Record 6 of Set 4 | ixtapa\n",
      "Processing Record 7 of Set 4 | busselton\n",
      "Processing Record 8 of Set 4 | bull savanna\n",
      "Processing Record 9 of Set 4 | comodoro rivadavia\n",
      "Processing Record 10 of Set 4 | matagami\n",
      "Processing Record 11 of Set 4 | vila velha\n",
      "City not found. Skipping...\n",
      "Processing Record 12 of Set 4 | port blair\n",
      "Processing Record 13 of Set 4 | yar-sale\n",
      "Processing Record 14 of Set 4 | san cristobal\n",
      "Processing Record 15 of Set 4 | grand forks\n",
      "Processing Record 16 of Set 4 | garissa\n",
      "Processing Record 17 of Set 4 | jacareacanga\n",
      "Processing Record 18 of Set 4 | labuhan\n",
      "City not found. Skipping...\n",
      "Processing Record 19 of Set 4 | narsaq\n",
      "Processing Record 20 of Set 4 | upernavik\n",
      "City not found. Skipping...\n",
      "Processing Record 21 of Set 4 | puerto escondido\n",
      "Processing Record 22 of Set 4 | qaqortoq\n",
      "City not found. Skipping...\n",
      "Processing Record 23 of Set 4 | frontera\n",
      "Processing Record 24 of Set 4 | roanoke rapids\n",
      "Processing Record 25 of Set 4 | coracora\n",
      "City not found. Skipping...\n",
      "Processing Record 26 of Set 4 | oistins\n",
      "Processing Record 27 of Set 4 | deputatskiy\n",
      "Processing Record 28 of Set 4 | skagen\n",
      "Processing Record 29 of Set 4 | atlantic city\n",
      "Processing Record 30 of Set 4 | faridkot\n",
      "Processing Record 31 of Set 4 | aksha\n",
      "Processing Record 32 of Set 4 | margate\n",
      "City not found. Skipping...\n",
      "Processing Record 33 of Set 4 | dingle\n"
     ]
    },
    {
     "name": "stdout",
     "output_type": "stream",
     "text": [
      "Processing Record 34 of Set 4 | east london\n",
      "Processing Record 35 of Set 4 | okitipupa\n",
      "Processing Record 36 of Set 4 | peniche\n",
      "Processing Record 37 of Set 4 | skibbereen\n",
      "Processing Record 38 of Set 4 | port huron\n",
      "City not found. Skipping...\n",
      "City not found. Skipping...\n",
      "Processing Record 39 of Set 4 | gwadar\n",
      "Processing Record 40 of Set 4 | port lincoln\n",
      "Processing Record 41 of Set 4 | coihaique\n",
      "Processing Record 42 of Set 4 | qaanaaq\n",
      "Processing Record 43 of Set 4 | kaeo\n",
      "Processing Record 44 of Set 4 | chicama\n",
      "Processing Record 45 of Set 4 | galesburg\n",
      "Processing Record 46 of Set 4 | fare\n",
      "Processing Record 47 of Set 4 | xuddur\n",
      "Processing Record 48 of Set 4 | miandrivazo\n",
      "Processing Record 49 of Set 4 | serenje\n",
      "Processing Record 50 of Set 4 | rockledge\n",
      "Processing Record 1 of Set 5 | sitka\n",
      "Processing Record 2 of Set 5 | balkhash\n",
      "Processing Record 3 of Set 5 | vardo\n",
      "Processing Record 4 of Set 5 | dapaong\n",
      "Processing Record 5 of Set 5 | iqaluit\n",
      "Processing Record 6 of Set 5 | camacari\n",
      "City not found. Skipping...\n",
      "Processing Record 7 of Set 5 | linjiang\n",
      "Processing Record 8 of Set 5 | grand centre\n",
      "Processing Record 9 of Set 5 | les cayes\n",
      "Processing Record 10 of Set 5 | orange cove\n",
      "Processing Record 11 of Set 5 | kortkeros\n",
      "Processing Record 12 of Set 5 | karaton\n",
      "Processing Record 13 of Set 5 | evensk\n",
      "Processing Record 14 of Set 5 | hamilton\n",
      "Processing Record 15 of Set 5 | ucluelet\n",
      "Processing Record 16 of Set 5 | porbandar\n",
      "Processing Record 17 of Set 5 | sampang\n",
      "Processing Record 18 of Set 5 | kavieng\n",
      "Processing Record 19 of Set 5 | okhotsk\n",
      "Processing Record 20 of Set 5 | badvel\n",
      "Processing Record 21 of Set 5 | salme\n",
      "Processing Record 22 of Set 5 | pedasi\n",
      "Processing Record 23 of Set 5 | bow island\n",
      "Processing Record 24 of Set 5 | mvuma\n",
      "Processing Record 25 of Set 5 | hithadhoo\n",
      "Processing Record 26 of Set 5 | tomatlan\n",
      "Processing Record 27 of Set 5 | axim\n",
      "Processing Record 28 of Set 5 | paamiut\n",
      "City not found. Skipping...\n",
      "Processing Record 29 of Set 5 | codrington\n",
      "Processing Record 30 of Set 5 | nouadhibou\n",
      "Processing Record 31 of Set 5 | beloha\n",
      "Processing Record 32 of Set 5 | vinh yen\n",
      "Processing Record 33 of Set 5 | tefe\n",
      "Processing Record 34 of Set 5 | nacala\n",
      "Processing Record 35 of Set 5 | atar\n",
      "Processing Record 36 of Set 5 | narendranagar\n",
      "Processing Record 37 of Set 5 | havoysund\n",
      "Processing Record 38 of Set 5 | geraldton\n",
      "Processing Record 39 of Set 5 | gamba\n",
      "Processing Record 40 of Set 5 | manono\n",
      "Processing Record 41 of Set 5 | correntina\n",
      "Processing Record 42 of Set 5 | chifeng\n",
      "Processing Record 43 of Set 5 | eyemouth\n",
      "Processing Record 44 of Set 5 | bose\n",
      "Processing Record 45 of Set 5 | port hardy\n",
      "City not found. Skipping...\n",
      "Processing Record 46 of Set 5 | olafsvik\n",
      "Processing Record 47 of Set 5 | bambous virieux\n",
      "Processing Record 48 of Set 5 | limoges\n",
      "Processing Record 49 of Set 5 | kalcheva\n",
      "Processing Record 50 of Set 5 | kalengwa\n",
      "Processing Record 1 of Set 6 | oneonta\n",
      "Processing Record 2 of Set 6 | tangi\n",
      "City not found. Skipping...\n",
      "Processing Record 3 of Set 6 | kudahuvadhoo\n",
      "Processing Record 4 of Set 6 | yumen\n",
      "Processing Record 5 of Set 6 | constitucion\n",
      "Processing Record 6 of Set 6 | san quintin\n",
      "City not found. Skipping...\n",
      "Processing Record 7 of Set 6 | gizo\n",
      "City not found. Skipping...\n",
      "Processing Record 8 of Set 6 | aulnoye-aymeries\n",
      "Processing Record 9 of Set 6 | simao\n",
      "Processing Record 10 of Set 6 | kahului\n",
      "Processing Record 11 of Set 6 | wiltz\n",
      "Processing Record 12 of Set 6 | maragogi\n",
      "Processing Record 13 of Set 6 | gat\n",
      "Processing Record 14 of Set 6 | shillong\n",
      "Processing Record 15 of Set 6 | avera\n",
      "Processing Record 16 of Set 6 | mayahi\n",
      "Processing Record 17 of Set 6 | alofi\n",
      "Processing Record 18 of Set 6 | muros\n",
      "Processing Record 19 of Set 6 | grand river south east\n",
      "Processing Record 20 of Set 6 | santa maria\n",
      "Processing Record 21 of Set 6 | zhaotong\n",
      "Processing Record 22 of Set 6 | jiangyou\n",
      "Processing Record 23 of Set 6 | kourou\n",
      "Processing Record 24 of Set 6 | alice springs\n",
      "Processing Record 25 of Set 6 | vydrino\n",
      "City not found. Skipping...\n",
      "Processing Record 26 of Set 6 | thompson\n",
      "Processing Record 27 of Set 6 | pangnirtung\n",
      "Processing Record 28 of Set 6 | husavik\n",
      "Processing Record 29 of Set 6 | rocha\n",
      "Processing Record 30 of Set 6 | pemba\n",
      "Processing Record 31 of Set 6 | komsomolskiy\n",
      "Processing Record 32 of Set 6 | bengkulu\n",
      "Processing Record 33 of Set 6 | acapulco\n",
      "Processing Record 34 of Set 6 | junagadh\n",
      "Processing Record 35 of Set 6 | lorengau\n",
      "Processing Record 36 of Set 6 | pafos\n",
      "Processing Record 37 of Set 6 | vestmannaeyjar\n",
      "Processing Record 38 of Set 6 | salalah\n",
      "Processing Record 39 of Set 6 | requena\n",
      "Processing Record 40 of Set 6 | tuatapere\n",
      "Processing Record 41 of Set 6 | farah\n",
      "City not found. Skipping...\n",
      "Processing Record 42 of Set 6 | gushikawa\n",
      "Processing Record 43 of Set 6 | sergeyevka\n",
      "Processing Record 44 of Set 6 | provideniya\n",
      "Processing Record 45 of Set 6 | sola\n",
      "Processing Record 46 of Set 6 | chitral\n",
      "Processing Record 47 of Set 6 | faanui\n",
      "City not found. Skipping...\n",
      "Processing Record 48 of Set 6 | konya\n",
      "Processing Record 49 of Set 6 | sal rei\n",
      "Processing Record 50 of Set 6 | ostrovnoy\n",
      "Processing Record 1 of Set 7 | killybegs\n",
      "Processing Record 2 of Set 7 | salair\n",
      "Processing Record 3 of Set 7 | oga\n",
      "Processing Record 4 of Set 7 | eyl\n",
      "Processing Record 5 of Set 7 | valparaiso\n",
      "Processing Record 6 of Set 7 | bahile\n",
      "Processing Record 7 of Set 7 | bethel\n",
      "Processing Record 8 of Set 7 | kisaran\n",
      "Processing Record 9 of Set 7 | flinders\n",
      "Processing Record 10 of Set 7 | ketchikan\n",
      "Processing Record 11 of Set 7 | sorland\n",
      "Processing Record 12 of Set 7 | lakes entrance\n",
      "Processing Record 13 of Set 7 | samarai\n",
      "Processing Record 14 of Set 7 | giovinazzo\n",
      "Processing Record 15 of Set 7 | ocos\n",
      "Processing Record 16 of Set 7 | kodiak\n",
      "City not found. Skipping...\n",
      "Processing Record 17 of Set 7 | bairiki\n",
      "Processing Record 18 of Set 7 | san patricio\n",
      "Processing Record 19 of Set 7 | puri\n",
      "Processing Record 20 of Set 7 | lavrentiya\n",
      "Processing Record 21 of Set 7 | ilulissat\n",
      "City not found. Skipping...\n",
      "Processing Record 22 of Set 7 | waitati\n",
      "Processing Record 23 of Set 7 | rafai\n",
      "Processing Record 24 of Set 7 | nata\n",
      "Processing Record 25 of Set 7 | loreto\n",
      "Processing Record 26 of Set 7 | ancud\n",
      "Processing Record 27 of Set 7 | aquiraz\n",
      "Processing Record 28 of Set 7 | san francisco de coray\n",
      "Processing Record 29 of Set 7 | oranjemund\n",
      "Processing Record 30 of Set 7 | tiznit\n",
      "Processing Record 31 of Set 7 | mecca\n",
      "Processing Record 32 of Set 7 | yulara\n",
      "Processing Record 33 of Set 7 | ust-maya\n",
      "Processing Record 34 of Set 7 | guider\n",
      "Processing Record 35 of Set 7 | rio brilhante\n",
      "Processing Record 36 of Set 7 | tocopilla\n",
      "Processing Record 37 of Set 7 | loten\n",
      "Processing Record 38 of Set 7 | maposeni\n",
      "Processing Record 39 of Set 7 | matara\n",
      "City not found. Skipping...\n",
      "Processing Record 40 of Set 7 | hopelchen\n",
      "City not found. Skipping...\n",
      "City not found. Skipping...\n",
      "Processing Record 41 of Set 7 | hervey bay\n",
      "Processing Record 42 of Set 7 | goulburn\n",
      "Processing Record 43 of Set 7 | yanam\n",
      "Processing Record 44 of Set 7 | sakakah\n",
      "Processing Record 45 of Set 7 | tungor\n",
      "Processing Record 46 of Set 7 | elko\n",
      "Processing Record 47 of Set 7 | touros\n",
      "Processing Record 48 of Set 7 | mezen\n",
      "Processing Record 49 of Set 7 | ayan\n",
      "Processing Record 50 of Set 7 | havelock\n",
      "Processing Record 1 of Set 8 | abu samrah\n",
      "Processing Record 2 of Set 8 | ulaangom\n",
      "City not found. Skipping...\n",
      "Processing Record 3 of Set 8 | buala\n",
      "Processing Record 4 of Set 8 | karratha\n",
      "Processing Record 5 of Set 8 | zhigansk\n",
      "Processing Record 6 of Set 8 | shimanovsk\n",
      "City not found. Skipping...\n",
      "Processing Record 7 of Set 8 | adana\n",
      "City not found. Skipping...\n",
      "Processing Record 8 of Set 8 | nemuro\n",
      "Processing Record 9 of Set 8 | tornio\n",
      "Processing Record 10 of Set 8 | novikovo\n",
      "Processing Record 11 of Set 8 | wukari\n",
      "Processing Record 12 of Set 8 | aksarka\n",
      "City not found. Skipping...\n",
      "Processing Record 13 of Set 8 | payakumbuh\n",
      "Processing Record 14 of Set 8 | tukrah\n",
      "Processing Record 15 of Set 8 | biscarrosse\n",
      "Processing Record 16 of Set 8 | ranong\n",
      "Processing Record 17 of Set 8 | petropavlovsk-kamchatskiy\n",
      "City not found. Skipping...\n",
      "City not found. Skipping...\n",
      "Processing Record 18 of Set 8 | haradok\n",
      "Processing Record 19 of Set 8 | kirkcudbright\n",
      "Processing Record 20 of Set 8 | auki\n"
     ]
    },
    {
     "name": "stdout",
     "output_type": "stream",
     "text": [
      "City not found. Skipping...\n",
      "Processing Record 21 of Set 8 | airai\n",
      "Processing Record 22 of Set 8 | fergus falls\n",
      "Processing Record 23 of Set 8 | bagdarin\n",
      "Processing Record 24 of Set 8 | kachiry\n",
      "Processing Record 25 of Set 8 | aden\n",
      "Processing Record 26 of Set 8 | miles city\n",
      "Processing Record 27 of Set 8 | marzuq\n",
      "Processing Record 28 of Set 8 | bilma\n",
      "Processing Record 29 of Set 8 | gazojak\n",
      "Processing Record 30 of Set 8 | skelleftea\n",
      "Processing Record 31 of Set 8 | poya\n",
      "Processing Record 32 of Set 8 | pochutla\n",
      "Processing Record 33 of Set 8 | susurluk\n",
      "Processing Record 34 of Set 8 | okato\n",
      "Processing Record 35 of Set 8 | olavarria\n",
      "Processing Record 36 of Set 8 | bereda\n",
      "Processing Record 37 of Set 8 | lodja\n",
      "Processing Record 38 of Set 8 | hofn\n",
      "Processing Record 39 of Set 8 | ulety\n",
      "Processing Record 40 of Set 8 | ourossogui\n",
      "Processing Record 41 of Set 8 | tilichiki\n",
      "Processing Record 42 of Set 8 | iwaki\n",
      "Processing Record 43 of Set 8 | tamale\n",
      "Processing Record 44 of Set 8 | kamenka\n",
      "Processing Record 45 of Set 8 | san lorenzo\n",
      "Processing Record 46 of Set 8 | adrar\n",
      "Processing Record 47 of Set 8 | sokode\n",
      "Processing Record 48 of Set 8 | coro\n",
      "Processing Record 49 of Set 8 | ceres\n",
      "Processing Record 50 of Set 8 | encruzilhada\n",
      "Processing Record 1 of Set 9 | saint-augustin\n",
      "Processing Record 2 of Set 9 | krasnoselkup\n",
      "Processing Record 3 of Set 9 | ahipara\n",
      "Processing Record 4 of Set 9 | akdepe\n",
      "Processing Record 5 of Set 9 | plettenberg bay\n",
      "Processing Record 6 of Set 9 | antofagasta\n",
      "City not found. Skipping...\n",
      "Processing Record 7 of Set 9 | daru\n",
      "Processing Record 8 of Set 9 | carnarvon\n",
      "Processing Record 9 of Set 9 | tianpeng\n",
      "Processing Record 10 of Set 9 | turayf\n",
      "Processing Record 11 of Set 9 | praya\n",
      "Processing Record 12 of Set 9 | isabela\n",
      "Processing Record 13 of Set 9 | barcelos\n",
      "City not found. Skipping...\n",
      "Processing Record 14 of Set 9 | taoudenni\n",
      "City not found. Skipping...\n",
      "Processing Record 15 of Set 9 | shelburne\n",
      "Processing Record 16 of Set 9 | springbok\n",
      "City not found. Skipping...\n",
      "City not found. Skipping...\n",
      "Processing Record 17 of Set 9 | grajau\n",
      "Processing Record 18 of Set 9 | sechura\n",
      "Processing Record 19 of Set 9 | winslow\n",
      "Processing Record 20 of Set 9 | buraydah\n",
      "Processing Record 21 of Set 9 | takoradi\n",
      "Processing Record 22 of Set 9 | sawtell\n",
      "Processing Record 23 of Set 9 | egvekinot\n",
      "Processing Record 24 of Set 9 | mercedes\n",
      "City not found. Skipping...\n",
      "Processing Record 25 of Set 9 | mataram\n",
      "Processing Record 26 of Set 9 | rozkishne\n",
      "Processing Record 27 of Set 9 | yaqui\n",
      "Processing Record 28 of Set 9 | sur\n",
      "Processing Record 29 of Set 9 | waingapu\n",
      "Processing Record 30 of Set 9 | puerto cabezas\n",
      "Processing Record 31 of Set 9 | bonthe\n",
      "Processing Record 32 of Set 9 | santa isabel\n",
      "Processing Record 33 of Set 9 | meulaboh\n",
      "Processing Record 34 of Set 9 | namibe\n",
      "Processing Record 35 of Set 9 | vinci\n",
      "Processing Record 36 of Set 9 | bosaso\n",
      "Processing Record 37 of Set 9 | cayenne\n",
      "Processing Record 38 of Set 9 | ushtobe\n",
      "Processing Record 39 of Set 9 | mount isa\n",
      "Processing Record 40 of Set 9 | dunedin\n",
      "Processing Record 41 of Set 9 | swan hill\n",
      "Processing Record 42 of Set 9 | foki\n",
      "City not found. Skipping...\n",
      "Processing Record 43 of Set 9 | chowchilla\n",
      "City not found. Skipping...\n",
      "Processing Record 44 of Set 9 | santa luzia\n",
      "Processing Record 45 of Set 9 | gawler\n",
      "Processing Record 46 of Set 9 | clyde river\n",
      "Processing Record 47 of Set 9 | talaya\n",
      "Processing Record 48 of Set 9 | klaksvik\n",
      "Processing Record 49 of Set 9 | sao sebastiao\n",
      "Processing Record 50 of Set 9 | biak\n",
      "Processing Record 1 of Set 10 | grindavik\n",
      "Processing Record 2 of Set 10 | eydhafushi\n",
      "Processing Record 3 of Set 10 | shimoda\n",
      "Processing Record 4 of Set 10 | svetlogorsk\n",
      "Processing Record 5 of Set 10 | paraiso\n",
      "Processing Record 6 of Set 10 | tevaitoa\n",
      "Processing Record 7 of Set 10 | freeport\n",
      "Processing Record 8 of Set 10 | razole\n",
      "Processing Record 9 of Set 10 | kyshtovka\n",
      "City not found. Skipping...\n",
      "Processing Record 10 of Set 10 | bushehr\n",
      "Processing Record 11 of Set 10 | aklavik\n",
      "City not found. Skipping...\n",
      "City not found. Skipping...\n",
      "Processing Record 12 of Set 10 | kununurra\n",
      "Processing Record 13 of Set 10 | matay\n",
      "Processing Record 14 of Set 10 | hingatungan\n",
      "Processing Record 15 of Set 10 | kuznechnoye\n",
      "Processing Record 16 of Set 10 | hortolandia\n",
      "Processing Record 17 of Set 10 | ust-ishim\n",
      "Processing Record 18 of Set 10 | filingue\n",
      "Processing Record 19 of Set 10 | chateauroux\n",
      "Processing Record 20 of Set 10 | havre-saint-pierre\n",
      "Processing Record 21 of Set 10 | caravelas\n",
      "Processing Record 22 of Set 10 | ampanihy\n",
      "Processing Record 23 of Set 10 | aykhal\n",
      "Processing Record 24 of Set 10 | annau\n",
      "Processing Record 25 of Set 10 | kurilsk\n",
      "Processing Record 26 of Set 10 | sao luis de montes belos\n",
      "Processing Record 27 of Set 10 | deniliquin\n",
      "Processing Record 28 of Set 10 | hornepayne\n",
      "Processing Record 29 of Set 10 | concordia\n",
      "Processing Record 30 of Set 10 | kirakira\n",
      "City not found. Skipping...\n",
      "Processing Record 31 of Set 10 | motygino\n",
      "City not found. Skipping...\n",
      "Processing Record 32 of Set 10 | gorontalo\n",
      "City not found. Skipping...\n",
      "Processing Record 33 of Set 10 | harper\n",
      "Processing Record 34 of Set 10 | perth\n",
      "Processing Record 35 of Set 10 | mwense\n",
      "Processing Record 36 of Set 10 | chake chake\n",
      "Processing Record 37 of Set 10 | lamu\n",
      "Processing Record 38 of Set 10 | kharp\n",
      "Processing Record 39 of Set 10 | boa vista\n",
      "Processing Record 40 of Set 10 | jiaonan\n",
      "Processing Record 41 of Set 10 | pocao de pedras\n",
      "Processing Record 42 of Set 10 | wajir\n",
      "Processing Record 43 of Set 10 | carutapera\n",
      "Processing Record 44 of Set 10 | aanekoski\n",
      "Processing Record 45 of Set 10 | zapolyarnyy\n",
      "Processing Record 46 of Set 10 | shujaabad\n",
      "Processing Record 47 of Set 10 | tagusao\n",
      "Processing Record 48 of Set 10 | mangaratiba\n",
      "Processing Record 49 of Set 10 | nouakchott\n",
      "Processing Record 50 of Set 10 | roebourne\n",
      "Processing Record 1 of Set 11 | half moon bay\n",
      "Processing Record 2 of Set 11 | nowy dwor gdanski\n",
      "Processing Record 3 of Set 11 | broome\n",
      "Processing Record 4 of Set 11 | pokhara\n",
      "Processing Record 5 of Set 11 | canutama\n",
      "Processing Record 6 of Set 11 | jerome\n",
      "Processing Record 7 of Set 11 | sept-iles\n",
      "Processing Record 8 of Set 11 | tarakan\n",
      "Processing Record 9 of Set 11 | kavarskas\n",
      "Processing Record 10 of Set 11 | surin\n",
      "Processing Record 11 of Set 11 | kuching\n",
      "Processing Record 12 of Set 11 | grand gaube\n",
      "Processing Record 13 of Set 11 | yerbogachen\n",
      "Processing Record 14 of Set 11 | hinesville\n",
      "Processing Record 15 of Set 11 | kindersley\n",
      "Processing Record 16 of Set 11 | sanchor\n",
      "Processing Record 17 of Set 11 | kalabo\n",
      "Processing Record 18 of Set 11 | hambantota\n",
      "Processing Record 19 of Set 11 | nuevo progreso\n",
      "Processing Record 20 of Set 11 | souillac\n",
      "Processing Record 21 of Set 11 | aonla\n",
      "City not found. Skipping...\n",
      "City not found. Skipping...\n",
      "Processing Record 22 of Set 11 | bandarbeyla\n",
      "Processing Record 23 of Set 11 | san pablo\n",
      "City not found. Skipping...\n",
      "Processing Record 24 of Set 11 | hobyo\n",
      "Processing Record 25 of Set 11 | luanda\n",
      "Processing Record 26 of Set 11 | baoning\n",
      "Processing Record 27 of Set 11 | hudson bay\n",
      "Processing Record 28 of Set 11 | hovd\n",
      "Processing Record 29 of Set 11 | manta\n",
      "Processing Record 30 of Set 11 | mykolayivka\n",
      "Processing Record 31 of Set 11 | hasaki\n",
      "City not found. Skipping...\n",
      "Processing Record 32 of Set 11 | napanee\n",
      "Processing Record 33 of Set 11 | pingliang\n",
      "Processing Record 34 of Set 11 | maldonado\n",
      "Processing Record 35 of Set 11 | ruwi\n",
      "Processing Record 36 of Set 11 | taltal\n",
      "Processing Record 37 of Set 11 | dzhebariki-khaya\n",
      "Processing Record 38 of Set 11 | itarema\n",
      "City not found. Skipping...\n",
      "Processing Record 39 of Set 11 | tshela\n",
      "Processing Record 40 of Set 11 | bemidji\n",
      "------------------------------\n",
      "Data Retrieval Complete\n",
      "------------------------------\n"
     ]
    }
   ],
   "source": [
    "#lists\n",
    "city_two = []\n",
    "cloudiness = []\n",
    "dates = []\n",
    "humidity = []\n",
    "lats = []\n",
    "lngs = []\n",
    "max_temps = []\n",
    "wind_speeds = []\n",
    "countries = []\n",
    "\n",
    "# set initial count quantities\n",
    "count_one = 0\n",
    "set_one = 1\n",
    "\n",
    "# loop for dataframe \n",
    "for city in cities:\n",
    "    try:\n",
    "        response = requests.get(query_url + city.replace(\" \",\"&\")).json()\n",
    "        cloudiness.append(response['clouds']['all'])\n",
    "        countries.append(response['sys']['country'])\n",
    "        dates.append(response['dt'])\n",
    "        humidity.append(response['main']['humidity'])\n",
    "        lats.append(response['coord']['lat'])\n",
    "        lngs.append(response['coord']['lon'])\n",
    "        max_temps.append(response['main']['temp_max'])\n",
    "        wind_speeds.append(response['wind']['speed'])\n",
    "        if count_one > 49:\n",
    "            count_one = 1\n",
    "            set_one += 1\n",
    "            city_two.append(city)\n",
    "        else:\n",
    "            count_one += 1\n",
    "            city_two.append(city)\n",
    "        print(f\"Processing Record {count_one} of Set {set_one} | {city}\")\n",
    "    except Exception:\n",
    "        print(\"City not found. Skipping...\")\n",
    "print(\"------------------------------\\nData Retrieval Complete\\n------------------------------\")"
   ]
  },
  {
   "cell_type": "markdown",
   "metadata": {},
   "source": [
    "### Convert Raw Data to DataFrame\n",
    "* Export the city data into a .csv.\n",
    "* Display the DataFrame"
   ]
  },
  {
   "cell_type": "code",
   "execution_count": 6,
   "metadata": {},
   "outputs": [
    {
     "data": {
      "text/html": [
       "<div>\n",
       "<style scoped>\n",
       "    .dataframe tbody tr th:only-of-type {\n",
       "        vertical-align: middle;\n",
       "    }\n",
       "\n",
       "    .dataframe tbody tr th {\n",
       "        vertical-align: top;\n",
       "    }\n",
       "\n",
       "    .dataframe thead th {\n",
       "        text-align: right;\n",
       "    }\n",
       "</style>\n",
       "<table border=\"1\" class=\"dataframe\">\n",
       "  <thead>\n",
       "    <tr style=\"text-align: right;\">\n",
       "      <th></th>\n",
       "      <th>City</th>\n",
       "      <th>Lat</th>\n",
       "      <th>Lng</th>\n",
       "      <th>Max Temp</th>\n",
       "      <th>Humidity</th>\n",
       "      <th>Cloudiness</th>\n",
       "      <th>Wind Speed</th>\n",
       "      <th>Country</th>\n",
       "      <th>Date</th>\n",
       "    </tr>\n",
       "  </thead>\n",
       "  <tbody>\n",
       "    <tr>\n",
       "      <th>0</th>\n",
       "      <td>jamestown</td>\n",
       "      <td>42.10</td>\n",
       "      <td>-79.24</td>\n",
       "      <td>45.00</td>\n",
       "      <td>70</td>\n",
       "      <td>90</td>\n",
       "      <td>9.17</td>\n",
       "      <td>US</td>\n",
       "      <td>1603681659</td>\n",
       "    </tr>\n",
       "    <tr>\n",
       "      <th>1</th>\n",
       "      <td>nikolskoye</td>\n",
       "      <td>59.70</td>\n",
       "      <td>30.79</td>\n",
       "      <td>43.00</td>\n",
       "      <td>93</td>\n",
       "      <td>90</td>\n",
       "      <td>8.95</td>\n",
       "      <td>RU</td>\n",
       "      <td>1603681664</td>\n",
       "    </tr>\n",
       "    <tr>\n",
       "      <th>2</th>\n",
       "      <td>padang</td>\n",
       "      <td>-0.95</td>\n",
       "      <td>100.35</td>\n",
       "      <td>83.70</td>\n",
       "      <td>60</td>\n",
       "      <td>100</td>\n",
       "      <td>2.53</td>\n",
       "      <td>ID</td>\n",
       "      <td>1603681594</td>\n",
       "    </tr>\n",
       "    <tr>\n",
       "      <th>3</th>\n",
       "      <td>cherskiy</td>\n",
       "      <td>68.75</td>\n",
       "      <td>161.30</td>\n",
       "      <td>16.18</td>\n",
       "      <td>96</td>\n",
       "      <td>100</td>\n",
       "      <td>2.57</td>\n",
       "      <td>RU</td>\n",
       "      <td>1603681627</td>\n",
       "    </tr>\n",
       "    <tr>\n",
       "      <th>4</th>\n",
       "      <td>vaini</td>\n",
       "      <td>-21.20</td>\n",
       "      <td>-175.20</td>\n",
       "      <td>73.40</td>\n",
       "      <td>94</td>\n",
       "      <td>90</td>\n",
       "      <td>10.29</td>\n",
       "      <td>TO</td>\n",
       "      <td>1603681681</td>\n",
       "    </tr>\n",
       "  </tbody>\n",
       "</table>\n",
       "</div>"
      ],
      "text/plain": [
       "         City    Lat     Lng  Max Temp  Humidity  Cloudiness  Wind Speed  \\\n",
       "0   jamestown  42.10  -79.24     45.00        70          90        9.17   \n",
       "1  nikolskoye  59.70   30.79     43.00        93          90        8.95   \n",
       "2      padang  -0.95  100.35     83.70        60         100        2.53   \n",
       "3    cherskiy  68.75  161.30     16.18        96         100        2.57   \n",
       "4       vaini -21.20 -175.20     73.40        94          90       10.29   \n",
       "\n",
       "  Country        Date  \n",
       "0      US  1603681659  \n",
       "1      RU  1603681664  \n",
       "2      ID  1603681594  \n",
       "3      RU  1603681627  \n",
       "4      TO  1603681681  "
      ]
     },
     "execution_count": 6,
     "metadata": {},
     "output_type": "execute_result"
    }
   ],
   "source": [
    "#create dictionary\n",
    "weather_dictionary = {\n",
    "    \"City\": city_two,\n",
    "    \"Lat\":lats,\n",
    "    \"Lng\":lngs,\n",
    "    \"Max Temp\":max_temps,\n",
    "    \"Humidity\":humidity,\n",
    "    \"Cloudiness\":cloudiness,\n",
    "    \"Wind Speed\":wind_speeds,\n",
    "    \"Country\":countries,\n",
    "    \"Date\":dates,\n",
    "}\n",
    "\n",
    "#create dataframe\n",
    "weather_df = pd.DataFrame(weather_dictionary)\n",
    "weather_df.head()"
   ]
  },
  {
   "cell_type": "code",
   "execution_count": 7,
   "metadata": {},
   "outputs": [],
   "source": [
    "#save to csv file\n",
    "weather_df.to_csv(output_data_file)"
   ]
  },
  {
   "cell_type": "code",
   "execution_count": 8,
   "metadata": {
    "scrolled": true
   },
   "outputs": [
    {
     "data": {
      "text/html": [
       "<div>\n",
       "<style scoped>\n",
       "    .dataframe tbody tr th:only-of-type {\n",
       "        vertical-align: middle;\n",
       "    }\n",
       "\n",
       "    .dataframe tbody tr th {\n",
       "        vertical-align: top;\n",
       "    }\n",
       "\n",
       "    .dataframe thead th {\n",
       "        text-align: right;\n",
       "    }\n",
       "</style>\n",
       "<table border=\"1\" class=\"dataframe\">\n",
       "  <thead>\n",
       "    <tr style=\"text-align: right;\">\n",
       "      <th></th>\n",
       "      <th>Lat</th>\n",
       "      <th>Lng</th>\n",
       "      <th>Max Temp</th>\n",
       "      <th>Humidity</th>\n",
       "      <th>Cloudiness</th>\n",
       "      <th>Wind Speed</th>\n",
       "      <th>Date</th>\n",
       "    </tr>\n",
       "  </thead>\n",
       "  <tbody>\n",
       "    <tr>\n",
       "      <th>count</th>\n",
       "      <td>540.000000</td>\n",
       "      <td>540.000000</td>\n",
       "      <td>540.000000</td>\n",
       "      <td>540.000000</td>\n",
       "      <td>540.000000</td>\n",
       "      <td>540.000000</td>\n",
       "      <td>5.400000e+02</td>\n",
       "    </tr>\n",
       "    <tr>\n",
       "      <th>mean</th>\n",
       "      <td>22.261111</td>\n",
       "      <td>18.337037</td>\n",
       "      <td>58.657519</td>\n",
       "      <td>72.661111</td>\n",
       "      <td>54.020370</td>\n",
       "      <td>7.647759</td>\n",
       "      <td>1.603682e+09</td>\n",
       "    </tr>\n",
       "    <tr>\n",
       "      <th>std</th>\n",
       "      <td>31.553856</td>\n",
       "      <td>88.403830</td>\n",
       "      <td>21.154131</td>\n",
       "      <td>21.458809</td>\n",
       "      <td>40.695776</td>\n",
       "      <td>5.967356</td>\n",
       "      <td>4.397238e+02</td>\n",
       "    </tr>\n",
       "    <tr>\n",
       "      <th>min</th>\n",
       "      <td>-54.800000</td>\n",
       "      <td>-179.170000</td>\n",
       "      <td>2.050000</td>\n",
       "      <td>1.000000</td>\n",
       "      <td>0.000000</td>\n",
       "      <td>0.430000</td>\n",
       "      <td>1.603682e+09</td>\n",
       "    </tr>\n",
       "    <tr>\n",
       "      <th>25%</th>\n",
       "      <td>-3.027500</td>\n",
       "      <td>-54.477500</td>\n",
       "      <td>43.105000</td>\n",
       "      <td>61.000000</td>\n",
       "      <td>7.000000</td>\n",
       "      <td>3.325000</td>\n",
       "      <td>1.603682e+09</td>\n",
       "    </tr>\n",
       "    <tr>\n",
       "      <th>50%</th>\n",
       "      <td>25.785000</td>\n",
       "      <td>22.575000</td>\n",
       "      <td>62.625000</td>\n",
       "      <td>79.000000</td>\n",
       "      <td>70.000000</td>\n",
       "      <td>6.210000</td>\n",
       "      <td>1.603683e+09</td>\n",
       "    </tr>\n",
       "    <tr>\n",
       "      <th>75%</th>\n",
       "      <td>47.487500</td>\n",
       "      <td>89.210000</td>\n",
       "      <td>76.440000</td>\n",
       "      <td>89.000000</td>\n",
       "      <td>94.250000</td>\n",
       "      <td>10.290000</td>\n",
       "      <td>1.603683e+09</td>\n",
       "    </tr>\n",
       "    <tr>\n",
       "      <th>max</th>\n",
       "      <td>78.220000</td>\n",
       "      <td>179.320000</td>\n",
       "      <td>96.800000</td>\n",
       "      <td>100.000000</td>\n",
       "      <td>100.000000</td>\n",
       "      <td>61.070000</td>\n",
       "      <td>1.603683e+09</td>\n",
       "    </tr>\n",
       "  </tbody>\n",
       "</table>\n",
       "</div>"
      ],
      "text/plain": [
       "              Lat         Lng    Max Temp    Humidity  Cloudiness  Wind Speed  \\\n",
       "count  540.000000  540.000000  540.000000  540.000000  540.000000  540.000000   \n",
       "mean    22.261111   18.337037   58.657519   72.661111   54.020370    7.647759   \n",
       "std     31.553856   88.403830   21.154131   21.458809   40.695776    5.967356   \n",
       "min    -54.800000 -179.170000    2.050000    1.000000    0.000000    0.430000   \n",
       "25%     -3.027500  -54.477500   43.105000   61.000000    7.000000    3.325000   \n",
       "50%     25.785000   22.575000   62.625000   79.000000   70.000000    6.210000   \n",
       "75%     47.487500   89.210000   76.440000   89.000000   94.250000   10.290000   \n",
       "max     78.220000  179.320000   96.800000  100.000000  100.000000   61.070000   \n",
       "\n",
       "               Date  \n",
       "count  5.400000e+02  \n",
       "mean   1.603682e+09  \n",
       "std    4.397238e+02  \n",
       "min    1.603682e+09  \n",
       "25%    1.603682e+09  \n",
       "50%    1.603683e+09  \n",
       "75%    1.603683e+09  \n",
       "max    1.603683e+09  "
      ]
     },
     "execution_count": 8,
     "metadata": {},
     "output_type": "execute_result"
    }
   ],
   "source": [
    "#dataframe description\n",
    "weather_df.describe()"
   ]
  },
  {
   "cell_type": "markdown",
   "metadata": {},
   "source": [
    "## Inspect the data and remove the cities where the humidity > 100%.\n",
    "----\n",
    "Skip this step if there are no cities that have humidity > 100%. "
   ]
  },
  {
   "cell_type": "code",
   "execution_count": 9,
   "metadata": {},
   "outputs": [
    {
     "data": {
      "text/html": [
       "<div>\n",
       "<style scoped>\n",
       "    .dataframe tbody tr th:only-of-type {\n",
       "        vertical-align: middle;\n",
       "    }\n",
       "\n",
       "    .dataframe tbody tr th {\n",
       "        vertical-align: top;\n",
       "    }\n",
       "\n",
       "    .dataframe thead th {\n",
       "        text-align: right;\n",
       "    }\n",
       "</style>\n",
       "<table border=\"1\" class=\"dataframe\">\n",
       "  <thead>\n",
       "    <tr style=\"text-align: right;\">\n",
       "      <th></th>\n",
       "      <th>City</th>\n",
       "      <th>Lat</th>\n",
       "      <th>Lng</th>\n",
       "      <th>Max Temp</th>\n",
       "      <th>Humidity</th>\n",
       "      <th>Cloudiness</th>\n",
       "      <th>Wind Speed</th>\n",
       "      <th>Country</th>\n",
       "      <th>Date</th>\n",
       "    </tr>\n",
       "  </thead>\n",
       "  <tbody>\n",
       "  </tbody>\n",
       "</table>\n",
       "</div>"
      ],
      "text/plain": [
       "Empty DataFrame\n",
       "Columns: [City, Lat, Lng, Max Temp, Humidity, Cloudiness, Wind Speed, Country, Date]\n",
       "Index: []"
      ]
     },
     "execution_count": 9,
     "metadata": {},
     "output_type": "execute_result"
    }
   ],
   "source": [
    "#print out any cities with humidity over 100, store in new DF. \n",
    "humidity_errors = weather_df.loc[weather_df[\"Humidity\"] > 100]\n",
    "humidity_errors"
   ]
  },
  {
   "cell_type": "code",
   "execution_count": 10,
   "metadata": {},
   "outputs": [],
   "source": [
    "#  Get the indices of cities that have humidity over 100%.\n",
    "#none exist "
   ]
  },
  {
   "cell_type": "code",
   "execution_count": 11,
   "metadata": {},
   "outputs": [],
   "source": [
    "# Make a new DataFrame equal to the city data to drop all humidity outliers by index.\n",
    "# Passing \"inplace=False\" will make a copy of the city_data DataFrame, which we call \"clean_city_data\".\n",
    "#no cities exist with humidity over 100. skipping this step as the df is already clean"
   ]
  },
  {
   "cell_type": "markdown",
   "metadata": {},
   "source": [
    "No cities in the dataframe reported humidity over 100%, no need to clean the data further\n"
   ]
  },
  {
   "cell_type": "markdown",
   "metadata": {},
   "source": [
    "## Plotting the Data\n",
    "* Use proper labeling of the plots using plot titles (including date of analysis) and axes labels.\n",
    "* Save the plotted figures as .pngs."
   ]
  },
  {
   "cell_type": "markdown",
   "metadata": {},
   "source": [
    "## Latitude vs. Temperature Plot"
   ]
  },
  {
   "cell_type": "code",
   "execution_count": 30,
   "metadata": {
    "scrolled": true
   },
   "outputs": [
    {
     "data": {
      "image/png": "[encoded data removed]",
      "text/plain": [
       "<Figure size 432x288 with 1 Axes>"
      ]
     },
     "metadata": {
      "needs_background": "light"
     },
     "output_type": "display_data"
    }
   ],
   "source": [
    "#scatter plot\n",
    "plt.scatter(weather_df[\"Lat\"], weather_df[\"Max Temp\"], marker=\"o\", s=10)\n",
    "\n",
    "plt.title(\"City Latitude vs. Max Temperature\")\n",
    "plt.ylabel(\"Max. Temperature (F)\")\n",
    "plt.xlabel(\"Latitude\")\n",
    "plt.grid(True)\n",
    "\n",
    "#save\n",
    "plt.savefig(\"output_plots/latitude_temperature_plot.png\")\n",
    "\n",
    "#show\n",
    "plt.show()"
   ]
  },
  {
   "cell_type": "markdown",
   "metadata": {},
   "source": [
    "This scatter plot compares the latitudes and max temperatures of cities in our dataset. Temperatures closest to the equator (0) appear to be highest overall. Tempareratures drop slightly for locations in the southern hemisphere (negative latitudes), but we see a more significant drop in temperature the more north of the equator we go (positive latitudes). "
   ]
  },
  {
   "cell_type": "markdown",
   "metadata": {},
   "source": [
    "## Latitude vs. Humidity Plot"
   ]
  },
  {
   "cell_type": "code",
   "execution_count": 31,
   "metadata": {},
   "outputs": [
    {
     "data": {
      "image/png": "[encoded data removed]",
      "text/plain": [
       "<Figure size 432x288 with 1 Axes>"
      ]
     },
     "metadata": {
      "needs_background": "light"
     },
     "output_type": "display_data"
    }
   ],
   "source": [
    "#scatter plot\n",
    "plt.scatter(weather_df[\"Lat\"], weather_df[\"Humidity\"], marker=\"o\", s=10)\n",
    "\n",
    "plt.title(\"City Latitude vs. Humidity\")\n",
    "plt.ylabel(\"Humidity (%)\")\n",
    "plt.xlabel(\"Latitude\")\n",
    "plt.grid(True)\n",
    "\n",
    "#save\n",
    "plt.savefig(\"output_plots/latitude_humidity_plot.png\")\n",
    "\n",
    "#show\n",
    "plt.show()"
   ]
  },
  {
   "cell_type": "markdown",
   "metadata": {},
   "source": [
    "This scatter plot looks at our cities locations in comparison to their humidity percentages. Visually we see that the majority of cities in our data set have humidity percentages of 60% and above. A good amount of our very northern cities have humidity levels of 80-100%"
   ]
  },
  {
   "cell_type": "markdown",
   "metadata": {},
   "source": [
    "## Latitude vs. Cloudiness Plot"
   ]
  },
  {
   "cell_type": "code",
   "execution_count": 32,
   "metadata": {},
   "outputs": [
    {
     "data": {
      "image/png": "[encoded data removed]",
      "text/plain": [
       "<Figure size 432x288 with 1 Axes>"
      ]
     },
     "metadata": {
      "needs_background": "light"
     },
     "output_type": "display_data"
    }
   ],
   "source": [
    "#scatter plot\n",
    "plt.scatter(weather_df[\"Lat\"], weather_df[\"Cloudiness\"], marker=\"o\", s=10)\n",
    "\n",
    "plt.title(\"City Latitude vs. Cloudiness\")\n",
    "plt.ylabel(\"Cloudiness (%)\")\n",
    "plt.xlabel(\"Latitude\")\n",
    "plt.grid(True)\n",
    "\n",
    "#save\n",
    "plt.savefig(\"output_plots/latitude_cloudiness_plot.png\")\n",
    "\n",
    "#show\n",
    "plt.show()"
   ]
  },
  {
   "cell_type": "markdown",
   "metadata": {},
   "source": [
    "Here we compare city locations and overall cloudiness. We can't make any discernible conclusions from this scatter plot. It doesn't appear that location in relationship to the equator makes much of a difference when it comes to cloudiness.   "
   ]
  },
  {
   "cell_type": "markdown",
   "metadata": {},
   "source": [
    "## Latitude vs. Wind Speed Plot"
   ]
  },
  {
   "cell_type": "code",
   "execution_count": 33,
   "metadata": {},
   "outputs": [
    {
     "data": {
      "image/png": "[encoded data removed]",
      "text/plain": [
       "<Figure size 432x288 with 1 Axes>"
      ]
     },
     "metadata": {
      "needs_background": "light"
     },
     "output_type": "display_data"
    }
   ],
   "source": [
    "#scatter plot\n",
    "plt.scatter(weather_df[\"Lat\"], weather_df[\"Wind Speed\"], marker=\"o\", s=10)\n",
    "\n",
    "plt.title(\"City Latitude vs. Wind Speed\")\n",
    "plt.ylabel(\"Wind Speed (mph)\")\n",
    "plt.xlabel(\"Latitude\")\n",
    "plt.grid(True)\n",
    "\n",
    "#save\n",
    "plt.savefig(\"output_plots/latitude_windspeed_plot.png\")\n",
    "\n",
    "#show\n",
    "plt.show()"
   ]
  },
  {
   "cell_type": "markdown",
   "metadata": {},
   "source": [
    "This plot compares city location to wind speed. Thankfully, most cities in our data set do not exceed 20mph, however, we do have one outlier to the north at over 60mph! Conclusion - don't move there :) Overall, it doesn't appear that location relative to the equator has much of an affect on wind speed."
   ]
  },
  {
   "cell_type": "markdown",
   "metadata": {},
   "source": [
    "## Linear Regression"
   ]
  },
  {
   "cell_type": "code",
   "execution_count": 34,
   "metadata": {},
   "outputs": [],
   "source": [
    "north_latitude = weather_df[weather_df['Lat'] >= 0]\n",
    "\n",
    "south_latitude = weather_df[weather_df['Lat'] < 0]\n"
   ]
  },
  {
   "cell_type": "code",
   "execution_count": 35,
   "metadata": {},
   "outputs": [
    {
     "data": {
      "text/html": [
       "<div>\n",
       "<style scoped>\n",
       "    .dataframe tbody tr th:only-of-type {\n",
       "        vertical-align: middle;\n",
       "    }\n",
       "\n",
       "    .dataframe tbody tr th {\n",
       "        vertical-align: top;\n",
       "    }\n",
       "\n",
       "    .dataframe thead th {\n",
       "        text-align: right;\n",
       "    }\n",
       "</style>\n",
       "<table border=\"1\" class=\"dataframe\">\n",
       "  <thead>\n",
       "    <tr style=\"text-align: right;\">\n",
       "      <th></th>\n",
       "      <th>City</th>\n",
       "      <th>Lat</th>\n",
       "      <th>Lng</th>\n",
       "      <th>Max Temp</th>\n",
       "      <th>Humidity</th>\n",
       "      <th>Cloudiness</th>\n",
       "      <th>Wind Speed</th>\n",
       "      <th>Country</th>\n",
       "      <th>Date</th>\n",
       "    </tr>\n",
       "  </thead>\n",
       "  <tbody>\n",
       "    <tr>\n",
       "      <th>0</th>\n",
       "      <td>jamestown</td>\n",
       "      <td>42.10</td>\n",
       "      <td>-79.24</td>\n",
       "      <td>45.00</td>\n",
       "      <td>70</td>\n",
       "      <td>90</td>\n",
       "      <td>9.17</td>\n",
       "      <td>US</td>\n",
       "      <td>1603681659</td>\n",
       "    </tr>\n",
       "    <tr>\n",
       "      <th>1</th>\n",
       "      <td>nikolskoye</td>\n",
       "      <td>59.70</td>\n",
       "      <td>30.79</td>\n",
       "      <td>43.00</td>\n",
       "      <td>93</td>\n",
       "      <td>90</td>\n",
       "      <td>8.95</td>\n",
       "      <td>RU</td>\n",
       "      <td>1603681664</td>\n",
       "    </tr>\n",
       "    <tr>\n",
       "      <th>3</th>\n",
       "      <td>cherskiy</td>\n",
       "      <td>68.75</td>\n",
       "      <td>161.30</td>\n",
       "      <td>16.18</td>\n",
       "      <td>96</td>\n",
       "      <td>100</td>\n",
       "      <td>2.57</td>\n",
       "      <td>RU</td>\n",
       "      <td>1603681627</td>\n",
       "    </tr>\n",
       "    <tr>\n",
       "      <th>6</th>\n",
       "      <td>chumikan</td>\n",
       "      <td>54.72</td>\n",
       "      <td>135.31</td>\n",
       "      <td>36.81</td>\n",
       "      <td>74</td>\n",
       "      <td>0</td>\n",
       "      <td>18.05</td>\n",
       "      <td>RU</td>\n",
       "      <td>1603681602</td>\n",
       "    </tr>\n",
       "    <tr>\n",
       "      <th>8</th>\n",
       "      <td>praia</td>\n",
       "      <td>14.92</td>\n",
       "      <td>-23.51</td>\n",
       "      <td>80.60</td>\n",
       "      <td>69</td>\n",
       "      <td>0</td>\n",
       "      <td>18.34</td>\n",
       "      <td>CV</td>\n",
       "      <td>1603681692</td>\n",
       "    </tr>\n",
       "  </tbody>\n",
       "</table>\n",
       "</div>"
      ],
      "text/plain": [
       "         City    Lat     Lng  Max Temp  Humidity  Cloudiness  Wind Speed  \\\n",
       "0   jamestown  42.10  -79.24     45.00        70          90        9.17   \n",
       "1  nikolskoye  59.70   30.79     43.00        93          90        8.95   \n",
       "3    cherskiy  68.75  161.30     16.18        96         100        2.57   \n",
       "6    chumikan  54.72  135.31     36.81        74           0       18.05   \n",
       "8       praia  14.92  -23.51     80.60        69           0       18.34   \n",
       "\n",
       "  Country        Date  \n",
       "0      US  1603681659  \n",
       "1      RU  1603681664  \n",
       "3      RU  1603681627  \n",
       "6      RU  1603681602  \n",
       "8      CV  1603681692  "
      ]
     },
     "execution_count": 35,
     "metadata": {},
     "output_type": "execute_result"
    }
   ],
   "source": [
    "north_latitude.head()"
   ]
  },
  {
   "cell_type": "code",
   "execution_count": 36,
   "metadata": {},
   "outputs": [
    {
     "data": {
      "text/html": [
       "<div>\n",
       "<style scoped>\n",
       "    .dataframe tbody tr th:only-of-type {\n",
       "        vertical-align: middle;\n",
       "    }\n",
       "\n",
       "    .dataframe tbody tr th {\n",
       "        vertical-align: top;\n",
       "    }\n",
       "\n",
       "    .dataframe thead th {\n",
       "        text-align: right;\n",
       "    }\n",
       "</style>\n",
       "<table border=\"1\" class=\"dataframe\">\n",
       "  <thead>\n",
       "    <tr style=\"text-align: right;\">\n",
       "      <th></th>\n",
       "      <th>City</th>\n",
       "      <th>Lat</th>\n",
       "      <th>Lng</th>\n",
       "      <th>Max Temp</th>\n",
       "      <th>Humidity</th>\n",
       "      <th>Cloudiness</th>\n",
       "      <th>Wind Speed</th>\n",
       "      <th>Country</th>\n",
       "      <th>Date</th>\n",
       "    </tr>\n",
       "  </thead>\n",
       "  <tbody>\n",
       "    <tr>\n",
       "      <th>2</th>\n",
       "      <td>padang</td>\n",
       "      <td>-0.95</td>\n",
       "      <td>100.35</td>\n",
       "      <td>83.70</td>\n",
       "      <td>60</td>\n",
       "      <td>100</td>\n",
       "      <td>2.53</td>\n",
       "      <td>ID</td>\n",
       "      <td>1603681594</td>\n",
       "    </tr>\n",
       "    <tr>\n",
       "      <th>4</th>\n",
       "      <td>vaini</td>\n",
       "      <td>-21.20</td>\n",
       "      <td>-175.20</td>\n",
       "      <td>73.40</td>\n",
       "      <td>94</td>\n",
       "      <td>90</td>\n",
       "      <td>10.29</td>\n",
       "      <td>TO</td>\n",
       "      <td>1603681681</td>\n",
       "    </tr>\n",
       "    <tr>\n",
       "      <th>5</th>\n",
       "      <td>wellington</td>\n",
       "      <td>-41.29</td>\n",
       "      <td>174.78</td>\n",
       "      <td>64.40</td>\n",
       "      <td>77</td>\n",
       "      <td>74</td>\n",
       "      <td>24.16</td>\n",
       "      <td>NZ</td>\n",
       "      <td>1603681674</td>\n",
       "    </tr>\n",
       "    <tr>\n",
       "      <th>7</th>\n",
       "      <td>rikitea</td>\n",
       "      <td>-23.12</td>\n",
       "      <td>-134.97</td>\n",
       "      <td>73.51</td>\n",
       "      <td>82</td>\n",
       "      <td>100</td>\n",
       "      <td>20.31</td>\n",
       "      <td>PF</td>\n",
       "      <td>1603681689</td>\n",
       "    </tr>\n",
       "    <tr>\n",
       "      <th>9</th>\n",
       "      <td>hobart</td>\n",
       "      <td>-42.88</td>\n",
       "      <td>147.33</td>\n",
       "      <td>62.01</td>\n",
       "      <td>47</td>\n",
       "      <td>75</td>\n",
       "      <td>12.75</td>\n",
       "      <td>AU</td>\n",
       "      <td>1603681555</td>\n",
       "    </tr>\n",
       "  </tbody>\n",
       "</table>\n",
       "</div>"
      ],
      "text/plain": [
       "         City    Lat     Lng  Max Temp  Humidity  Cloudiness  Wind Speed  \\\n",
       "2      padang  -0.95  100.35     83.70        60         100        2.53   \n",
       "4       vaini -21.20 -175.20     73.40        94          90       10.29   \n",
       "5  wellington -41.29  174.78     64.40        77          74       24.16   \n",
       "7     rikitea -23.12 -134.97     73.51        82         100       20.31   \n",
       "9      hobart -42.88  147.33     62.01        47          75       12.75   \n",
       "\n",
       "  Country        Date  \n",
       "2      ID  1603681594  \n",
       "4      TO  1603681681  \n",
       "5      NZ  1603681674  \n",
       "7      PF  1603681689  \n",
       "9      AU  1603681555  "
      ]
     },
     "execution_count": 36,
     "metadata": {},
     "output_type": "execute_result"
    }
   ],
   "source": [
    "south_latitude.head()"
   ]
  },
  {
   "cell_type": "markdown",
   "metadata": {},
   "source": [
    "####  Northern Hemisphere - Max Temp vs. Latitude Linear Regression"
   ]
  },
  {
   "cell_type": "code",
   "execution_count": 37,
   "metadata": {},
   "outputs": [
    {
     "name": "stdout",
     "output_type": "stream",
     "text": [
      "The r-squared is: 0.7822458632314697\n"
     ]
    },
    {
     "data": {
      "image/png": "[encoded data removed]",
      "text/plain": [
       "<Figure size 432x288 with 1 Axes>"
      ]
     },
     "metadata": {
      "needs_background": "light"
     },
     "output_type": "display_data"
    }
   ],
   "source": [
    "#scatter plot & linear regression\n",
    "latitude = north_latitude[\"Lat\"]\n",
    "max_temp = north_latitude[\"Max Temp\"]\n",
    "x = latitude\n",
    "y = max_temp\n",
    "\n",
    "(slope, intercept, rvalue, pvalue, stderr) = linregress (x,y)\n",
    "regress_values = x * slope + intercept\n",
    "line_eq = \"y = \" + str(round(slope,2)) + \"x + \" + str(round(intercept,2))\n",
    "correlation = round(st.pearsonr(latitude,max_temp)[0],2)\n",
    "\n",
    "plt.scatter(x, y, marker=\"o\", s=10)\n",
    "plt.plot(x,regress_values,\"r-\")\n",
    "plt.annotate(line_eq,(0,20),fontsize=15,color=\"red\")\n",
    "plt.title(\"Northern Hemisphere-Max Temp vs Latitude\")\n",
    "plt.ylabel(\"Max Temp\")\n",
    "plt.xlabel(\"Latitude\")\n",
    "plt.grid(True)\n",
    "\n",
    "print(f\"The r-squared is: {rvalue**2}\")\n",
    "\n",
    "#save\n",
    "plt.savefig(\"output_plots/north_temp_latitude_plot.png\")\n",
    "\n",
    "#show\n",
    "plt.show()"
   ]
  },
  {
   "cell_type": "markdown",
   "metadata": {},
   "source": [
    "Here, we're looking at our Northern cities and their max temperatures. There is a significant relationship between the two as we see that the further north we get from the equator, the lower the max temperatures. "
   ]
  },
  {
   "cell_type": "markdown",
   "metadata": {},
   "source": [
    "####  Southern Hemisphere - Max Temp vs. Latitude Linear Regression"
   ]
  },
  {
   "cell_type": "code",
   "execution_count": 38,
   "metadata": {},
   "outputs": [
    {
     "name": "stdout",
     "output_type": "stream",
     "text": [
      "The r-squared is: 0.495944793502425\n"
     ]
    },
    {
     "data": {
      "image/png": "[encoded data removed]",
      "text/plain": [
       "<Figure size 432x288 with 1 Axes>"
      ]
     },
     "metadata": {
      "needs_background": "light"
     },
     "output_type": "display_data"
    }
   ],
   "source": [
    "#scatter plot & linear regression\n",
    "latitude = south_latitude[\"Lat\"]\n",
    "max_temp = south_latitude[\"Max Temp\"]\n",
    "\n",
    "x = latitude\n",
    "y = max_temp\n",
    "\n",
    "(slope, intercept, rvalue, pvalue, stderr) = linregress (x,y)\n",
    "regress_values = x * slope + intercept\n",
    "line_eq = \"y = \" + str(round(slope,2)) + \"x + \" + str(round(intercept,2))\n",
    "correlation = round(st.pearsonr(latitude,max_temp)[0],2)\n",
    "\n",
    "plt.scatter(x,y, marker=\"o\", s=10)\n",
    "plt.plot(x,regress_values,\"r-\")\n",
    "plt.annotate(line_eq,(-50,85),fontsize=15,color=\"red\")\n",
    "plt.title(\"Southern Hemisphere-Max Temp vs Latitude\")\n",
    "plt.ylabel(\"Max Temp\")\n",
    "plt.xlabel(\"Latitude\")\n",
    "plt.grid(True)\n",
    "\n",
    "print(f\"The r-squared is: {rvalue**2}\")\n",
    "\n",
    "#save\n",
    "plt.savefig(\"output_plots/south_temp_latitude_plot.png\")\n",
    "\n",
    "#show\n",
    "plt.show()"
   ]
  },
  {
   "cell_type": "markdown",
   "metadata": {},
   "source": [
    "Here we're seeing max tempratures and how they relate to our southern cities. As expected, the temparatures do decrease the further we are from the equator. However, the lowest max temperatures we see in our southern hemisphere are in the 40-50 degree range, in comparison to our northern hemisphere cities getting down to the single digits."
   ]
  },
  {
   "cell_type": "markdown",
   "metadata": {},
   "source": [
    "####  Northern Hemisphere - Humidity (%) vs. Latitude Linear Regression"
   ]
  },
  {
   "cell_type": "code",
   "execution_count": 39,
   "metadata": {},
   "outputs": [
    {
     "name": "stdout",
     "output_type": "stream",
     "text": [
      "The r-squared is: 0.10878498475474466\n"
     ]
    },
    {
     "data": {
      "image/png": "[encoded data removed]",
      "text/plain": [
       "<Figure size 432x288 with 1 Axes>"
      ]
     },
     "metadata": {
      "needs_background": "light"
     },
     "output_type": "display_data"
    }
   ],
   "source": [
    "#scatter plot & linear regression\n",
    "latitude = north_latitude[\"Lat\"]\n",
    "humidity = north_latitude[\"Humidity\"]\n",
    "\n",
    "x = latitude\n",
    "y = humidity\n",
    "\n",
    "(slope, intercept, rvalue, pvalue, stderr) = linregress (x,y)\n",
    "regress_values = x * slope + intercept\n",
    "line_eq = \"y = \" + str(round(slope,2)) + \"x + \" + str(round(intercept,2))\n",
    "correlation = round(st.pearsonr(latitude,humidity)[0],2)\n",
    "\n",
    "plt.scatter(x, y, marker=\"o\", s=10)\n",
    "plt.plot(x,regress_values,\"r-\")\n",
    "plt.annotate(line_eq,(45,15),fontsize=15,color=\"red\")\n",
    "plt.title(\"Northern Hemisphere-Humidity % vs Latitude\")\n",
    "plt.ylabel(\"Humidity\")\n",
    "plt.xlabel(\"Latitude\")\n",
    "plt.grid(True)\n",
    "\n",
    "print(f\"The r-squared is: {rvalue**2}\")\n",
    "\n",
    "#save\n",
    "plt.savefig(\"output_plots/north_humidity_latitude_plot.png\")\n",
    "\n",
    "#show\n",
    "plt.show()"
   ]
  },
  {
   "cell_type": "markdown",
   "metadata": {},
   "source": [
    "A good amount of cities in our northern hemisphere have humidity levels of 80-100%. However, there is no statistical relationship between northern hemisphere cities' location from the equator and their humidity levels. "
   ]
  },
  {
   "cell_type": "markdown",
   "metadata": {},
   "source": [
    "####  Southern Hemisphere - Humidity (%) vs. Latitude Linear Regression"
   ]
  },
  {
   "cell_type": "code",
   "execution_count": 41,
   "metadata": {},
   "outputs": [
    {
     "name": "stdout",
     "output_type": "stream",
     "text": [
      "The r-squared is: 0.009816734134578427\n"
     ]
    },
    {
     "data": {
      "image/png": "[encoded data removed]",
      "text/plain": [
       "<Figure size 432x288 with 1 Axes>"
      ]
     },
     "metadata": {
      "needs_background": "light"
     },
     "output_type": "display_data"
    }
   ],
   "source": [
    "#scatter plot & linear regression\n",
    "latitude = south_latitude[\"Lat\"]\n",
    "humidity = south_latitude[\"Humidity\"]\n",
    "\n",
    "x = latitude\n",
    "y = humidity\n",
    "\n",
    "(slope, intercept, rvalue, pvalue, stderr) = linregress (x,y)\n",
    "regress_values = x * slope + intercept\n",
    "line_eq = \"y = \" + str(round(slope,2)) + \"x + \" + str(round(intercept,2))\n",
    "correlation = round(st.pearsonr(latitude,humidity)[0],2)\n",
    "\n",
    "plt.scatter(x,y, marker=\"o\", s=10)\n",
    "plt.plot(x,regress_values,\"r-\")\n",
    "plt.annotate(line_eq,(-55,25),fontsize=15,color=\"red\")\n",
    "plt.title(\"Southern Hemisphere-Humidity % vs Latitude\")\n",
    "plt.ylabel(\"Humidity\")\n",
    "plt.xlabel(\"Latitude\")\n",
    "plt.grid(True)\n",
    "\n",
    "print(f\"The r-squared is: {rvalue**2}\")\n",
    "\n",
    "#save\n",
    "plt.savefig(\"output_plots/south_humidity_latitude_plot.png\")\n",
    "\n",
    "#show\n",
    "plt.show()"
   ]
  },
  {
   "cell_type": "markdown",
   "metadata": {},
   "source": [
    "We see a similar result in our southern hemisphere humidity plot in that there is no statistical relationship between southern cities relative location to the equator and it's humidity. "
   ]
  },
  {
   "cell_type": "markdown",
   "metadata": {},
   "source": [
    "####  Northern Hemisphere - Cloudiness (%) vs. Latitude Linear Regression"
   ]
  },
  {
   "cell_type": "code",
   "execution_count": 43,
   "metadata": {},
   "outputs": [
    {
     "name": "stdout",
     "output_type": "stream",
     "text": [
      "The r-squared is: 0.05829306053225496\n"
     ]
    },
    {
     "data": {
      "image/png": "[encoded data removed]",
      "text/plain": [
       "<Figure size 432x288 with 1 Axes>"
      ]
     },
     "metadata": {
      "needs_background": "light"
     },
     "output_type": "display_data"
    }
   ],
   "source": [
    "#scatter plot & linear regression\n",
    "latitude = north_latitude[\"Lat\"]\n",
    "cloudiness = north_latitude[\"Cloudiness\"]\n",
    "\n",
    "x = latitude\n",
    "y = cloudiness\n",
    "\n",
    "(slope, intercept, rvalue, pvalue, stderr) = linregress (x,y)\n",
    "regress_values = x * slope + intercept\n",
    "line_eq = \"y = \" + str(round(slope,2)) + \"x + \" + str(round(intercept,2))\n",
    "correlation = round(st.pearsonr(latitude,cloudiness)[0],2)\n",
    "\n",
    "plt.scatter(x,y, marker=\"o\", s=10)\n",
    "plt.plot(x,regress_values,\"r-\")\n",
    "plt.annotate(line_eq,(50,25),fontsize=15,color=\"red\")\n",
    "plt.title(\"Northern Hemisphere-Cloudiness % vs Latitude\")\n",
    "plt.ylabel(\"Cloudiness\")\n",
    "plt.xlabel(\"Latitude\")\n",
    "plt.grid(True)\n",
    "\n",
    "print(f\"The r-squared is: {rvalue**2}\")\n",
    "\n",
    "#save\n",
    "plt.savefig(\"output_plots/north_cloudiness_latitude_plot.png\")\n",
    "\n",
    "#show\n",
    "plt.show()"
   ]
  },
  {
   "cell_type": "markdown",
   "metadata": {},
   "source": [
    "A lot of cities in the northern hemisphere either have no clouds, or a lot of clouds. But overall, there is no statistical relationship between cloudiness and northern cities' relative location to the equator."
   ]
  },
  {
   "cell_type": "markdown",
   "metadata": {},
   "source": [
    "####  Southern Hemisphere - Cloudiness (%) vs. Latitude Linear Regression"
   ]
  },
  {
   "cell_type": "code",
   "execution_count": 44,
   "metadata": {},
   "outputs": [
    {
     "name": "stdout",
     "output_type": "stream",
     "text": [
      "The r-squared is: 0.022131106703017732\n"
     ]
    },
    {
     "data": {
      "image/png": "[encoded data removed]",
      "text/plain": [
       "<Figure size 432x288 with 1 Axes>"
      ]
     },
     "metadata": {
      "needs_background": "light"
     },
     "output_type": "display_data"
    }
   ],
   "source": [
    "#scatter plot & linear regression\n",
    "latitude = south_latitude[\"Lat\"]\n",
    "cloudiness = south_latitude[\"Cloudiness\"]\n",
    "\n",
    "x = latitude\n",
    "y = cloudiness\n",
    "\n",
    "(slope, intercept, rvalue, pvalue, stderr) = linregress (x,y)\n",
    "regress_values = x * slope + intercept\n",
    "line_eq = \"y = \" + str(round(slope,2)) + \"x + \" + str(round(intercept,2))\n",
    "correlation = round(st.pearsonr(latitude,cloudiness)[0],2)\n",
    "\n",
    "plt.scatter(x,y, marker=\"o\", s=10)\n",
    "plt.plot(x,regress_values,\"r-\")\n",
    "plt.annotate(line_eq,(-55,20),fontsize=15,color=\"red\")\n",
    "plt.title(\"Southern Hemisphere-Cloudiness % vs Latitude\")\n",
    "plt.ylabel(\"Cloudiness\")\n",
    "plt.xlabel(\"Latitude\")\n",
    "plt.grid(True)\n",
    "\n",
    "print(f\"The r-squared is: {rvalue**2}\")\n",
    "\n",
    "#save\n",
    "plt.savefig(\"output_plots/south_cloudiness_latitude_plot.png\")\n",
    "\n",
    "#show\n",
    "plt.show()"
   ]
  },
  {
   "cell_type": "markdown",
   "metadata": {},
   "source": [
    "Similar to our northern cities, our southern hempishere cities' relative location to the equator has no statistical impact on cloudiness in those cities."
   ]
  },
  {
   "cell_type": "markdown",
   "metadata": {},
   "source": [
    "####  Northern Hemisphere - Wind Speed (mph) vs. Latitude Linear Regression"
   ]
  },
  {
   "cell_type": "code",
   "execution_count": 46,
   "metadata": {},
   "outputs": [
    {
     "name": "stdout",
     "output_type": "stream",
     "text": [
      "The r-squared is: 0.050430941319974075\n"
     ]
    },
    {
     "data": {
      "image/png": "[encoded data removed]",
      "text/plain": [
       "<Figure size 432x288 with 1 Axes>"
      ]
     },
     "metadata": {
      "needs_background": "light"
     },
     "output_type": "display_data"
    }
   ],
   "source": [
    "#scatter plot & linear regression\n",
    "latitude = north_latitude[\"Lat\"]\n",
    "wind_speed = north_latitude[\"Wind Speed\"]\n",
    "\n",
    "x = latitude\n",
    "y = wind_speed\n",
    "\n",
    "(slope, intercept, rvalue, pvalue, stderr) = linregress (x,y)\n",
    "regress_values = x * slope + intercept\n",
    "line_eq = \"y = \" + str(round(slope,2)) + \"x + \" + str(round(intercept,2))\n",
    "correlation = round(st.pearsonr(latitude,wind_speed)[0],2)\n",
    "\n",
    "plt.scatter(x,y, marker=\"o\", s=10)\n",
    "plt.plot(x,regress_values,\"r-\")\n",
    "plt.annotate(line_eq,(0,50),fontsize=15,color=\"red\")\n",
    "plt.title(\"Northern Hemisphere-Wind Speed (mph) vs Latitude\")\n",
    "plt.ylabel(\"Wind Speed\")\n",
    "plt.xlabel(\"Latitude\")\n",
    "plt.grid(True)\n",
    "\n",
    "print(f\"The r-squared is: {rvalue**2}\")\n",
    "\n",
    "#save\n",
    "plt.savefig(\"output_plots/north_windspeed_latitude_plot.png\")\n",
    "\n",
    "#show\n",
    "plt.show()"
   ]
  },
  {
   "cell_type": "markdown",
   "metadata": {},
   "source": [
    "Our wind speeds to the north are, for the most part, relatively low. However, our cities' locations in relation to the equator do not have a statistical relationship with wind speed. "
   ]
  },
  {
   "cell_type": "markdown",
   "metadata": {},
   "source": [
    "####  Southern Hemisphere - Wind Speed (mph) vs. Latitude Linear Regression"
   ]
  },
  {
   "cell_type": "code",
   "execution_count": 48,
   "metadata": {},
   "outputs": [
    {
     "name": "stdout",
     "output_type": "stream",
     "text": [
      "The r-squared is: 0.09278958694941605\n"
     ]
    },
    {
     "data": {
      "image/png": "[encoded data removed]",
      "text/plain": [
       "<Figure size 432x288 with 1 Axes>"
      ]
     },
     "metadata": {
      "needs_background": "light"
     },
     "output_type": "display_data"
    }
   ],
   "source": [
    "#scatter plot & linear regression\n",
    "latitude = south_latitude[\"Lat\"]\n",
    "wind_speed = south_latitude[\"Wind Speed\"]\n",
    "\n",
    "x = latitude\n",
    "y = wind_speed\n",
    "\n",
    "(slope, intercept, rvalue, pvalue, stderr) = linregress (x,y)\n",
    "regress_values = x * slope + intercept\n",
    "line_eq = \"y = \" + str(round(slope,2)) + \"x + \" + str(round(intercept,2))\n",
    "correlation = round(st.pearsonr(latitude,wind_speed)[0],2)\n",
    "\n",
    "plt.scatter(x,y, marker=\"o\", s=10)\n",
    "plt.plot(x,regress_values,\"r-\")\n",
    "plt.annotate(line_eq,(-55,20),fontsize=15,color=\"red\")\n",
    "plt.title(\"Southern Hemisphere-Wind Speed (mph) vs Latitude\")\n",
    "plt.ylabel(\"Wind Speed\")\n",
    "plt.xlabel(\"Latitude\")\n",
    "plt.grid(True)\n",
    "\n",
    "print(f\"The r-squared is: {rvalue**2}\")\n",
    "\n",
    "#save\n",
    "plt.savefig(\"output_plots/south_windspeed_latitude_plot.png\")\n",
    "\n",
    "#show\n",
    "plt.show()"
   ]
  },
  {
   "cell_type": "markdown",
   "metadata": {},
   "source": [
    "Southern cities' wind speeds are much more scattered but also do not have a statistical relationship to cities' locations in relation to the equator. "
   ]
  },
  {
   "cell_type": "code",
   "execution_count": null,
   "metadata": {},
   "outputs": [],
   "source": []
  }
 ],
 "metadata": {
  "anaconda-cloud": {},
  "kernel_info": {
   "name": "python3"
  },
  "kernelspec": {
   "display_name": "Python [conda env:PythonData] *",
   "language": "python",
   "name": "conda-env-PythonData-py"
  },
  "language_info": {
   "codemirror_mode": {
    "name": "ipython",
    "version": 3
   },
   "file_extension": ".py",
   "mimetype": "text/x-python",
   "name": "python",
   "nbconvert_exporter": "python",
   "pygments_lexer": "ipython3",
   "version": "3.7.1"
  },
  "latex_envs": {
   "LaTeX_envs_menu_present": true,
   "autoclose": false,
   "autocomplete": true,
   "bibliofile": "biblio.bib",
   "cite_by": "apalike",
   "current_citInitial": 1,
   "eqLabelWithNumbers": true,
   "eqNumInitial": 1,
   "hotkeys": {
    "equation": "Ctrl-E",
    "itemize": "Ctrl-I"
   },
   "labels_anchors": false,
   "latex_user_defs": false,
   "report_style_numbering": false,
   "user_envs_cfg": false
  },
  "nteract": {
   "version": "0.12.3"
  }
 },
 "nbformat": 4,
 "nbformat_minor": 2
}
