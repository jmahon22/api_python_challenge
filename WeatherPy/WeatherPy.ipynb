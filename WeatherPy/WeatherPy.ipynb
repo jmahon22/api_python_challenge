{
 "cells": [
  {
   "cell_type": "markdown",
   "metadata": {},
   "source": [
    "# WeatherPy\n",
    "----\n",
    "\n",
    "#### Note\n",
    "* Instructions have been included for each segment. You do not have to follow them exactly, but they are included to help you think through the steps."
   ]
  },
  {
   "cell_type": "code",
   "execution_count": 1,
   "metadata": {
    "scrolled": true
   },
   "outputs": [],
   "source": [
    "# Dependencies and Setup\n",
    "\n",
    "import matplotlib.pyplot as plt\n",
    "import pandas as pd\n",
    "import numpy as np\n",
    "import requests\n",
    "import time\n",
    "from scipy.stats import linregress\n",
    "import json\n",
    "from pprint import pprint\n",
    "import scipy.stats as st\n",
    "\n",
    "# Import API key\n",
    "from api_keys import weather_api_key\n",
    "\n",
    "\n",
    "# Incorporated citipy to determine city based on latitude and longitude\n",
    "from citipy import citipy\n",
    "\n",
    "# Output File (CSV)\n",
    "output_data_file = \"output_data/cities.csv\"\n",
    "\n",
    "# Range of latitudes and longitudes\n",
    "lat_range = (-90, 90)\n",
    "lng_range = (-180, 180)"
   ]
  },
  {
   "cell_type": "markdown",
   "metadata": {},
   "source": [
    "## Generate Cities List"
   ]
  },
  {
   "cell_type": "code",
   "execution_count": 2,
   "metadata": {},
   "outputs": [
    {
     "data": {
      "text/plain": [
       "646"
      ]
     },
     "execution_count": 2,
     "metadata": {},
     "output_type": "execute_result"
    }
   ],
   "source": [
    "# List for holding lat_lngs and cities\n",
    "lat_lngs = []\n",
    "cities = []\n",
    "\n",
    "# random lat and lng combinations\n",
    "lats = np.random.uniform(lat_range[0], lat_range[1], size=1500)\n",
    "lngs = np.random.uniform(lng_range[0], lng_range[1], size=1500)\n",
    "lat_lngs = zip(lats, lngs)\n",
    "\n",
    "# Identify nearest city for each lat, lng combination\n",
    "for lat_lng in lat_lngs:\n",
    "    city = citipy.nearest_city(lat_lng[0], lat_lng[1]).city_name\n",
    "    \n",
    "    # If the city is unique, then add it to a our cities list\n",
    "    if city not in cities:\n",
    "        cities.append(city)\n",
    "\n",
    "# Print the city count to confirm sufficient count\n",
    "len(cities)"
   ]
  },
  {
   "cell_type": "markdown",
   "metadata": {},
   "source": [
    "### Perform API Calls\n",
    "* Perform a weather check on each city using a series of successive API calls.\n",
    "* Include a print log of each city as it'sbeing processed (with the city number and city name).\n"
   ]
  },
  {
   "cell_type": "code",
   "execution_count": 3,
   "metadata": {},
   "outputs": [],
   "source": [
    "#url\n",
    "#url = \"http://api.openweathermap.org/data/2.5/weather?\"\n",
    "temp_units = \"Imperial\"\n",
    "query_url = f\"http://api.openweathermap.org/data/2.5/weather?units={temp_units}&APPID={weather_api_key}&q=\""
   ]
  },
  {
   "cell_type": "code",
   "execution_count": 4,
   "metadata": {
    "scrolled": true
   },
   "outputs": [],
   "source": [
    "#response = requests.get(query_url).json()\n",
    "#print(json.dumps(response, indent=4, sort_keys=True))"
   ]
  },
  {
   "cell_type": "code",
   "execution_count": 5,
   "metadata": {
    "scrolled": true
   },
   "outputs": [
    {
     "name": "stdout",
     "output_type": "stream",
     "text": [
      "Processing Record 1 of Set 1 | geraldton\n",
      "Processing Record 2 of Set 1 | nikolskoye\n",
      "Processing Record 3 of Set 1 | east london\n",
      "Processing Record 4 of Set 1 | yellowknife\n",
      "Processing Record 5 of Set 1 | tiksi\n",
      "Processing Record 6 of Set 1 | vaini\n",
      "Processing Record 7 of Set 1 | kodiak\n",
      "Processing Record 8 of Set 1 | victoria\n",
      "Processing Record 9 of Set 1 | hilo\n",
      "Processing Record 10 of Set 1 | mahina\n",
      "Processing Record 11 of Set 1 | andapa\n",
      "Processing Record 12 of Set 1 | alekseyevsk\n",
      "Processing Record 13 of Set 1 | ushuaia\n",
      "Processing Record 14 of Set 1 | belaya rechka\n",
      "Processing Record 15 of Set 1 | thompson\n",
      "Processing Record 16 of Set 1 | qaanaaq\n",
      "Processing Record 17 of Set 1 | egvekinot\n",
      "Processing Record 18 of Set 1 | saint-augustin\n",
      "Processing Record 19 of Set 1 | rikitea\n",
      "Processing Record 20 of Set 1 | belgrade\n",
      "Processing Record 21 of Set 1 | puerto ayora\n",
      "Processing Record 22 of Set 1 | aldergrove\n",
      "Processing Record 23 of Set 1 | bluff\n",
      "Processing Record 24 of Set 1 | hermanus\n",
      "Processing Record 25 of Set 1 | talnakh\n",
      "Processing Record 26 of Set 1 | busselton\n",
      "Processing Record 27 of Set 1 | bredasdorp\n",
      "City not found. Skipping...\n",
      "Processing Record 28 of Set 1 | tanga\n",
      "Processing Record 29 of Set 1 | camacha\n",
      "Processing Record 30 of Set 1 | klaksvik\n",
      "Processing Record 31 of Set 1 | cherskiy\n",
      "Processing Record 32 of Set 1 | mataura\n",
      "Processing Record 33 of Set 1 | abu dhabi\n",
      "City not found. Skipping...\n",
      "Processing Record 34 of Set 1 | tasiilaq\n",
      "Processing Record 35 of Set 1 | richards bay\n",
      "Processing Record 36 of Set 1 | camenca\n",
      "Processing Record 37 of Set 1 | gat\n",
      "Processing Record 38 of Set 1 | esperance\n",
      "Processing Record 39 of Set 1 | hithadhoo\n",
      "Processing Record 40 of Set 1 | barrow\n",
      "Processing Record 41 of Set 1 | butaritari\n",
      "Processing Record 42 of Set 1 | grand river south east\n",
      "Processing Record 43 of Set 1 | mehamn\n",
      "City not found. Skipping...\n",
      "Processing Record 44 of Set 1 | spas-klepiki\n",
      "Processing Record 45 of Set 1 | carnarvon\n",
      "Processing Record 46 of Set 1 | hobart\n",
      "Processing Record 47 of Set 1 | salalah\n",
      "Processing Record 48 of Set 1 | kahului\n",
      "Processing Record 49 of Set 1 | lata\n",
      "Processing Record 50 of Set 1 | coquimbo\n",
      "Processing Record 1 of Set 2 | morehead\n",
      "Processing Record 2 of Set 2 | kapaa\n",
      "Processing Record 3 of Set 2 | comodoro rivadavia\n",
      "Processing Record 4 of Set 2 | chokurdakh\n",
      "Processing Record 5 of Set 2 | jamestown\n",
      "Processing Record 6 of Set 2 | bengkulu\n",
      "City not found. Skipping...\n",
      "Processing Record 7 of Set 2 | omboue\n",
      "Processing Record 8 of Set 2 | juneau\n",
      "Processing Record 9 of Set 2 | saint-philippe\n",
      "Processing Record 10 of Set 2 | sao miguel do araguaia\n",
      "Processing Record 11 of Set 2 | lebu\n",
      "Processing Record 12 of Set 2 | aitape\n",
      "Processing Record 13 of Set 2 | buala\n",
      "Processing Record 14 of Set 2 | fagersta\n",
      "City not found. Skipping...\n",
      "Processing Record 15 of Set 2 | vao\n",
      "Processing Record 16 of Set 2 | eyl\n",
      "Processing Record 17 of Set 2 | punta arenas\n",
      "Processing Record 18 of Set 2 | port alfred\n",
      "Processing Record 19 of Set 2 | katangli\n",
      "Processing Record 20 of Set 2 | timbiqui\n",
      "Processing Record 21 of Set 2 | beni mazar\n",
      "Processing Record 22 of Set 2 | varhaug\n",
      "Processing Record 23 of Set 2 | fayaoue\n",
      "Processing Record 24 of Set 2 | ust-kuyga\n",
      "Processing Record 25 of Set 2 | santa fe\n",
      "Processing Record 26 of Set 2 | fairbanks\n",
      "Processing Record 27 of Set 2 | coahuayana\n",
      "City not found. Skipping...\n",
      "Processing Record 28 of Set 2 | cayenne\n",
      "Processing Record 29 of Set 2 | cape town\n",
      "Processing Record 30 of Set 2 | avarua\n",
      "Processing Record 31 of Set 2 | sao joao da barra\n",
      "Processing Record 32 of Set 2 | longyearbyen\n",
      "Processing Record 33 of Set 2 | kruisfontein\n",
      "Processing Record 34 of Set 2 | albany\n",
      "Processing Record 35 of Set 2 | olafsvik\n",
      "Processing Record 36 of Set 2 | provideniya\n",
      "Processing Record 37 of Set 2 | hamilton\n",
      "Processing Record 38 of Set 2 | flinders\n",
      "Processing Record 39 of Set 2 | arraial do cabo\n",
      "Processing Record 40 of Set 2 | ngunguru\n",
      "Processing Record 41 of Set 2 | okhotsk\n",
      "Processing Record 42 of Set 2 | pisco\n",
      "Processing Record 43 of Set 2 | olinda\n",
      "Processing Record 44 of Set 2 | celestun\n",
      "Processing Record 45 of Set 2 | severo-kurilsk\n",
      "Processing Record 46 of Set 2 | chuy\n",
      "City not found. Skipping...\n",
      "City not found. Skipping...\n",
      "Processing Record 47 of Set 2 | bethel\n",
      "Processing Record 48 of Set 2 | oliva\n",
      "Processing Record 49 of Set 2 | san juan\n",
      "City not found. Skipping...\n",
      "Processing Record 50 of Set 2 | touros\n",
      "Processing Record 1 of Set 3 | wenling\n",
      "Processing Record 2 of Set 3 | yar-sale\n",
      "Processing Record 3 of Set 3 | wewak\n",
      "Processing Record 4 of Set 3 | oytal\n",
      "Processing Record 5 of Set 3 | aklavik\n",
      "Processing Record 6 of Set 3 | asau\n",
      "Processing Record 7 of Set 3 | mafeteng\n",
      "Processing Record 8 of Set 3 | atuona\n",
      "City not found. Skipping...\n",
      "Processing Record 9 of Set 3 | sept-iles\n",
      "City not found. Skipping...\n",
      "Processing Record 10 of Set 3 | ponta do sol\n",
      "City not found. Skipping...\n",
      "Processing Record 11 of Set 3 | ponta delgada\n",
      "Processing Record 12 of Set 3 | sioux lookout\n",
      "Processing Record 13 of Set 3 | dikson\n",
      "Processing Record 14 of Set 3 | phan thiet\n",
      "Processing Record 15 of Set 3 | saint-georges\n",
      "Processing Record 16 of Set 3 | wanning\n",
      "Processing Record 17 of Set 3 | meulaboh\n",
      "Processing Record 18 of Set 3 | new norfolk\n",
      "City not found. Skipping...\n",
      "Processing Record 19 of Set 3 | eirunepe\n",
      "Processing Record 20 of Set 3 | lorengau\n",
      "Processing Record 21 of Set 3 | kawalu\n",
      "Processing Record 22 of Set 3 | cidreira\n",
      "Processing Record 23 of Set 3 | bambous virieux\n",
      "Processing Record 24 of Set 3 | norman wells\n",
      "Processing Record 25 of Set 3 | oranjemund\n",
      "Processing Record 26 of Set 3 | arlit\n",
      "Processing Record 27 of Set 3 | castro\n",
      "City not found. Skipping...\n",
      "Processing Record 28 of Set 3 | banchory\n",
      "Processing Record 29 of Set 3 | warrnambool\n",
      "Processing Record 30 of Set 3 | vicente guerrero\n",
      "Processing Record 31 of Set 3 | kulhudhuffushi\n",
      "Processing Record 32 of Set 3 | cockburn town\n",
      "Processing Record 33 of Set 3 | poso\n",
      "Processing Record 34 of Set 3 | sobolevo\n",
      "Processing Record 35 of Set 3 | kamaishi\n",
      "Processing Record 36 of Set 3 | batagay-alyta\n",
      "Processing Record 37 of Set 3 | avera\n",
      "City not found. Skipping...\n",
      "Processing Record 38 of Set 3 | kokemaki\n",
      "Processing Record 39 of Set 3 | marsa matruh\n",
      "Processing Record 40 of Set 3 | ancud\n",
      "Processing Record 41 of Set 3 | beroroha\n",
      "Processing Record 42 of Set 3 | atar\n",
      "Processing Record 43 of Set 3 | monroe\n",
      "Processing Record 44 of Set 3 | padang\n",
      "Processing Record 45 of Set 3 | tabou\n",
      "Processing Record 46 of Set 3 | muros\n",
      "Processing Record 47 of Set 3 | clyde river\n",
      "Processing Record 48 of Set 3 | esna\n",
      "Processing Record 49 of Set 3 | tura\n",
      "Processing Record 50 of Set 3 | smithers\n",
      "Processing Record 1 of Set 4 | bathsheba\n",
      "Processing Record 2 of Set 4 | jablah\n",
      "Processing Record 3 of Set 4 | boa vista\n",
      "Processing Record 4 of Set 4 | mys shmidta\n",
      "Processing Record 5 of Set 4 | san benito\n",
      "Processing Record 6 of Set 4 | tuy hoa\n",
      "Processing Record 7 of Set 4 | vytegra\n",
      "Processing Record 8 of Set 4 | krasnoselkup\n",
      "Processing Record 9 of Set 4 | edd\n",
      "City not found. Skipping...\n",
      "Processing Record 10 of Set 4 | tutoia\n",
      "Processing Record 11 of Set 4 | kupang\n",
      "Processing Record 12 of Set 4 | souillac\n",
      "Processing Record 13 of Set 4 | pevek\n",
      "Processing Record 14 of Set 4 | faya\n",
      "Processing Record 15 of Set 4 | georgetown\n",
      "Processing Record 16 of Set 4 | lasa\n",
      "City not found. Skipping...\n",
      "Processing Record 17 of Set 4 | katsuura\n",
      "Processing Record 18 of Set 4 | bonavista\n",
      "Processing Record 19 of Set 4 | oriximina\n",
      "Processing Record 20 of Set 4 | guia lopes da laguna\n",
      "City not found. Skipping...\n",
      "Processing Record 21 of Set 4 | nyrob\n",
      "Processing Record 22 of Set 4 | miles city\n",
      "Processing Record 23 of Set 4 | chor\n",
      "City not found. Skipping...\n",
      "Processing Record 24 of Set 4 | vryheid\n",
      "Processing Record 25 of Set 4 | kirando\n",
      "City not found. Skipping...\n",
      "City not found. Skipping...\n",
      "Processing Record 26 of Set 4 | korem\n",
      "City not found. Skipping...\n",
      "Processing Record 27 of Set 4 | acarau\n",
      "Processing Record 28 of Set 4 | cabo san lucas\n",
      "Processing Record 29 of Set 4 | benguela\n",
      "City not found. Skipping...\n",
      "Processing Record 30 of Set 4 | qeshm\n",
      "Processing Record 31 of Set 4 | komsomolskiy\n",
      "Processing Record 32 of Set 4 | parabel\n",
      "Processing Record 33 of Set 4 | tuktoyaktuk\n",
      "Processing Record 34 of Set 4 | neuquen\n"
     ]
    },
    {
     "name": "stdout",
     "output_type": "stream",
     "text": [
      "Processing Record 35 of Set 4 | inirida\n",
      "Processing Record 36 of Set 4 | dongkan\n",
      "Processing Record 37 of Set 4 | chadan\n",
      "Processing Record 38 of Set 4 | barreirinhas\n",
      "City not found. Skipping...\n",
      "Processing Record 39 of Set 4 | berbera\n",
      "Processing Record 40 of Set 4 | hastings\n",
      "Processing Record 41 of Set 4 | airai\n",
      "Processing Record 42 of Set 4 | palauig\n",
      "Processing Record 43 of Set 4 | mahebourg\n",
      "Processing Record 44 of Set 4 | ushibuka\n",
      "Processing Record 45 of Set 4 | kavieng\n",
      "Processing Record 46 of Set 4 | sompeta\n",
      "Processing Record 47 of Set 4 | cacador\n",
      "Processing Record 48 of Set 4 | isangel\n",
      "Processing Record 49 of Set 4 | kavaratti\n",
      "Processing Record 50 of Set 4 | benicarlo\n",
      "Processing Record 1 of Set 5 | sitka\n",
      "Processing Record 2 of Set 5 | iracoubo\n",
      "Processing Record 3 of Set 5 | manaus\n",
      "Processing Record 4 of Set 5 | namatanai\n",
      "Processing Record 5 of Set 5 | fort nelson\n",
      "Processing Record 6 of Set 5 | san patricio\n",
      "Processing Record 7 of Set 5 | port elizabeth\n",
      "Processing Record 8 of Set 5 | tripoli\n",
      "Processing Record 9 of Set 5 | epe\n",
      "Processing Record 10 of Set 5 | rimini\n",
      "Processing Record 11 of Set 5 | puerto colombia\n",
      "Processing Record 12 of Set 5 | ahipara\n",
      "Processing Record 13 of Set 5 | berdigestyakh\n",
      "Processing Record 14 of Set 5 | khatanga\n",
      "City not found. Skipping...\n",
      "Processing Record 15 of Set 5 | khilok\n",
      "Processing Record 16 of Set 5 | natchez\n",
      "Processing Record 17 of Set 5 | sao filipe\n",
      "Processing Record 18 of Set 5 | almeirim\n",
      "Processing Record 19 of Set 5 | grand gaube\n",
      "Processing Record 20 of Set 5 | orcopampa\n",
      "City not found. Skipping...\n",
      "Processing Record 21 of Set 5 | doda\n",
      "City not found. Skipping...\n",
      "Processing Record 22 of Set 5 | surazh\n",
      "Processing Record 23 of Set 5 | mufulira\n",
      "Processing Record 24 of Set 5 | brigantine\n",
      "Processing Record 25 of Set 5 | bereda\n",
      "Processing Record 26 of Set 5 | vardo\n",
      "Processing Record 27 of Set 5 | monywa\n",
      "Processing Record 28 of Set 5 | ostersund\n",
      "Processing Record 29 of Set 5 | trat\n",
      "Processing Record 30 of Set 5 | nome\n",
      "Processing Record 31 of Set 5 | moose factory\n",
      "Processing Record 32 of Set 5 | mackay\n",
      "Processing Record 33 of Set 5 | ziro\n",
      "Processing Record 34 of Set 5 | lubango\n",
      "Processing Record 35 of Set 5 | seymchan\n",
      "Processing Record 36 of Set 5 | husavik\n",
      "City not found. Skipping...\n",
      "Processing Record 37 of Set 5 | hasaki\n",
      "Processing Record 38 of Set 5 | champerico\n",
      "Processing Record 39 of Set 5 | shaoyang\n",
      "Processing Record 40 of Set 5 | ferrol\n",
      "Processing Record 41 of Set 5 | bilibino\n",
      "Processing Record 42 of Set 5 | zaysan\n",
      "Processing Record 43 of Set 5 | kambove\n",
      "Processing Record 44 of Set 5 | vostok\n",
      "Processing Record 45 of Set 5 | saldanha\n",
      "Processing Record 46 of Set 5 | seoul\n",
      "Processing Record 47 of Set 5 | qinzhou\n",
      "Processing Record 48 of Set 5 | ulaanbaatar\n",
      "City not found. Skipping...\n",
      "Processing Record 49 of Set 5 | shenjiamen\n",
      "Processing Record 50 of Set 5 | makat\n",
      "Processing Record 1 of Set 6 | moindou\n",
      "Processing Record 2 of Set 6 | saskylakh\n",
      "Processing Record 3 of Set 6 | maputo\n",
      "Processing Record 4 of Set 6 | huangpi\n",
      "Processing Record 5 of Set 6 | khandyga\n",
      "Processing Record 6 of Set 6 | tamiahua\n",
      "Processing Record 7 of Set 6 | vancouver\n",
      "Processing Record 8 of Set 6 | qaqortoq\n",
      "Processing Record 9 of Set 6 | charlestown\n",
      "Processing Record 10 of Set 6 | torbay\n",
      "Processing Record 11 of Set 6 | vallenar\n",
      "Processing Record 12 of Set 6 | jackson\n",
      "Processing Record 13 of Set 6 | rovnoye\n",
      "Processing Record 14 of Set 6 | boende\n",
      "Processing Record 15 of Set 6 | mao\n",
      "Processing Record 16 of Set 6 | gubkinskiy\n",
      "Processing Record 17 of Set 6 | hualmay\n",
      "Processing Record 18 of Set 6 | mar del plata\n",
      "City not found. Skipping...\n",
      "Processing Record 19 of Set 6 | port blair\n",
      "Processing Record 20 of Set 6 | mayya\n",
      "Processing Record 21 of Set 6 | kampene\n",
      "Processing Record 22 of Set 6 | northam\n",
      "Processing Record 23 of Set 6 | sinegorye\n",
      "Processing Record 24 of Set 6 | dalby\n",
      "Processing Record 25 of Set 6 | revelstoke\n",
      "Processing Record 26 of Set 6 | sicamous\n",
      "City not found. Skipping...\n",
      "Processing Record 27 of Set 6 | tazovskiy\n",
      "Processing Record 28 of Set 6 | synya\n",
      "City not found. Skipping...\n",
      "Processing Record 29 of Set 6 | hovd\n",
      "Processing Record 30 of Set 6 | tokur\n",
      "Processing Record 31 of Set 6 | palimbang\n",
      "Processing Record 32 of Set 6 | kayerkan\n",
      "Processing Record 33 of Set 6 | tautira\n",
      "Processing Record 34 of Set 6 | haines junction\n",
      "City not found. Skipping...\n",
      "Processing Record 35 of Set 6 | chumphon\n",
      "Processing Record 36 of Set 6 | nuevo ideal\n",
      "City not found. Skipping...\n",
      "Processing Record 37 of Set 6 | waingapu\n",
      "Processing Record 38 of Set 6 | plastun\n",
      "Processing Record 39 of Set 6 | aykhal\n",
      "Processing Record 40 of Set 6 | san ignacio\n",
      "Processing Record 41 of Set 6 | batsfjord\n",
      "Processing Record 42 of Set 6 | scottsbluff\n",
      "Processing Record 43 of Set 6 | mandera\n",
      "Processing Record 44 of Set 6 | srivardhan\n",
      "Processing Record 45 of Set 6 | buzmeyin\n",
      "Processing Record 46 of Set 6 | leningradskiy\n",
      "City not found. Skipping...\n",
      "Processing Record 47 of Set 6 | aqtobe\n",
      "Processing Record 48 of Set 6 | san cristobal\n",
      "Processing Record 49 of Set 6 | knysna\n",
      "Processing Record 50 of Set 6 | quattro castella\n",
      "Processing Record 1 of Set 7 | dali\n",
      "Processing Record 2 of Set 7 | beyneu\n",
      "Processing Record 3 of Set 7 | laguna\n",
      "Processing Record 4 of Set 7 | seinajoki\n",
      "Processing Record 5 of Set 7 | cape elizabeth\n",
      "Processing Record 6 of Set 7 | lermontovka\n",
      "Processing Record 7 of Set 7 | port hardy\n",
      "Processing Record 8 of Set 7 | berlevag\n",
      "Processing Record 9 of Set 7 | dwarka\n",
      "Processing Record 10 of Set 7 | bela\n",
      "Processing Record 11 of Set 7 | merauke\n",
      "City not found. Skipping...\n",
      "Processing Record 12 of Set 7 | iquique\n",
      "Processing Record 13 of Set 7 | doha\n",
      "Processing Record 14 of Set 7 | mae tha\n",
      "Processing Record 15 of Set 7 | port antonio\n",
      "Processing Record 16 of Set 7 | kamenka\n",
      "Processing Record 17 of Set 7 | kijang\n",
      "Processing Record 18 of Set 7 | oranjestad\n",
      "City not found. Skipping...\n",
      "Processing Record 19 of Set 7 | namibe\n",
      "Processing Record 20 of Set 7 | elko\n",
      "Processing Record 21 of Set 7 | floro\n",
      "Processing Record 22 of Set 7 | iguape\n",
      "Processing Record 23 of Set 7 | bulungu\n",
      "Processing Record 24 of Set 7 | bata\n",
      "Processing Record 25 of Set 7 | ghanzi\n",
      "Processing Record 26 of Set 7 | vila velha\n",
      "Processing Record 27 of Set 7 | vangaindrano\n",
      "Processing Record 28 of Set 7 | amot\n",
      "Processing Record 29 of Set 7 | portland\n",
      "Processing Record 30 of Set 7 | ivanivka\n",
      "Processing Record 31 of Set 7 | houma\n",
      "Processing Record 32 of Set 7 | tuatapere\n",
      "Processing Record 33 of Set 7 | fortuna\n",
      "Processing Record 34 of Set 7 | mascote\n",
      "Processing Record 35 of Set 7 | oussouye\n",
      "Processing Record 36 of Set 7 | takoradi\n",
      "Processing Record 37 of Set 7 | tubarao\n",
      "Processing Record 38 of Set 7 | nouadhibou\n",
      "Processing Record 39 of Set 7 | tafo\n",
      "Processing Record 40 of Set 7 | iskateley\n",
      "Processing Record 41 of Set 7 | nemuro\n",
      "Processing Record 42 of Set 7 | indiana\n",
      "Processing Record 43 of Set 7 | bekhtery\n",
      "City not found. Skipping...\n",
      "Processing Record 44 of Set 7 | chicama\n",
      "Processing Record 45 of Set 7 | marakkanam\n",
      "Processing Record 46 of Set 7 | vanavara\n",
      "Processing Record 47 of Set 7 | morondava\n",
      "Processing Record 48 of Set 7 | ilulissat\n",
      "Processing Record 49 of Set 7 | rayevskiy\n",
      "Processing Record 50 of Set 7 | kedrovyy\n",
      "Processing Record 1 of Set 8 | tamandare\n",
      "Processing Record 2 of Set 8 | fairlie\n",
      "Processing Record 3 of Set 8 | miri\n",
      "Processing Record 4 of Set 8 | nola\n",
      "Processing Record 5 of Set 8 | ouegoa\n",
      "Processing Record 6 of Set 8 | port lincoln\n",
      "Processing Record 7 of Set 8 | shingu\n",
      "Processing Record 8 of Set 8 | neiafu\n",
      "Processing Record 9 of Set 8 | deh rawud\n",
      "Processing Record 10 of Set 8 | upernavik\n",
      "Processing Record 11 of Set 8 | shirwal\n",
      "Processing Record 12 of Set 8 | atasu\n",
      "Processing Record 13 of Set 8 | altay\n",
      "Processing Record 14 of Set 8 | prince rupert\n",
      "Processing Record 15 of Set 8 | praia\n",
      "Processing Record 16 of Set 8 | asuncion nochixtlan\n",
      "Processing Record 17 of Set 8 | ambunti\n",
      "City not found. Skipping...\n",
      "Processing Record 18 of Set 8 | svetlyy\n",
      "Processing Record 19 of Set 8 | saint-pierre\n",
      "Processing Record 20 of Set 8 | rio brilhante\n",
      "Processing Record 21 of Set 8 | havre-saint-pierre\n",
      "City not found. Skipping...\n",
      "Processing Record 22 of Set 8 | makakilo city\n",
      "City not found. Skipping...\n",
      "Processing Record 23 of Set 8 | hare bay\n"
     ]
    },
    {
     "name": "stdout",
     "output_type": "stream",
     "text": [
      "Processing Record 24 of Set 8 | crab hill\n",
      "Processing Record 25 of Set 8 | menongue\n",
      "Processing Record 26 of Set 8 | malakal\n",
      "City not found. Skipping...\n",
      "Processing Record 27 of Set 8 | mecca\n",
      "Processing Record 28 of Set 8 | kindu\n",
      "Processing Record 29 of Set 8 | lalibela\n",
      "Processing Record 30 of Set 8 | lavrentiya\n",
      "Processing Record 31 of Set 8 | mabaruma\n",
      "Processing Record 32 of Set 8 | ust-ilimsk\n",
      "Processing Record 33 of Set 8 | boshnyakovo\n",
      "City not found. Skipping...\n",
      "Processing Record 34 of Set 8 | solwezi\n",
      "Processing Record 35 of Set 8 | hami\n",
      "Processing Record 36 of Set 8 | north bend\n",
      "City not found. Skipping...\n",
      "City not found. Skipping...\n",
      "City not found. Skipping...\n",
      "Processing Record 37 of Set 8 | susanville\n",
      "Processing Record 38 of Set 8 | kholm-zhirkovskiy\n",
      "Processing Record 39 of Set 8 | quime\n",
      "Processing Record 40 of Set 8 | nanortalik\n",
      "Processing Record 41 of Set 8 | porto santo\n",
      "City not found. Skipping...\n",
      "Processing Record 42 of Set 8 | taonan\n",
      "Processing Record 43 of Set 8 | korla\n",
      "Processing Record 44 of Set 8 | ribeira grande\n",
      "Processing Record 45 of Set 8 | guerrero negro\n",
      "Processing Record 46 of Set 8 | ostrovnoy\n",
      "Processing Record 47 of Set 8 | lima\n",
      "Processing Record 48 of Set 8 | malindi\n",
      "Processing Record 49 of Set 8 | dunedin\n",
      "City not found. Skipping...\n",
      "Processing Record 50 of Set 8 | kostomuksha\n",
      "City not found. Skipping...\n",
      "Processing Record 1 of Set 9 | codrington\n",
      "Processing Record 2 of Set 9 | carutapera\n",
      "Processing Record 3 of Set 9 | lamu\n",
      "Processing Record 4 of Set 9 | inyonga\n",
      "Processing Record 5 of Set 9 | vestmanna\n",
      "Processing Record 6 of Set 9 | melilla\n",
      "Processing Record 7 of Set 9 | zilupe\n",
      "Processing Record 8 of Set 9 | irbeyskoye\n",
      "Processing Record 9 of Set 9 | baikunthpur\n",
      "Processing Record 10 of Set 9 | dandong\n",
      "Processing Record 11 of Set 9 | harper\n",
      "Processing Record 12 of Set 9 | gold coast\n",
      "Processing Record 13 of Set 9 | lashio\n",
      "Processing Record 14 of Set 9 | bani walid\n",
      "Processing Record 15 of Set 9 | adrar\n",
      "City not found. Skipping...\n",
      "Processing Record 16 of Set 9 | dingle\n",
      "Processing Record 17 of Set 9 | hillsborough\n",
      "Processing Record 18 of Set 9 | veraval\n",
      "Processing Record 19 of Set 9 | dhidhdhoo\n",
      "Processing Record 20 of Set 9 | tarko-sale\n",
      "Processing Record 21 of Set 9 | mount darwin\n",
      "Processing Record 22 of Set 9 | hambantota\n",
      "Processing Record 23 of Set 9 | margate\n",
      "Processing Record 24 of Set 9 | nyagan\n",
      "Processing Record 25 of Set 9 | vizinga\n",
      "Processing Record 26 of Set 9 | boden\n",
      "Processing Record 27 of Set 9 | opuwo\n",
      "Processing Record 28 of Set 9 | kyzyl-suu\n",
      "Processing Record 29 of Set 9 | marsh harbour\n",
      "Processing Record 30 of Set 9 | algiers\n",
      "Processing Record 31 of Set 9 | maralal\n",
      "Processing Record 32 of Set 9 | piacabucu\n",
      "Processing Record 33 of Set 9 | bataipora\n",
      "Processing Record 34 of Set 9 | zabid\n",
      "City not found. Skipping...\n",
      "Processing Record 35 of Set 9 | ventspils\n",
      "Processing Record 36 of Set 9 | stranda\n",
      "Processing Record 37 of Set 9 | vaitape\n",
      "Processing Record 38 of Set 9 | bowen\n",
      "Processing Record 39 of Set 9 | schruns\n",
      "Processing Record 40 of Set 9 | nichinan\n",
      "Processing Record 41 of Set 9 | vilya\n",
      "Processing Record 42 of Set 9 | tecoanapa\n",
      "Processing Record 43 of Set 9 | port-gentil\n",
      "Processing Record 44 of Set 9 | coxim\n",
      "Processing Record 45 of Set 9 | novocheremshansk\n",
      "Processing Record 46 of Set 9 | tavricheskoye\n",
      "Processing Record 47 of Set 9 | poum\n",
      "Processing Record 48 of Set 9 | khorramabad\n",
      "City not found. Skipping...\n",
      "Processing Record 49 of Set 9 | bauchi\n",
      "Processing Record 50 of Set 9 | jumla\n",
      "Processing Record 1 of Set 10 | akyab\n",
      "City not found. Skipping...\n",
      "Processing Record 2 of Set 10 | mount isa\n",
      "Processing Record 3 of Set 10 | rio gallegos\n",
      "Processing Record 4 of Set 10 | lardos\n",
      "Processing Record 5 of Set 10 | westport\n",
      "Processing Record 6 of Set 10 | bima\n",
      "Processing Record 7 of Set 10 | scarborough\n",
      "Processing Record 8 of Set 10 | luderitz\n",
      "Processing Record 9 of Set 10 | uberaba\n",
      "Processing Record 10 of Set 10 | nawalapitiya\n",
      "Processing Record 11 of Set 10 | requena\n",
      "Processing Record 12 of Set 10 | forio\n",
      "Processing Record 13 of Set 10 | santa rosa\n",
      "Processing Record 14 of Set 10 | jiexiu\n",
      "Processing Record 15 of Set 10 | tagusao\n",
      "Processing Record 16 of Set 10 | roald\n",
      "Processing Record 17 of Set 10 | santa eulalia del rio\n",
      "Processing Record 18 of Set 10 | lingao\n",
      "Processing Record 19 of Set 10 | rocha\n",
      "Processing Record 20 of Set 10 | montepuez\n",
      "Processing Record 21 of Set 10 | constitucion\n",
      "Processing Record 22 of Set 10 | noumea\n",
      "City not found. Skipping...\n",
      "Processing Record 23 of Set 10 | kanturk\n",
      "Processing Record 24 of Set 10 | fare\n",
      "Processing Record 25 of Set 10 | talcahuano\n",
      "Processing Record 26 of Set 10 | ganzhou\n",
      "Processing Record 27 of Set 10 | perumpavur\n",
      "Processing Record 28 of Set 10 | vila do maio\n",
      "Processing Record 29 of Set 10 | tateyama\n",
      "Processing Record 30 of Set 10 | imbituba\n",
      "Processing Record 31 of Set 10 | yaviza\n",
      "Processing Record 32 of Set 10 | epinal\n",
      "City not found. Skipping...\n",
      "Processing Record 33 of Set 10 | quzhou\n",
      "Processing Record 34 of Set 10 | tallahassee\n",
      "Processing Record 35 of Set 10 | savinka\n",
      "Processing Record 36 of Set 10 | canutama\n",
      "Processing Record 37 of Set 10 | brae\n",
      "Processing Record 38 of Set 10 | taltal\n",
      "Processing Record 39 of Set 10 | pozzallo\n",
      "Processing Record 40 of Set 10 | mirandopolis\n",
      "Processing Record 41 of Set 10 | salinopolis\n",
      "Processing Record 42 of Set 10 | sakakah\n",
      "Processing Record 43 of Set 10 | karratha\n",
      "Processing Record 44 of Set 10 | tortoli\n",
      "Processing Record 45 of Set 10 | manadhoo\n",
      "City not found. Skipping...\n",
      "City not found. Skipping...\n",
      "City not found. Skipping...\n",
      "Processing Record 46 of Set 10 | acapulco\n",
      "Processing Record 47 of Set 10 | mayumba\n",
      "Processing Record 48 of Set 10 | christchurch\n",
      "Processing Record 49 of Set 10 | jishou\n",
      "City not found. Skipping...\n",
      "Processing Record 50 of Set 10 | badami\n",
      "Processing Record 1 of Set 11 | high level\n",
      "Processing Record 2 of Set 11 | samaipata\n",
      "Processing Record 3 of Set 11 | nur\n",
      "Processing Record 4 of Set 11 | calvinia\n",
      "Processing Record 5 of Set 11 | guaratinga\n",
      "Processing Record 6 of Set 11 | nuuk\n",
      "Processing Record 7 of Set 11 | fostoria\n",
      "Processing Record 8 of Set 11 | iqaluit\n",
      "Processing Record 9 of Set 11 | trinidad\n",
      "Processing Record 10 of Set 11 | nelson bay\n",
      "Processing Record 11 of Set 11 | puerto madryn\n",
      "Processing Record 12 of Set 11 | limoeiro do ajuru\n",
      "Processing Record 13 of Set 11 | killam\n",
      "Processing Record 14 of Set 11 | praia da vitoria\n",
      "Processing Record 15 of Set 11 | maltahohe\n",
      "Processing Record 16 of Set 11 | manati\n",
      "Processing Record 17 of Set 11 | inhambane\n",
      "Processing Record 18 of Set 11 | zhangye\n",
      "Processing Record 19 of Set 11 | pueblo\n",
      "Processing Record 20 of Set 11 | claveria\n",
      "Processing Record 21 of Set 11 | methoni\n",
      "Processing Record 22 of Set 11 | ifanadiana\n",
      "City not found. Skipping...\n",
      "Processing Record 23 of Set 11 | umarkot\n",
      "Processing Record 24 of Set 11 | bom jesus da lapa\n",
      "Processing Record 25 of Set 11 | hobyo\n",
      "Processing Record 26 of Set 11 | lompoc\n",
      "City not found. Skipping...\n",
      "Processing Record 27 of Set 11 | custodia\n",
      "City not found. Skipping...\n",
      "Processing Record 28 of Set 11 | lensk\n",
      "Processing Record 29 of Set 11 | batagay\n",
      "Processing Record 30 of Set 11 | buraydah\n",
      "Processing Record 31 of Set 11 | lagoa\n",
      "Processing Record 32 of Set 11 | rio grande\n",
      "Processing Record 33 of Set 11 | leh\n",
      "Processing Record 34 of Set 11 | sheridan\n",
      "Processing Record 35 of Set 11 | concepcion del oro\n",
      "Processing Record 36 of Set 11 | sola\n",
      "Processing Record 37 of Set 11 | san policarpo\n",
      "Processing Record 38 of Set 11 | bryanka\n",
      "Processing Record 39 of Set 11 | imeni poliny osipenko\n",
      "Processing Record 40 of Set 11 | kununurra\n",
      "Processing Record 41 of Set 11 | yulara\n",
      "Processing Record 42 of Set 11 | felanitx\n",
      "City not found. Skipping...\n",
      "Processing Record 43 of Set 11 | huarmey\n",
      "Processing Record 44 of Set 11 | kargopol\n",
      "City not found. Skipping...\n",
      "Processing Record 45 of Set 11 | gimli\n",
      "City not found. Skipping...\n",
      "Processing Record 46 of Set 11 | puga\n",
      "City not found. Skipping...\n",
      "Processing Record 47 of Set 11 | jiangyou\n",
      "City not found. Skipping...\n",
      "Processing Record 48 of Set 11 | gorin\n",
      "Processing Record 49 of Set 11 | zhigansk\n",
      "Processing Record 50 of Set 11 | palmerston\n",
      "Processing Record 1 of Set 12 | aripuana\n",
      "Processing Record 2 of Set 12 | kloulklubed\n",
      "Processing Record 3 of Set 12 | tete\n"
     ]
    },
    {
     "name": "stdout",
     "output_type": "stream",
     "text": [
      "Processing Record 4 of Set 12 | mabama\n",
      "Processing Record 5 of Set 12 | sergiyevsk\n",
      "Processing Record 6 of Set 12 | baykit\n",
      "Processing Record 7 of Set 12 | maba\n",
      "Processing Record 8 of Set 12 | beatrice\n",
      "Processing Record 9 of Set 12 | pasni\n",
      "Processing Record 10 of Set 12 | tanout\n",
      "Processing Record 11 of Set 12 | jalu\n",
      "Processing Record 12 of Set 12 | zharkent\n",
      "Processing Record 13 of Set 12 | bubaque\n",
      "Processing Record 14 of Set 12 | pacific grove\n",
      "City not found. Skipping...\n",
      "Processing Record 15 of Set 12 | havoysund\n",
      "Processing Record 16 of Set 12 | tsiroanomandidy\n",
      "Processing Record 17 of Set 12 | mazagao\n",
      "Processing Record 18 of Set 12 | nha trang\n",
      "Processing Record 19 of Set 12 | linxia\n",
      "Processing Record 20 of Set 12 | chumikan\n",
      "City not found. Skipping...\n",
      "Processing Record 21 of Set 12 | indramayu\n",
      "Processing Record 22 of Set 12 | bonfim\n",
      "Processing Record 23 of Set 12 | weimar\n",
      "Processing Record 24 of Set 12 | aksay\n",
      "Processing Record 25 of Set 12 | pennathur\n",
      "Processing Record 26 of Set 12 | soyo\n",
      "Processing Record 27 of Set 12 | orangeburg\n",
      "------------------------------\n",
      "Data Retrieval Complete\n",
      "------------------------------\n"
     ]
    }
   ],
   "source": [
    "#set lists\n",
    "city_two = []\n",
    "cloudiness = []\n",
    "dates = []\n",
    "humidity = []\n",
    "lats = []\n",
    "lngs = []\n",
    "max_temps = []\n",
    "wind_speeds = []\n",
    "countries = []\n",
    "\n",
    "# set initial count quantities\n",
    "count_one = 0\n",
    "set_one = 1\n",
    "\n",
    "# loop for dataframe \n",
    "for city in cities:\n",
    "    try:\n",
    "        response = requests.get(query_url + city.replace(\" \",\"&\")).json()\n",
    "        cloudiness.append(response['clouds']['all'])\n",
    "        countries.append(response['sys']['country'])\n",
    "        dates.append(response['dt'])\n",
    "        humidity.append(response['main']['humidity'])\n",
    "        lats.append(response['coord']['lat'])\n",
    "        lngs.append(response['coord']['lon'])\n",
    "        max_temps.append(response['main']['temp_max'])\n",
    "        wind_speeds.append(response['wind']['speed'])\n",
    "        if count_one > 49:\n",
    "            count_one = 1\n",
    "            set_one += 1\n",
    "            city_two.append(city)\n",
    "        else:\n",
    "            count_one += 1\n",
    "            city_two.append(city)\n",
    "        print(f\"Processing Record {count_one} of Set {set_one} | {city}\")\n",
    "    except Exception:\n",
    "        print(\"City not found. Skipping...\")\n",
    "print(\"------------------------------\\nData Retrieval Complete\\n------------------------------\")"
   ]
  },
  {
   "cell_type": "markdown",
   "metadata": {},
   "source": [
    "### Convert Raw Data to DataFrame\n",
    "* Export the city data into a .csv.\n",
    "* Display the DataFrame"
   ]
  },
  {
   "cell_type": "code",
   "execution_count": 7,
   "metadata": {},
   "outputs": [
    {
     "data": {
      "text/html": [
       "<div>\n",
       "<style scoped>\n",
       "    .dataframe tbody tr th:only-of-type {\n",
       "        vertical-align: middle;\n",
       "    }\n",
       "\n",
       "    .dataframe tbody tr th {\n",
       "        vertical-align: top;\n",
       "    }\n",
       "\n",
       "    .dataframe thead th {\n",
       "        text-align: right;\n",
       "    }\n",
       "</style>\n",
       "<table border=\"1\" class=\"dataframe\">\n",
       "  <thead>\n",
       "    <tr style=\"text-align: right;\">\n",
       "      <th></th>\n",
       "      <th>City</th>\n",
       "      <th>Lat</th>\n",
       "      <th>Lng</th>\n",
       "      <th>Max Temp</th>\n",
       "      <th>Humidity</th>\n",
       "      <th>Cloudiness</th>\n",
       "      <th>Wind Speed</th>\n",
       "      <th>Country</th>\n",
       "      <th>Date</th>\n",
       "    </tr>\n",
       "  </thead>\n",
       "  <tbody>\n",
       "    <tr>\n",
       "      <th>0</th>\n",
       "      <td>geraldton</td>\n",
       "      <td>-28.77</td>\n",
       "      <td>114.60</td>\n",
       "      <td>64.40</td>\n",
       "      <td>68</td>\n",
       "      <td>0</td>\n",
       "      <td>5.82</td>\n",
       "      <td>AU</td>\n",
       "      <td>1603326269</td>\n",
       "    </tr>\n",
       "    <tr>\n",
       "      <th>1</th>\n",
       "      <td>nikolskoye</td>\n",
       "      <td>59.70</td>\n",
       "      <td>30.79</td>\n",
       "      <td>39.20</td>\n",
       "      <td>93</td>\n",
       "      <td>90</td>\n",
       "      <td>8.95</td>\n",
       "      <td>RU</td>\n",
       "      <td>1603326231</td>\n",
       "    </tr>\n",
       "    <tr>\n",
       "      <th>2</th>\n",
       "      <td>east london</td>\n",
       "      <td>65.00</td>\n",
       "      <td>-15.00</td>\n",
       "      <td>23.00</td>\n",
       "      <td>92</td>\n",
       "      <td>20</td>\n",
       "      <td>4.70</td>\n",
       "      <td>IS</td>\n",
       "      <td>1603326205</td>\n",
       "    </tr>\n",
       "    <tr>\n",
       "      <th>3</th>\n",
       "      <td>yellowknife</td>\n",
       "      <td>62.46</td>\n",
       "      <td>-114.35</td>\n",
       "      <td>24.80</td>\n",
       "      <td>73</td>\n",
       "      <td>90</td>\n",
       "      <td>18.34</td>\n",
       "      <td>CA</td>\n",
       "      <td>1603326010</td>\n",
       "    </tr>\n",
       "    <tr>\n",
       "      <th>4</th>\n",
       "      <td>tiksi</td>\n",
       "      <td>71.69</td>\n",
       "      <td>128.87</td>\n",
       "      <td>10.53</td>\n",
       "      <td>94</td>\n",
       "      <td>100</td>\n",
       "      <td>5.19</td>\n",
       "      <td>RU</td>\n",
       "      <td>1603326080</td>\n",
       "    </tr>\n",
       "  </tbody>\n",
       "</table>\n",
       "</div>"
      ],
      "text/plain": [
       "          City    Lat     Lng  Max Temp  Humidity  Cloudiness  Wind Speed  \\\n",
       "0    geraldton -28.77  114.60     64.40        68           0        5.82   \n",
       "1   nikolskoye  59.70   30.79     39.20        93          90        8.95   \n",
       "2  east london  65.00  -15.00     23.00        92          20        4.70   \n",
       "3  yellowknife  62.46 -114.35     24.80        73          90       18.34   \n",
       "4        tiksi  71.69  128.87     10.53        94         100        5.19   \n",
       "\n",
       "  Country        Date  \n",
       "0      AU  1603326269  \n",
       "1      RU  1603326231  \n",
       "2      IS  1603326205  \n",
       "3      CA  1603326010  \n",
       "4      RU  1603326080  "
      ]
     },
     "execution_count": 7,
     "metadata": {},
     "output_type": "execute_result"
    }
   ],
   "source": [
    "weather_dictionary = {\n",
    "    \"City\": city_two,\n",
    "    \"Lat\":lats,\n",
    "    \"Lng\":lngs,\n",
    "    \"Max Temp\":max_temps,\n",
    "    \"Humidity\":humidity,\n",
    "    \"Cloudiness\":cloudiness,\n",
    "    \"Wind Speed\":wind_speeds,\n",
    "    \"Country\":countries,\n",
    "    \"Date\":dates,\n",
    "}\n",
    "\n",
    "weather_df = pd.DataFrame(weather_dictionary)\n",
    "weather_df.head()"
   ]
  },
  {
   "cell_type": "code",
   "execution_count": 8,
   "metadata": {},
   "outputs": [],
   "source": [
    "weather_df.to_csv(output_data_file)"
   ]
  },
  {
   "cell_type": "code",
   "execution_count": 9,
   "metadata": {
    "scrolled": true
   },
   "outputs": [
    {
     "data": {
      "text/html": [
       "<div>\n",
       "<style scoped>\n",
       "    .dataframe tbody tr th:only-of-type {\n",
       "        vertical-align: middle;\n",
       "    }\n",
       "\n",
       "    .dataframe tbody tr th {\n",
       "        vertical-align: top;\n",
       "    }\n",
       "\n",
       "    .dataframe thead th {\n",
       "        text-align: right;\n",
       "    }\n",
       "</style>\n",
       "<table border=\"1\" class=\"dataframe\">\n",
       "  <thead>\n",
       "    <tr style=\"text-align: right;\">\n",
       "      <th></th>\n",
       "      <th>Lat</th>\n",
       "      <th>Lng</th>\n",
       "      <th>Max Temp</th>\n",
       "      <th>Humidity</th>\n",
       "      <th>Cloudiness</th>\n",
       "      <th>Wind Speed</th>\n",
       "      <th>Date</th>\n",
       "    </tr>\n",
       "  </thead>\n",
       "  <tbody>\n",
       "    <tr>\n",
       "      <th>count</th>\n",
       "      <td>577.000000</td>\n",
       "      <td>577.000000</td>\n",
       "      <td>577.000000</td>\n",
       "      <td>577.000000</td>\n",
       "      <td>577.000000</td>\n",
       "      <td>577.000000</td>\n",
       "      <td>5.770000e+02</td>\n",
       "    </tr>\n",
       "    <tr>\n",
       "      <th>mean</th>\n",
       "      <td>21.769948</td>\n",
       "      <td>20.697331</td>\n",
       "      <td>60.060884</td>\n",
       "      <td>75.564991</td>\n",
       "      <td>52.487002</td>\n",
       "      <td>7.080589</td>\n",
       "      <td>1.603326e+09</td>\n",
       "    </tr>\n",
       "    <tr>\n",
       "      <th>std</th>\n",
       "      <td>31.765624</td>\n",
       "      <td>85.529852</td>\n",
       "      <td>19.854805</td>\n",
       "      <td>19.774063</td>\n",
       "      <td>38.289607</td>\n",
       "      <td>4.721317</td>\n",
       "      <td>1.312610e+02</td>\n",
       "    </tr>\n",
       "    <tr>\n",
       "      <th>min</th>\n",
       "      <td>-54.800000</td>\n",
       "      <td>-179.170000</td>\n",
       "      <td>-4.000000</td>\n",
       "      <td>8.000000</td>\n",
       "      <td>0.000000</td>\n",
       "      <td>0.090000</td>\n",
       "      <td>1.603326e+09</td>\n",
       "    </tr>\n",
       "    <tr>\n",
       "      <th>25%</th>\n",
       "      <td>-5.070000</td>\n",
       "      <td>-50.210000</td>\n",
       "      <td>46.990000</td>\n",
       "      <td>68.000000</td>\n",
       "      <td>11.000000</td>\n",
       "      <td>3.360000</td>\n",
       "      <td>1.603326e+09</td>\n",
       "    </tr>\n",
       "    <tr>\n",
       "      <th>50%</th>\n",
       "      <td>25.520000</td>\n",
       "      <td>24.660000</td>\n",
       "      <td>64.400000</td>\n",
       "      <td>79.000000</td>\n",
       "      <td>61.000000</td>\n",
       "      <td>5.990000</td>\n",
       "      <td>1.603326e+09</td>\n",
       "    </tr>\n",
       "    <tr>\n",
       "      <th>75%</th>\n",
       "      <td>48.030000</td>\n",
       "      <td>88.400000</td>\n",
       "      <td>77.000000</td>\n",
       "      <td>90.000000</td>\n",
       "      <td>90.000000</td>\n",
       "      <td>9.370000</td>\n",
       "      <td>1.603326e+09</td>\n",
       "    </tr>\n",
       "    <tr>\n",
       "      <th>max</th>\n",
       "      <td>78.220000</td>\n",
       "      <td>178.420000</td>\n",
       "      <td>91.400000</td>\n",
       "      <td>100.000000</td>\n",
       "      <td>100.000000</td>\n",
       "      <td>27.360000</td>\n",
       "      <td>1.603326e+09</td>\n",
       "    </tr>\n",
       "  </tbody>\n",
       "</table>\n",
       "</div>"
      ],
      "text/plain": [
       "              Lat         Lng    Max Temp    Humidity  Cloudiness  Wind Speed  \\\n",
       "count  577.000000  577.000000  577.000000  577.000000  577.000000  577.000000   \n",
       "mean    21.769948   20.697331   60.060884   75.564991   52.487002    7.080589   \n",
       "std     31.765624   85.529852   19.854805   19.774063   38.289607    4.721317   \n",
       "min    -54.800000 -179.170000   -4.000000    8.000000    0.000000    0.090000   \n",
       "25%     -5.070000  -50.210000   46.990000   68.000000   11.000000    3.360000   \n",
       "50%     25.520000   24.660000   64.400000   79.000000   61.000000    5.990000   \n",
       "75%     48.030000   88.400000   77.000000   90.000000   90.000000    9.370000   \n",
       "max     78.220000  178.420000   91.400000  100.000000  100.000000   27.360000   \n",
       "\n",
       "               Date  \n",
       "count  5.770000e+02  \n",
       "mean   1.603326e+09  \n",
       "std    1.312610e+02  \n",
       "min    1.603326e+09  \n",
       "25%    1.603326e+09  \n",
       "50%    1.603326e+09  \n",
       "75%    1.603326e+09  \n",
       "max    1.603326e+09  "
      ]
     },
     "execution_count": 9,
     "metadata": {},
     "output_type": "execute_result"
    }
   ],
   "source": [
    "weather_df.describe()"
   ]
  },
  {
   "cell_type": "markdown",
   "metadata": {},
   "source": [
    "## Inspect the data and remove the cities where the humidity > 100%.\n",
    "----\n",
    "Skip this step if there are no cities that have humidity > 100%. "
   ]
  },
  {
   "cell_type": "code",
   "execution_count": 10,
   "metadata": {},
   "outputs": [
    {
     "data": {
      "text/html": [
       "<div>\n",
       "<style scoped>\n",
       "    .dataframe tbody tr th:only-of-type {\n",
       "        vertical-align: middle;\n",
       "    }\n",
       "\n",
       "    .dataframe tbody tr th {\n",
       "        vertical-align: top;\n",
       "    }\n",
       "\n",
       "    .dataframe thead th {\n",
       "        text-align: right;\n",
       "    }\n",
       "</style>\n",
       "<table border=\"1\" class=\"dataframe\">\n",
       "  <thead>\n",
       "    <tr style=\"text-align: right;\">\n",
       "      <th></th>\n",
       "      <th>City</th>\n",
       "      <th>Lat</th>\n",
       "      <th>Lng</th>\n",
       "      <th>Max Temp</th>\n",
       "      <th>Humidity</th>\n",
       "      <th>Cloudiness</th>\n",
       "      <th>Wind Speed</th>\n",
       "      <th>Country</th>\n",
       "      <th>Date</th>\n",
       "    </tr>\n",
       "  </thead>\n",
       "  <tbody>\n",
       "  </tbody>\n",
       "</table>\n",
       "</div>"
      ],
      "text/plain": [
       "Empty DataFrame\n",
       "Columns: [City, Lat, Lng, Max Temp, Humidity, Cloudiness, Wind Speed, Country, Date]\n",
       "Index: []"
      ]
     },
     "execution_count": 10,
     "metadata": {},
     "output_type": "execute_result"
    }
   ],
   "source": [
    "#print out any cities with humidity over 100, store in new DF. use loc funtion to look. we might not find anything with \n",
    "#humidity over 100, but if you do, exclude from data set\n",
    "humidity_errors = weather_df.loc[weather_df[\"Humidity\"] > 100]\n",
    "humidity_errors\n",
    "#print(weather_df[weather_df['Humidity']> 100])"
   ]
  },
  {
   "cell_type": "code",
   "execution_count": 11,
   "metadata": {},
   "outputs": [],
   "source": [
    "#  Get the indices of cities that have humidity over 100%.\n",
    "#none exist "
   ]
  },
  {
   "cell_type": "code",
   "execution_count": 12,
   "metadata": {},
   "outputs": [],
   "source": [
    "# Make a new DataFrame equal to the city data to drop all humidity outliers by index.\n",
    "# Passing \"inplace=False\" will make a copy of the city_data DataFrame, which we call \"clean_city_data\".\n",
    "#no cities exist with humidity over 100. skipping this step as the df is already clean"
   ]
  },
  {
   "cell_type": "code",
   "execution_count": null,
   "metadata": {},
   "outputs": [],
   "source": [
    "\n"
   ]
  },
  {
   "cell_type": "markdown",
   "metadata": {},
   "source": [
    "## Plotting the Data\n",
    "* Use proper labeling of the plots using plot titles (including date of analysis) and axes labels.\n",
    "* Save the plotted figures as .pngs."
   ]
  },
  {
   "cell_type": "markdown",
   "metadata": {},
   "source": [
    "## Latitude vs. Temperature Plot"
   ]
  },
  {
   "cell_type": "code",
   "execution_count": 13,
   "metadata": {
    "scrolled": true
   },
   "outputs": [
    {
     "data": {
      "image/png": "[encoded data removed]",
      "text/plain": [
       "<Figure size 432x288 with 1 Axes>"
      ]
     },
     "metadata": {
      "needs_background": "light"
     },
     "output_type": "display_data"
    }
   ],
   "source": [
    "#scatter plot\n",
    "plt.scatter(weather_df[\"Lat\"], weather_df[\"Max Temp\"], marker=\"o\", s=10)\n",
    "\n",
    "plt.title(\"City Latitude vs. Max Temperature\")\n",
    "plt.ylabel(\"Max. Temperature (F)\")\n",
    "plt.xlabel(\"Latitude\")\n",
    "plt.grid(True)\n",
    "\n",
    "#save\n",
    "plt.savefig(\"output_plots/latitude_temperature_plot.png\")\n",
    "\n",
    "#show\n",
    "plt.show()"
   ]
  },
  {
   "cell_type": "markdown",
   "metadata": {},
   "source": [
    "## Latitude vs. Humidity Plot"
   ]
  },
  {
   "cell_type": "code",
   "execution_count": 14,
   "metadata": {},
   "outputs": [
    {
     "data": {
      "image/png": "[encoded data removed]",
      "text/plain": [
       "<Figure size 432x288 with 1 Axes>"
      ]
     },
     "metadata": {
      "needs_background": "light"
     },
     "output_type": "display_data"
    }
   ],
   "source": [
    "#scatter plot\n",
    "plt.scatter(weather_df[\"Lat\"], weather_df[\"Humidity\"], marker=\"o\", s=10)\n",
    "\n",
    "plt.title(\"City Latitude vs. Humidity\")\n",
    "plt.ylabel(\"Humidity (%)\")\n",
    "plt.xlabel(\"Latitude\")\n",
    "plt.grid(True)\n",
    "\n",
    "#save\n",
    "plt.savefig(\"output_plots/latitude_humidity_plot.png\")\n",
    "\n",
    "#show\n",
    "plt.show()"
   ]
  },
  {
   "cell_type": "markdown",
   "metadata": {},
   "source": [
    "## Latitude vs. Cloudiness Plot"
   ]
  },
  {
   "cell_type": "code",
   "execution_count": 15,
   "metadata": {},
   "outputs": [
    {
     "data": {
      "image/png": "[encoded data removed]",
      "text/plain": [
       "<Figure size 432x288 with 1 Axes>"
      ]
     },
     "metadata": {
      "needs_background": "light"
     },
     "output_type": "display_data"
    }
   ],
   "source": [
    "#scatter plot\n",
    "plt.scatter(weather_df[\"Lat\"], weather_df[\"Cloudiness\"], marker=\"o\", s=10)\n",
    "\n",
    "plt.title(\"City Latitude vs. Cloudiness\")\n",
    "plt.ylabel(\"Cloudiness (%)\")\n",
    "plt.xlabel(\"Latitude\")\n",
    "plt.grid(True)\n",
    "\n",
    "#save\n",
    "plt.savefig(\"output_plots/latitude_cloudiness_plot.png\")\n",
    "\n",
    "#show\n",
    "plt.show()"
   ]
  },
  {
   "cell_type": "markdown",
   "metadata": {},
   "source": [
    "## Latitude vs. Wind Speed Plot"
   ]
  },
  {
   "cell_type": "code",
   "execution_count": 16,
   "metadata": {},
   "outputs": [
    {
     "data": {
      "image/png": "[encoded data removed]",
      "text/plain": [
       "<Figure size 432x288 with 1 Axes>"
      ]
     },
     "metadata": {
      "needs_background": "light"
     },
     "output_type": "display_data"
    }
   ],
   "source": [
    "#scatter plot\n",
    "plt.scatter(weather_df[\"Lat\"], weather_df[\"Wind Speed\"], marker=\"o\", s=10)\n",
    "\n",
    "plt.title(\"City Latitude vs. Wind Speed\")\n",
    "plt.ylabel(\"Wind Speed (mph)\")\n",
    "plt.xlabel(\"Latitude\")\n",
    "plt.grid(True)\n",
    "\n",
    "#save\n",
    "plt.savefig(\"output_plots/latitude_windspeed_plot.png\")\n",
    "\n",
    "#show\n",
    "plt.show()"
   ]
  },
  {
   "cell_type": "markdown",
   "metadata": {},
   "source": [
    "## Linear Regression"
   ]
  },
  {
   "cell_type": "code",
   "execution_count": 18,
   "metadata": {},
   "outputs": [],
   "source": [
    "north_latitude = weather_df[weather_df['Lat'] >= 0]\n",
    "\n",
    "south_latitude = weather_df[weather_df['Lat'] < 0]\n"
   ]
  },
  {
   "cell_type": "markdown",
   "metadata": {},
   "source": [
    "####  Northern Hemisphere - Max Temp vs. Latitude Linear Regression"
   ]
  },
  {
   "cell_type": "code",
   "execution_count": 19,
   "metadata": {},
   "outputs": [
    {
     "data": {
      "text/html": [
       "<div>\n",
       "<style scoped>\n",
       "    .dataframe tbody tr th:only-of-type {\n",
       "        vertical-align: middle;\n",
       "    }\n",
       "\n",
       "    .dataframe tbody tr th {\n",
       "        vertical-align: top;\n",
       "    }\n",
       "\n",
       "    .dataframe thead th {\n",
       "        text-align: right;\n",
       "    }\n",
       "</style>\n",
       "<table border=\"1\" class=\"dataframe\">\n",
       "  <thead>\n",
       "    <tr style=\"text-align: right;\">\n",
       "      <th></th>\n",
       "      <th>City</th>\n",
       "      <th>Lat</th>\n",
       "      <th>Lng</th>\n",
       "      <th>Max Temp</th>\n",
       "      <th>Humidity</th>\n",
       "      <th>Cloudiness</th>\n",
       "      <th>Wind Speed</th>\n",
       "      <th>Country</th>\n",
       "      <th>Date</th>\n",
       "    </tr>\n",
       "  </thead>\n",
       "  <tbody>\n",
       "    <tr>\n",
       "      <th>1</th>\n",
       "      <td>nikolskoye</td>\n",
       "      <td>59.70</td>\n",
       "      <td>30.79</td>\n",
       "      <td>39.20</td>\n",
       "      <td>93</td>\n",
       "      <td>90</td>\n",
       "      <td>8.95</td>\n",
       "      <td>RU</td>\n",
       "      <td>1603326231</td>\n",
       "    </tr>\n",
       "    <tr>\n",
       "      <th>2</th>\n",
       "      <td>east london</td>\n",
       "      <td>65.00</td>\n",
       "      <td>-15.00</td>\n",
       "      <td>23.00</td>\n",
       "      <td>92</td>\n",
       "      <td>20</td>\n",
       "      <td>4.70</td>\n",
       "      <td>IS</td>\n",
       "      <td>1603326205</td>\n",
       "    </tr>\n",
       "    <tr>\n",
       "      <th>3</th>\n",
       "      <td>yellowknife</td>\n",
       "      <td>62.46</td>\n",
       "      <td>-114.35</td>\n",
       "      <td>24.80</td>\n",
       "      <td>73</td>\n",
       "      <td>90</td>\n",
       "      <td>18.34</td>\n",
       "      <td>CA</td>\n",
       "      <td>1603326010</td>\n",
       "    </tr>\n",
       "    <tr>\n",
       "      <th>4</th>\n",
       "      <td>tiksi</td>\n",
       "      <td>71.69</td>\n",
       "      <td>128.87</td>\n",
       "      <td>10.53</td>\n",
       "      <td>94</td>\n",
       "      <td>100</td>\n",
       "      <td>5.19</td>\n",
       "      <td>RU</td>\n",
       "      <td>1603326080</td>\n",
       "    </tr>\n",
       "    <tr>\n",
       "      <th>6</th>\n",
       "      <td>kodiak</td>\n",
       "      <td>57.79</td>\n",
       "      <td>-152.41</td>\n",
       "      <td>46.40</td>\n",
       "      <td>52</td>\n",
       "      <td>1</td>\n",
       "      <td>12.75</td>\n",
       "      <td>US</td>\n",
       "      <td>1603326208</td>\n",
       "    </tr>\n",
       "  </tbody>\n",
       "</table>\n",
       "</div>"
      ],
      "text/plain": [
       "          City    Lat     Lng  Max Temp  Humidity  Cloudiness  Wind Speed  \\\n",
       "1   nikolskoye  59.70   30.79     39.20        93          90        8.95   \n",
       "2  east london  65.00  -15.00     23.00        92          20        4.70   \n",
       "3  yellowknife  62.46 -114.35     24.80        73          90       18.34   \n",
       "4        tiksi  71.69  128.87     10.53        94         100        5.19   \n",
       "6       kodiak  57.79 -152.41     46.40        52           1       12.75   \n",
       "\n",
       "  Country        Date  \n",
       "1      RU  1603326231  \n",
       "2      IS  1603326205  \n",
       "3      CA  1603326010  \n",
       "4      RU  1603326080  \n",
       "6      US  1603326208  "
      ]
     },
     "execution_count": 19,
     "metadata": {},
     "output_type": "execute_result"
    }
   ],
   "source": [
    "north_latitude.head()"
   ]
  },
  {
   "cell_type": "code",
   "execution_count": 20,
   "metadata": {},
   "outputs": [
    {
     "name": "stdout",
     "output_type": "stream",
     "text": [
      "The r-squared is: 0.7657366320095803\n"
     ]
    },
    {
     "data": {
      "image/png": "[encoded data removed]",
      "text/plain": [
       "<Figure size 432x288 with 1 Axes>"
      ]
     },
     "metadata": {
      "needs_background": "light"
     },
     "output_type": "display_data"
    }
   ],
   "source": [
    "#scatter plot & linear regression\n",
    "latitude = north_latitude[\"Lat\"]\n",
    "max_temp = north_latitude[\"Max Temp\"]\n",
    "x = latitude\n",
    "y = max_temp\n",
    "\n",
    "(slope, intercept, rvalue, pvalue, stderr) = linregress (x,y)\n",
    "regress_values = x * slope + intercept\n",
    "line_eq = \"y = \" + str(round(slope,2)) + \"x + \" + str(round(intercept,2))\n",
    "correlation = round(st.pearsonr(latitude,max_temp)[0],2)\n",
    "\n",
    "plt.scatter(x, y, marker=\"o\", s=10)\n",
    "plt.plot(x,regress_values,\"r-\")\n",
    "plt.annotate(line_eq,(0,20),fontsize=15,color=\"red\")\n",
    "plt.title(\"Northern Hemisphere-Max Temp vs Latitude\")\n",
    "plt.ylabel(\"Max Temp\")\n",
    "plt.xlabel(\"Latitude\")\n",
    "plt.grid(True)\n",
    "\n",
    "print(f\"The r-squared is: {rvalue**2}\")\n",
    "\n",
    "#save\n",
    "#plt.savefig(\"output_plots/latitude_windspeed_plot.png\")\n",
    "\n",
    "#show\n",
    "plt.show()"
   ]
  },
  {
   "cell_type": "markdown",
   "metadata": {},
   "source": [
    "####  Southern Hemisphere - Max Temp vs. Latitude Linear Regression"
   ]
  },
  {
   "cell_type": "code",
   "execution_count": 21,
   "metadata": {},
   "outputs": [
    {
     "name": "stdout",
     "output_type": "stream",
     "text": [
      "The r-squared is: 0.4131097263016886\n"
     ]
    },
    {
     "data": {
      "image/png": "[encoded data removed]",
      "text/plain": [
       "<Figure size 432x288 with 1 Axes>"
      ]
     },
     "metadata": {
      "needs_background": "light"
     },
     "output_type": "display_data"
    }
   ],
   "source": [
    "#scatter plot & linear regression\n",
    "latitude = south_latitude[\"Lat\"]\n",
    "max_temp = south_latitude[\"Max Temp\"]\n",
    "\n",
    "x = latitude\n",
    "y = max_temp\n",
    "\n",
    "(slope, intercept, rvalue, pvalue, stderr) = linregress (x,y)\n",
    "regress_values = x * slope + intercept\n",
    "line_eq = \"y = \" + str(round(slope,2)) + \"x + \" + str(round(intercept,2))\n",
    "correlation = round(st.pearsonr(latitude,max_temp)[0],2)\n",
    "\n",
    "plt.scatter(x,y, marker=\"o\", s=10)\n",
    "plt.plot(x,regress_values,\"r-\")\n",
    "plt.annotate(line_eq,(-50,90),fontsize=15,color=\"red\")\n",
    "plt.title(\"Southern Hemisphere-Max Temp vs Latitude\")\n",
    "plt.ylabel(\"Max Temp\")\n",
    "plt.xlabel(\"Latitude\")\n",
    "plt.grid(True)\n",
    "\n",
    "print(f\"The r-squared is: {rvalue**2}\")\n",
    "\n",
    "#save\n",
    "#plt.savefig(\"output_plots/latitude_windspeed_plot.png\")\n",
    "\n",
    "#show\n",
    "plt.show()"
   ]
  },
  {
   "cell_type": "markdown",
   "metadata": {},
   "source": [
    "####  Northern Hemisphere - Humidity (%) vs. Latitude Linear Regression"
   ]
  },
  {
   "cell_type": "code",
   "execution_count": 23,
   "metadata": {},
   "outputs": [
    {
     "name": "stdout",
     "output_type": "stream",
     "text": [
      "The r-squared is: 0.06164822121290836\n"
     ]
    },
    {
     "data": {
      "image/png": "[encoded data removed]",
      "text/plain": [
       "<Figure size 432x288 with 1 Axes>"
      ]
     },
     "metadata": {
      "needs_background": "light"
     },
     "output_type": "display_data"
    }
   ],
   "source": [
    "#scatter plot & linear regression\n",
    "latitude = north_latitude[\"Lat\"]\n",
    "humidity = north_latitude[\"Humidity\"]\n",
    "\n",
    "x = latitude\n",
    "y = humidity\n",
    "\n",
    "(slope, intercept, rvalue, pvalue, stderr) = linregress (x,y)\n",
    "regress_values = x * slope + intercept\n",
    "line_eq = \"y = \" + str(round(slope,2)) + \"x + \" + str(round(intercept,2))\n",
    "correlation = round(st.pearsonr(latitude,humidity)[0],2)\n",
    "\n",
    "plt.scatter(x, y, marker=\"o\", s=10)\n",
    "plt.plot(x,regress_values,\"r-\")\n",
    "plt.annotate(line_eq,(50,20),fontsize=15,color=\"red\")\n",
    "plt.title(\"Northern Hemisphere-Humidity % vs Latitude\")\n",
    "plt.ylabel(\"Humidity\")\n",
    "plt.xlabel(\"Latitude\")\n",
    "plt.grid(True)\n",
    "\n",
    "print(f\"The r-squared is: {rvalue**2}\")\n",
    "\n",
    "#save\n",
    "#plt.savefig(\"output_plots/latitude_windspeed_plot.png\")\n",
    "\n",
    "#show\n",
    "plt.show()"
   ]
  },
  {
   "cell_type": "markdown",
   "metadata": {},
   "source": [
    "####  Southern Hemisphere - Humidity (%) vs. Latitude Linear Regression"
   ]
  },
  {
   "cell_type": "code",
   "execution_count": 24,
   "metadata": {},
   "outputs": [
    {
     "name": "stdout",
     "output_type": "stream",
     "text": [
      "The r-squared is: 0.06300164072904259\n"
     ]
    },
    {
     "data": {
      "image/png": "[encoded data removed]",
      "text/plain": [
       "<Figure size 432x288 with 1 Axes>"
      ]
     },
     "metadata": {
      "needs_background": "light"
     },
     "output_type": "display_data"
    }
   ],
   "source": [
    "#scatter plot & linear regression\n",
    "latitude = south_latitude[\"Lat\"]\n",
    "humidity = south_latitude[\"Humidity\"]\n",
    "\n",
    "x = latitude\n",
    "y = humidity\n",
    "\n",
    "(slope, intercept, rvalue, pvalue, stderr) = linregress (x,y)\n",
    "regress_values = x * slope + intercept\n",
    "line_eq = \"y = \" + str(round(slope,2)) + \"x + \" + str(round(intercept,2))\n",
    "correlation = round(st.pearsonr(latitude,humidity)[0],2)\n",
    "\n",
    "plt.scatter(x,y, marker=\"o\", s=10)\n",
    "plt.plot(x,regress_values,\"r-\")\n",
    "plt.annotate(line_eq,(-50,20),fontsize=15,color=\"red\")\n",
    "plt.title(\"Southern Hemisphere-Humidity % vs Latitude\")\n",
    "plt.ylabel(\"Humidity\")\n",
    "plt.xlabel(\"Latitude\")\n",
    "plt.grid(True)\n",
    "\n",
    "print(f\"The r-squared is: {rvalue**2}\")\n",
    "\n",
    "#save\n",
    "#plt.savefig(\"output_plots/latitude_windspeed_plot.png\")\n",
    "\n",
    "#show\n",
    "plt.show()"
   ]
  },
  {
   "cell_type": "markdown",
   "metadata": {},
   "source": [
    "####  Northern Hemisphere - Cloudiness (%) vs. Latitude Linear Regression"
   ]
  },
  {
   "cell_type": "code",
   "execution_count": 25,
   "metadata": {},
   "outputs": [
    {
     "name": "stdout",
     "output_type": "stream",
     "text": [
      "The r-squared is: 0.03866599222173813\n"
     ]
    },
    {
     "data": {
      "image/png": "[encoded data removed]",
      "text/plain": [
       "<Figure size 432x288 with 1 Axes>"
      ]
     },
     "metadata": {
      "needs_background": "light"
     },
     "output_type": "display_data"
    }
   ],
   "source": [
    "#scatter plot & linear regression\n",
    "latitude = north_latitude[\"Lat\"]\n",
    "cloudiness = north_latitude[\"Cloudiness\"]\n",
    "\n",
    "x = latitude\n",
    "y = cloudiness\n",
    "\n",
    "(slope, intercept, rvalue, pvalue, stderr) = linregress (x,y)\n",
    "regress_values = x * slope + intercept\n",
    "line_eq = \"y = \" + str(round(slope,2)) + \"x + \" + str(round(intercept,2))\n",
    "correlation = round(st.pearsonr(latitude,cloudiness)[0],2)\n",
    "\n",
    "plt.scatter(x,y, marker=\"o\", s=10)\n",
    "plt.plot(x,regress_values,\"r-\")\n",
    "plt.annotate(line_eq,(50,20),fontsize=15,color=\"red\")\n",
    "plt.title(\"Northern Hemisphere-Cloudiness % vs Latitude\")\n",
    "plt.ylabel(\"Cloudiness\")\n",
    "plt.xlabel(\"Latitude\")\n",
    "plt.grid(True)\n",
    "\n",
    "print(f\"The r-squared is: {rvalue**2}\")\n",
    "\n",
    "#save\n",
    "#plt.savefig(\"output_plots/latitude_windspeed_plot.png\")\n",
    "\n",
    "#show\n",
    "plt.show()"
   ]
  },
  {
   "cell_type": "markdown",
   "metadata": {},
   "source": [
    "####  Southern Hemisphere - Cloudiness (%) vs. Latitude Linear Regression"
   ]
  },
  {
   "cell_type": "code",
   "execution_count": 26,
   "metadata": {},
   "outputs": [
    {
     "name": "stdout",
     "output_type": "stream",
     "text": [
      "The r-squared is: 0.013220008570269882\n"
     ]
    },
    {
     "data": {
      "image/png": "[encoded data removed]",
      "text/plain": [
       "<Figure size 432x288 with 1 Axes>"
      ]
     },
     "metadata": {
      "needs_background": "light"
     },
     "output_type": "display_data"
    }
   ],
   "source": [
    "#scatter plot & linear regression\n",
    "latitude = south_latitude[\"Lat\"]\n",
    "cloudiness = south_latitude[\"Cloudiness\"]\n",
    "\n",
    "x = latitude\n",
    "y = cloudiness\n",
    "\n",
    "(slope, intercept, rvalue, pvalue, stderr) = linregress (x,y)\n",
    "regress_values = x * slope + intercept\n",
    "line_eq = \"y = \" + str(round(slope,2)) + \"x + \" + str(round(intercept,2))\n",
    "correlation = round(st.pearsonr(latitude,cloudiness)[0],2)\n",
    "\n",
    "plt.scatter(x,y, marker=\"o\", s=10)\n",
    "plt.plot(x,regress_values,\"r-\")\n",
    "plt.annotate(line_eq,(-50,20),fontsize=15,color=\"red\")\n",
    "plt.title(\"Southern Hemisphere-Cloudiness % vs Latitude\")\n",
    "plt.ylabel(\"Cloudiness\")\n",
    "plt.xlabel(\"Latitude\")\n",
    "plt.grid(True)\n",
    "\n",
    "print(f\"The r-squared is: {rvalue**2}\")\n",
    "\n",
    "#save\n",
    "#plt.savefig(\"output_plots/latitude_windspeed_plot.png\")\n",
    "\n",
    "#show\n",
    "plt.show()"
   ]
  },
  {
   "cell_type": "markdown",
   "metadata": {},
   "source": [
    "####  Northern Hemisphere - Wind Speed (mph) vs. Latitude Linear Regression"
   ]
  },
  {
   "cell_type": "code",
   "execution_count": 27,
   "metadata": {},
   "outputs": [
    {
     "name": "stdout",
     "output_type": "stream",
     "text": [
      "The r-squared is: 0.004903516829730943\n"
     ]
    },
    {
     "data": {
      "image/png": "[encoded data removed]",
      "text/plain": [
       "<Figure size 432x288 with 1 Axes>"
      ]
     },
     "metadata": {
      "needs_background": "light"
     },
     "output_type": "display_data"
    }
   ],
   "source": [
    "#scatter plot & linear regression\n",
    "latitude = north_latitude[\"Lat\"]\n",
    "wind_speed = north_latitude[\"Wind Speed\"]\n",
    "\n",
    "x = latitude\n",
    "y = wind_speed\n",
    "\n",
    "(slope, intercept, rvalue, pvalue, stderr) = linregress (x,y)\n",
    "regress_values = x * slope + intercept\n",
    "line_eq = \"y = \" + str(round(slope,2)) + \"x + \" + str(round(intercept,2))\n",
    "correlation = round(st.pearsonr(latitude,wind_speed)[0],2)\n",
    "\n",
    "plt.scatter(x,y, marker=\"o\", s=10)\n",
    "plt.plot(x,regress_values,\"r-\")\n",
    "plt.annotate(line_eq,(0,30),fontsize=15,color=\"red\")\n",
    "plt.title(\"Northern Hemisphere-Wind Speed (mph) vs Latitude\")\n",
    "plt.ylabel(\"Wind Speed\")\n",
    "plt.xlabel(\"Latitude\")\n",
    "plt.grid(True)\n",
    "\n",
    "print(f\"The r-squared is: {rvalue**2}\")\n",
    "\n",
    "#save\n",
    "#plt.savefig(\"output_plots/latitude_windspeed_plot.png\")\n",
    "\n",
    "#show\n",
    "plt.show()"
   ]
  },
  {
   "cell_type": "markdown",
   "metadata": {},
   "source": [
    "####  Southern Hemisphere - Wind Speed (mph) vs. Latitude Linear Regression"
   ]
  },
  {
   "cell_type": "code",
   "execution_count": 28,
   "metadata": {},
   "outputs": [
    {
     "name": "stdout",
     "output_type": "stream",
     "text": [
      "The r-squared is: 0.04493803742734161\n"
     ]
    },
    {
     "data": {
      "image/png": "[encoded data removed]",
      "text/plain": [
       "<Figure size 432x288 with 1 Axes>"
      ]
     },
     "metadata": {
      "needs_background": "light"
     },
     "output_type": "display_data"
    }
   ],
   "source": [
    "#scatter plot & linear regression\n",
    "latitude = south_latitude[\"Lat\"]\n",
    "wind_speed = south_latitude[\"Wind Speed\"]\n",
    "\n",
    "x = latitude\n",
    "y = wind_speed\n",
    "\n",
    "(slope, intercept, rvalue, pvalue, stderr) = linregress (x,y)\n",
    "regress_values = x * slope + intercept\n",
    "line_eq = \"y = \" + str(round(slope,2)) + \"x + \" + str(round(intercept,2))\n",
    "correlation = round(st.pearsonr(latitude,wind_speed)[0],2)\n",
    "\n",
    "plt.scatter(x,y, marker=\"o\", s=10)\n",
    "plt.plot(x,regress_values,\"r-\")\n",
    "plt.annotate(line_eq,(-50,20),fontsize=15,color=\"red\")\n",
    "plt.title(\"Southern Hemisphere-Wind Speed (mph) vs Latitude\")\n",
    "plt.ylabel(\"Wind Speed\")\n",
    "plt.xlabel(\"Latitude\")\n",
    "plt.grid(True)\n",
    "\n",
    "print(f\"The r-squared is: {rvalue**2}\")\n",
    "\n",
    "#save\n",
    "#plt.savefig(\"output_plots/latitude_windspeed_plot.png\")\n",
    "\n",
    "#show\n",
    "plt.show()"
   ]
  },
  {
   "cell_type": "code",
   "execution_count": null,
   "metadata": {},
   "outputs": [],
   "source": []
  }
 ],
 "metadata": {
  "anaconda-cloud": {},
  "kernel_info": {
   "name": "python3"
  },
  "kernelspec": {
   "display_name": "Python [conda env:PythonData] *",
   "language": "python",
   "name": "conda-env-PythonData-py"
  },
  "language_info": {
   "codemirror_mode": {
    "name": "ipython",
    "version": 3
   },
   "file_extension": ".py",
   "mimetype": "text/x-python",
   "name": "python",
   "nbconvert_exporter": "python",
   "pygments_lexer": "ipython3",
   "version": "3.7.1"
  },
  "latex_envs": {
   "LaTeX_envs_menu_present": true,
   "autoclose": false,
   "autocomplete": true,
   "bibliofile": "biblio.bib",
   "cite_by": "apalike",
   "current_citInitial": 1,
   "eqLabelWithNumbers": true,
   "eqNumInitial": 1,
   "hotkeys": {
    "equation": "Ctrl-E",
    "itemize": "Ctrl-I"
   },
   "labels_anchors": false,
   "latex_user_defs": false,
   "report_style_numbering": false,
   "user_envs_cfg": false
  },
  "nteract": {
   "version": "0.12.3"
  }
 },
 "nbformat": 4,
 "nbformat_minor": 2
}
