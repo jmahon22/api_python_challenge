{
 "cells": [
  {
   "cell_type": "markdown",
   "metadata": {},
   "source": [
    "# WeatherPy\n",
    "----\n",
    "\n",
    "#### Note\n",
    "* Instructions have been included for each segment. You do not have to follow them exactly, but they are included to help you think through the steps."
   ]
  },
  {
   "cell_type": "code",
   "execution_count": 47,
   "metadata": {
    "scrolled": true
   },
   "outputs": [],
   "source": [
    "# Dependencies and Setup\n",
    "#!pip install citipy\n",
    "import matplotlib.pyplot as plt\n",
    "import pandas as pd\n",
    "import numpy as np\n",
    "import requests\n",
    "import time\n",
    "from scipy.stats import linregress\n",
    "import json\n",
    "from pprint import pprint\n",
    "import scipy.stats as st\n",
    "\n",
    "# Import API key\n",
    "from api_keys import weather_api_key\n",
    "\n",
    "\n",
    "# Incorporated citipy to determine city based on latitude and longitude\n",
    "from citipy import citipy\n",
    "\n",
    "# Output File (CSV)\n",
    "output_data_file = \"output_data/cities.csv\"\n",
    "\n",
    "# Range of latitudes and longitudes\n",
    "lat_range = (-90, 90)\n",
    "lng_range = (-180, 180)"
   ]
  },
  {
   "cell_type": "markdown",
   "metadata": {},
   "source": [
    "## Generate Cities List"
   ]
  },
  {
   "cell_type": "code",
   "execution_count": 27,
   "metadata": {},
   "outputs": [
    {
     "data": {
      "text/plain": [
       "637"
      ]
     },
     "execution_count": 27,
     "metadata": {},
     "output_type": "execute_result"
    }
   ],
   "source": [
    "# List for holding lat_lngs and cities\n",
    "lat_lngs = []\n",
    "cities = []\n",
    "\n",
    "# random lat and lng combinations\n",
    "lats = np.random.uniform(lat_range[0], lat_range[1], size=1500)\n",
    "lngs = np.random.uniform(lng_range[0], lng_range[1], size=1500)\n",
    "lat_lngs = zip(lats, lngs)\n",
    "\n",
    "# Identify nearest city for each lat, lng combination\n",
    "for lat_lng in lat_lngs:\n",
    "    city = citipy.nearest_city(lat_lng[0], lat_lng[1]).city_name\n",
    "    \n",
    "    # If the city is unique, then add it to a our cities list\n",
    "    if city not in cities:\n",
    "        cities.append(city)\n",
    "\n",
    "# Print the city count to confirm sufficient count\n",
    "len(cities)"
   ]
  },
  {
   "cell_type": "markdown",
   "metadata": {},
   "source": [
    "### Perform API Calls\n",
    "* Perform a weather check on each city using a series of successive API calls.\n",
    "* Include a print log of each city as it'sbeing processed (with the city number and city name).\n"
   ]
  },
  {
   "cell_type": "code",
   "execution_count": 29,
   "metadata": {},
   "outputs": [],
   "source": [
    "#url\n",
    "#url = \"http://api.openweathermap.org/data/2.5/weather?\"\n",
    "temp_units = \"imperial\"\n",
    "query_url = f\"http://api.openweathermap.org/data/2.5/weather?appid={weather_api_key}&units={temp_units}&q=\""
   ]
  },
  {
   "cell_type": "code",
   "execution_count": 30,
   "metadata": {
    "scrolled": true
   },
   "outputs": [
    {
     "name": "stdout",
     "output_type": "stream",
     "text": [
      "{\n",
      "    \"cod\": \"400\",\n",
      "    \"message\": \"Nothing to geocode\"\n",
      "}\n"
     ]
    }
   ],
   "source": [
    "response = requests.get(query_url).json()\n",
    "print(json.dumps(response, indent=4, sort_keys=True))\n",
    "#print(response.text)\n",
    "#print(response.status_code)"
   ]
  },
  {
   "cell_type": "code",
   "execution_count": 31,
   "metadata": {
    "scrolled": true
   },
   "outputs": [
    {
     "name": "stdout",
     "output_type": "stream",
     "text": [
      "Processing Record 1 of Set 1 | mandera\n",
      "Processing Record 2 of Set 1 | torbay\n",
      "Processing Record 3 of Set 1 | hilo\n",
      "Processing Record 4 of Set 1 | bethel\n",
      "Processing Record 5 of Set 1 | jamestown\n",
      "Processing Record 6 of Set 1 | hithadhoo\n",
      "Processing Record 7 of Set 1 | rikitea\n",
      "Processing Record 8 of Set 1 | trinidad\n",
      "Processing Record 9 of Set 1 | shihezi\n",
      "Processing Record 10 of Set 1 | abu samrah\n",
      "Processing Record 11 of Set 1 | alice springs\n",
      "Processing Record 12 of Set 1 | georgetown\n",
      "Processing Record 13 of Set 1 | payson\n",
      "Processing Record 14 of Set 1 | matara\n",
      "Processing Record 15 of Set 1 | flinders\n",
      "Processing Record 16 of Set 1 | punta arenas\n",
      "Processing Record 17 of Set 1 | avarua\n",
      "Processing Record 18 of Set 1 | atuona\n",
      "Processing Record 19 of Set 1 | isangel\n",
      "Processing Record 20 of Set 1 | cidreira\n",
      "Processing Record 21 of Set 1 | sainte-marie\n",
      "Processing Record 22 of Set 1 | mataura\n",
      "Processing Record 23 of Set 1 | tuktoyaktuk\n",
      "Processing Record 24 of Set 1 | veraval\n",
      "City not found. Skipping...\n",
      "Processing Record 25 of Set 1 | mahebourg\n",
      "Processing Record 26 of Set 1 | ribeira grande\n",
      "Processing Record 27 of Set 1 | eureka\n",
      "Processing Record 28 of Set 1 | qaanaaq\n",
      "Processing Record 29 of Set 1 | san patricio\n",
      "Processing Record 30 of Set 1 | snasa\n",
      "Processing Record 31 of Set 1 | busselton\n",
      "City not found. Skipping...\n",
      "Processing Record 32 of Set 1 | chokurdakh\n",
      "Processing Record 33 of Set 1 | tessalit\n",
      "Processing Record 34 of Set 1 | isla mujeres\n",
      "Processing Record 35 of Set 1 | lahaina\n",
      "Processing Record 36 of Set 1 | hasaki\n",
      "City not found. Skipping...\n",
      "Processing Record 37 of Set 1 | albany\n",
      "Processing Record 38 of Set 1 | east london\n",
      "Processing Record 39 of Set 1 | arraial do cabo\n",
      "Processing Record 40 of Set 1 | tezu\n",
      "Processing Record 41 of Set 1 | thinadhoo\n",
      "Processing Record 42 of Set 1 | ponta do sol\n",
      "Processing Record 43 of Set 1 | butaritari\n",
      "Processing Record 44 of Set 1 | san jose\n",
      "City not found. Skipping...\n",
      "Processing Record 45 of Set 1 | ballina\n",
      "Processing Record 46 of Set 1 | hobart\n",
      "Processing Record 47 of Set 1 | birao\n",
      "Processing Record 48 of Set 1 | hays\n",
      "Processing Record 49 of Set 1 | vila velha\n",
      "Processing Record 50 of Set 1 | belaya gora\n",
      "Processing Record 1 of Set 2 | pangnirtung\n",
      "Processing Record 2 of Set 2 | yellowknife\n",
      "Processing Record 3 of Set 2 | san quintin\n",
      "Processing Record 4 of Set 2 | itacoatiara\n",
      "Processing Record 5 of Set 2 | kimbe\n",
      "Processing Record 6 of Set 2 | morant bay\n",
      "Processing Record 7 of Set 2 | khatanga\n",
      "Processing Record 8 of Set 2 | hermanus\n",
      "Processing Record 9 of Set 2 | camacha\n",
      "Processing Record 10 of Set 2 | kodiak\n",
      "Processing Record 11 of Set 2 | kilindoni\n",
      "Processing Record 12 of Set 2 | hamilton\n",
      "Processing Record 13 of Set 2 | kisangani\n",
      "Processing Record 14 of Set 2 | mao\n",
      "Processing Record 15 of Set 2 | dwarka\n",
      "Processing Record 16 of Set 2 | maceio\n",
      "Processing Record 17 of Set 2 | sao jose da coroa grande\n",
      "Processing Record 18 of Set 2 | nanortalik\n",
      "Processing Record 19 of Set 2 | kazachinskoye\n",
      "Processing Record 20 of Set 2 | grindavik\n",
      "City not found. Skipping...\n",
      "Processing Record 21 of Set 2 | kapaa\n",
      "Processing Record 22 of Set 2 | geraldton\n",
      "Processing Record 23 of Set 2 | faya\n",
      "City not found. Skipping...\n",
      "Processing Record 24 of Set 2 | tampayan\n",
      "Processing Record 25 of Set 2 | sao jose do calcado\n",
      "Processing Record 26 of Set 2 | vaini\n",
      "Processing Record 27 of Set 2 | acapulco\n",
      "City not found. Skipping...\n",
      "Processing Record 28 of Set 2 | maan\n",
      "City not found. Skipping...\n",
      "Processing Record 29 of Set 2 | george town\n",
      "Processing Record 30 of Set 2 | clyde river\n",
      "Processing Record 31 of Set 2 | hobyo\n",
      "Processing Record 32 of Set 2 | malartic\n",
      "City not found. Skipping...\n",
      "Processing Record 33 of Set 2 | sao filipe\n",
      "Processing Record 34 of Set 2 | arona\n",
      "City not found. Skipping...\n",
      "City not found. Skipping...\n",
      "Processing Record 35 of Set 2 | new norfolk\n",
      "City not found. Skipping...\n",
      "Processing Record 36 of Set 2 | yarada\n",
      "Processing Record 37 of Set 2 | comodoro rivadavia\n",
      "Processing Record 38 of Set 2 | kalmunai\n",
      "Processing Record 39 of Set 2 | sioux lookout\n",
      "Processing Record 40 of Set 2 | norman wells\n",
      "Processing Record 41 of Set 2 | faanui\n",
      "Processing Record 42 of Set 2 | kyren\n",
      "City not found. Skipping...\n",
      "Processing Record 43 of Set 2 | tecoanapa\n",
      "Processing Record 44 of Set 2 | bilma\n",
      "Processing Record 45 of Set 2 | davila\n",
      "Processing Record 46 of Set 2 | magadan\n",
      "Processing Record 47 of Set 2 | cape town\n",
      "Processing Record 48 of Set 2 | norrtalje\n",
      "Processing Record 49 of Set 2 | thompson\n",
      "Processing Record 50 of Set 2 | mar del plata\n",
      "Processing Record 1 of Set 3 | ewing\n",
      "Processing Record 2 of Set 3 | ushuaia\n",
      "Processing Record 3 of Set 3 | bluff\n",
      "Processing Record 4 of Set 3 | port elizabeth\n",
      "Processing Record 5 of Set 3 | souillac\n",
      "Processing Record 6 of Set 3 | bredasdorp\n",
      "City not found. Skipping...\n",
      "Processing Record 7 of Set 3 | saint-philippe\n",
      "Processing Record 8 of Set 3 | mbaiki\n",
      "Processing Record 9 of Set 3 | hambantota\n",
      "Processing Record 10 of Set 3 | nicoya\n",
      "Processing Record 11 of Set 3 | caxito\n",
      "Processing Record 12 of Set 3 | yurla\n",
      "Processing Record 13 of Set 3 | palmeirais\n",
      "Processing Record 14 of Set 3 | effium\n",
      "Processing Record 15 of Set 3 | havre-saint-pierre\n",
      "Processing Record 16 of Set 3 | sakaiminato\n",
      "Processing Record 17 of Set 3 | yar-sale\n",
      "Processing Record 18 of Set 3 | papar\n",
      "Processing Record 19 of Set 3 | namatanai\n",
      "Processing Record 20 of Set 3 | idritsa\n",
      "Processing Record 21 of Set 3 | malanje\n",
      "City not found. Skipping...\n",
      "Processing Record 22 of Set 3 | scottsboro\n",
      "Processing Record 23 of Set 3 | mys shmidta\n",
      "Processing Record 24 of Set 3 | hede\n",
      "Processing Record 25 of Set 3 | srednekolymsk\n",
      "City not found. Skipping...\n",
      "Processing Record 26 of Set 3 | longyearbyen\n",
      "Processing Record 27 of Set 3 | emba\n",
      "City not found. Skipping...\n",
      "Processing Record 28 of Set 3 | amapa\n",
      "Processing Record 29 of Set 3 | beringovskiy\n",
      "Processing Record 30 of Set 3 | north bend\n",
      "Processing Record 31 of Set 3 | ahipara\n",
      "Processing Record 32 of Set 3 | barrow\n",
      "Processing Record 33 of Set 3 | platanos\n",
      "Processing Record 34 of Set 3 | bengkulu\n",
      "Processing Record 35 of Set 3 | bandarbeyla\n",
      "Processing Record 36 of Set 3 | yumen\n",
      "Processing Record 37 of Set 3 | esperance\n",
      "Processing Record 38 of Set 3 | shiyan\n",
      "Processing Record 39 of Set 3 | fortuna\n",
      "Processing Record 40 of Set 3 | chuy\n",
      "Processing Record 41 of Set 3 | nicholasville\n",
      "Processing Record 42 of Set 3 | heihe\n",
      "City not found. Skipping...\n",
      "Processing Record 43 of Set 3 | verkhnevilyuysk\n",
      "Processing Record 44 of Set 3 | noumea\n",
      "Processing Record 45 of Set 3 | gwanda\n",
      "Processing Record 46 of Set 3 | san felipe\n",
      "City not found. Skipping...\n",
      "Processing Record 47 of Set 3 | strezhevoy\n",
      "Processing Record 48 of Set 3 | sun city west\n",
      "Processing Record 49 of Set 3 | shonguy\n",
      "Processing Record 50 of Set 3 | saint-augustin\n",
      "Processing Record 1 of Set 4 | yarmouth\n",
      "Processing Record 2 of Set 4 | avera\n",
      "Processing Record 3 of Set 4 | brae\n",
      "Processing Record 4 of Set 4 | dikson\n",
      "Processing Record 5 of Set 4 | sorong\n",
      "Processing Record 6 of Set 4 | leningradskiy\n",
      "City not found. Skipping...\n",
      "Processing Record 7 of Set 4 | crotone\n",
      "Processing Record 8 of Set 4 | ampanihy\n",
      "Processing Record 9 of Set 4 | winneba\n",
      "Processing Record 10 of Set 4 | narok\n",
      "Processing Record 11 of Set 4 | krasnyy chikoy\n",
      "Processing Record 12 of Set 4 | quelimane\n",
      "Processing Record 13 of Set 4 | yulara\n",
      "Processing Record 14 of Set 4 | soyo\n",
      "Processing Record 15 of Set 4 | havre\n",
      "Processing Record 16 of Set 4 | ilulissat\n",
      "Processing Record 17 of Set 4 | moranbah\n",
      "Processing Record 18 of Set 4 | tasiilaq\n",
      "Processing Record 19 of Set 4 | namibe\n",
      "Processing Record 20 of Set 4 | iqaluit\n",
      "Processing Record 21 of Set 4 | krasnoselkup\n",
      "Processing Record 22 of Set 4 | zhigansk\n",
      "Processing Record 23 of Set 4 | saskylakh\n",
      "Processing Record 24 of Set 4 | luderitz\n",
      "Processing Record 25 of Set 4 | cayenne\n",
      "Processing Record 26 of Set 4 | panama city\n",
      "Processing Record 27 of Set 4 | port alfred\n",
      "City not found. Skipping...\n",
      "Processing Record 28 of Set 4 | codrington\n",
      "Processing Record 29 of Set 4 | sarankhola\n",
      "Processing Record 30 of Set 4 | vila\n",
      "Processing Record 31 of Set 4 | castro\n",
      "Processing Record 32 of Set 4 | san cristobal\n",
      "City not found. Skipping...\n",
      "Processing Record 33 of Set 4 | opuwo\n",
      "Processing Record 34 of Set 4 | grand river south east\n",
      "Processing Record 35 of Set 4 | aberdeen\n"
     ]
    },
    {
     "name": "stdout",
     "output_type": "stream",
     "text": [
      "Processing Record 36 of Set 4 | severnoye\n",
      "Processing Record 37 of Set 4 | klaksvik\n",
      "Processing Record 38 of Set 4 | carnarvon\n",
      "Processing Record 39 of Set 4 | lieto\n",
      "Processing Record 40 of Set 4 | port blair\n",
      "Processing Record 41 of Set 4 | bodden town\n",
      "Processing Record 42 of Set 4 | kaitangata\n",
      "Processing Record 43 of Set 4 | sao joao da barra\n",
      "Processing Record 44 of Set 4 | pevek\n",
      "Processing Record 45 of Set 4 | makaha\n",
      "Processing Record 46 of Set 4 | oudtshoorn\n",
      "Processing Record 47 of Set 4 | amurzet\n",
      "Processing Record 48 of Set 4 | shimoda\n",
      "Processing Record 49 of Set 4 | altamont\n",
      "Processing Record 50 of Set 4 | baruun-urt\n",
      "Processing Record 1 of Set 5 | korla\n",
      "Processing Record 2 of Set 5 | victoria\n",
      "Processing Record 3 of Set 5 | shwebo\n",
      "Processing Record 4 of Set 5 | mae sai\n",
      "Processing Record 5 of Set 5 | lasa\n",
      "Processing Record 6 of Set 5 | trincomalee\n",
      "Processing Record 7 of Set 5 | roma\n",
      "Processing Record 8 of Set 5 | kabanjahe\n",
      "Processing Record 9 of Set 5 | troitskoye\n",
      "Processing Record 10 of Set 5 | kaitong\n",
      "Processing Record 11 of Set 5 | puerto ayora\n",
      "Processing Record 12 of Set 5 | upernavik\n",
      "Processing Record 13 of Set 5 | awjilah\n",
      "Processing Record 14 of Set 5 | vardo\n",
      "Processing Record 15 of Set 5 | daru\n",
      "Processing Record 16 of Set 5 | richards bay\n",
      "Processing Record 17 of Set 5 | khani\n",
      "Processing Record 18 of Set 5 | worthing\n",
      "Processing Record 19 of Set 5 | dongying\n",
      "Processing Record 20 of Set 5 | lopatino\n",
      "Processing Record 21 of Set 5 | pecos\n",
      "Processing Record 22 of Set 5 | novikovo\n",
      "Processing Record 23 of Set 5 | itamaraju\n",
      "Processing Record 24 of Set 5 | hoquiam\n",
      "Processing Record 25 of Set 5 | bonthe\n",
      "Processing Record 26 of Set 5 | ambon\n",
      "Processing Record 27 of Set 5 | manokwari\n",
      "Processing Record 28 of Set 5 | buin\n",
      "Processing Record 29 of Set 5 | acarau\n",
      "Processing Record 30 of Set 5 | copiapo\n",
      "Processing Record 31 of Set 5 | constitucion\n",
      "Processing Record 32 of Set 5 | turukhansk\n",
      "City not found. Skipping...\n",
      "Processing Record 33 of Set 5 | hanna\n",
      "Processing Record 34 of Set 5 | sidi ali\n",
      "Processing Record 35 of Set 5 | cabo san lucas\n",
      "Processing Record 36 of Set 5 | sanghar\n",
      "City not found. Skipping...\n",
      "Processing Record 37 of Set 5 | sibolga\n",
      "City not found. Skipping...\n",
      "Processing Record 38 of Set 5 | nanhai\n",
      "Processing Record 39 of Set 5 | luanda\n",
      "City not found. Skipping...\n",
      "Processing Record 40 of Set 5 | ambulu\n",
      "Processing Record 41 of Set 5 | lompoc\n",
      "Processing Record 42 of Set 5 | pisco\n",
      "Processing Record 43 of Set 5 | mahibadhoo\n",
      "Processing Record 44 of Set 5 | dudinka\n",
      "Processing Record 45 of Set 5 | ancud\n",
      "Processing Record 46 of Set 5 | alizai\n",
      "Processing Record 47 of Set 5 | nome\n",
      "Processing Record 48 of Set 5 | burnie\n",
      "City not found. Skipping...\n",
      "Processing Record 49 of Set 5 | wodonga\n",
      "Processing Record 50 of Set 5 | ngunguru\n",
      "Processing Record 1 of Set 6 | guerrero negro\n",
      "Processing Record 2 of Set 6 | sarkand\n",
      "Processing Record 3 of Set 6 | provideniya\n",
      "City not found. Skipping...\n",
      "Processing Record 4 of Set 6 | tamworth\n",
      "Processing Record 5 of Set 6 | sayat\n",
      "Processing Record 6 of Set 6 | pasighat\n",
      "Processing Record 7 of Set 6 | ardakan\n",
      "Processing Record 8 of Set 6 | kamenka\n",
      "Processing Record 9 of Set 6 | kupino\n",
      "Processing Record 10 of Set 6 | viareggio\n",
      "Processing Record 11 of Set 6 | karratha\n",
      "Processing Record 12 of Set 6 | port-cartier\n",
      "City not found. Skipping...\n",
      "Processing Record 13 of Set 6 | shubarshi\n",
      "Processing Record 14 of Set 6 | aksha\n",
      "City not found. Skipping...\n",
      "Processing Record 15 of Set 6 | pacific grove\n",
      "Processing Record 16 of Set 6 | kaeo\n",
      "Processing Record 17 of Set 6 | esfarayen\n",
      "Processing Record 18 of Set 6 | aykhal\n",
      "Processing Record 19 of Set 6 | kenai\n",
      "Processing Record 20 of Set 6 | zavolzhsk\n",
      "Processing Record 21 of Set 6 | bac lieu\n",
      "Processing Record 22 of Set 6 | berlevag\n",
      "Processing Record 23 of Set 6 | lensk\n",
      "Processing Record 24 of Set 6 | tiksi\n",
      "Processing Record 25 of Set 6 | atig\n",
      "Processing Record 26 of Set 6 | cherskiy\n",
      "Processing Record 27 of Set 6 | ambovombe\n",
      "Processing Record 28 of Set 6 | olinda\n",
      "Processing Record 29 of Set 6 | nikolskoye\n",
      "City not found. Skipping...\n",
      "Processing Record 30 of Set 6 | koszalin\n",
      "Processing Record 31 of Set 6 | dalvik\n",
      "Processing Record 32 of Set 6 | kavieng\n",
      "Processing Record 33 of Set 6 | buraydah\n",
      "Processing Record 34 of Set 6 | suntar\n",
      "Processing Record 35 of Set 6 | shu\n",
      "Processing Record 36 of Set 6 | sal rei\n",
      "Processing Record 37 of Set 6 | san diego\n",
      "Processing Record 38 of Set 6 | sisimiut\n",
      "Processing Record 39 of Set 6 | petrovsk\n",
      "Processing Record 40 of Set 6 | kumluca\n",
      "Processing Record 41 of Set 6 | ahtopol\n",
      "Processing Record 42 of Set 6 | pomabamba\n",
      "Processing Record 43 of Set 6 | haflong\n",
      "Processing Record 44 of Set 6 | hami\n",
      "Processing Record 45 of Set 6 | bubaque\n",
      "Processing Record 46 of Set 6 | oranjemund\n",
      "Processing Record 47 of Set 6 | tura\n",
      "Processing Record 48 of Set 6 | marathon\n",
      "Processing Record 49 of Set 6 | hovd\n",
      "Processing Record 50 of Set 6 | benguela\n",
      "Processing Record 1 of Set 7 | lavrentiya\n",
      "Processing Record 2 of Set 7 | maningrida\n",
      "Processing Record 3 of Set 7 | homer\n",
      "Processing Record 4 of Set 7 | cabras\n",
      "Processing Record 5 of Set 7 | greece\n",
      "Processing Record 6 of Set 7 | kewanee\n",
      "Processing Record 7 of Set 7 | qiongshan\n",
      "City not found. Skipping...\n",
      "Processing Record 8 of Set 7 | bafra\n",
      "Processing Record 9 of Set 7 | lata\n",
      "City not found. Skipping...\n",
      "Processing Record 10 of Set 7 | talnakh\n",
      "Processing Record 11 of Set 7 | orcopampa\n",
      "Processing Record 12 of Set 7 | padang\n",
      "Processing Record 13 of Set 7 | navirai\n",
      "Processing Record 14 of Set 7 | goundam\n",
      "Processing Record 15 of Set 7 | bontang\n",
      "Processing Record 16 of Set 7 | port hardy\n",
      "Processing Record 17 of Set 7 | exu\n",
      "City not found. Skipping...\n",
      "Processing Record 18 of Set 7 | aberfeldy\n",
      "Processing Record 19 of Set 7 | gondanglegi\n",
      "Processing Record 20 of Set 7 | piquete\n",
      "Processing Record 21 of Set 7 | anloga\n",
      "Processing Record 22 of Set 7 | severo-kurilsk\n",
      "Processing Record 23 of Set 7 | sitka\n",
      "City not found. Skipping...\n",
      "Processing Record 24 of Set 7 | buchanan\n",
      "Processing Record 25 of Set 7 | bambous virieux\n",
      "Processing Record 26 of Set 7 | aksarka\n",
      "Processing Record 27 of Set 7 | wakkanai\n",
      "Processing Record 28 of Set 7 | gallup\n",
      "Processing Record 29 of Set 7 | kidal\n",
      "Processing Record 30 of Set 7 | luwuk\n",
      "Processing Record 31 of Set 7 | alghero\n",
      "Processing Record 32 of Set 7 | cockburn town\n",
      "City not found. Skipping...\n",
      "Processing Record 33 of Set 7 | kismayo\n",
      "Processing Record 34 of Set 7 | alexandria\n",
      "Processing Record 35 of Set 7 | dhidhdhoo\n",
      "Processing Record 36 of Set 7 | espumoso\n",
      "Processing Record 37 of Set 7 | nabire\n",
      "Processing Record 38 of Set 7 | mgachi\n",
      "Processing Record 39 of Set 7 | muroto\n",
      "Processing Record 40 of Set 7 | soe\n",
      "Processing Record 41 of Set 7 | saint-louis\n",
      "Processing Record 42 of Set 7 | pishin\n",
      "Processing Record 43 of Set 7 | nara\n",
      "Processing Record 44 of Set 7 | tekeli\n",
      "Processing Record 45 of Set 7 | lagoa\n",
      "Processing Record 46 of Set 7 | kalabo\n",
      "Processing Record 47 of Set 7 | verkh-chebula\n",
      "City not found. Skipping...\n",
      "Processing Record 48 of Set 7 | pauini\n",
      "City not found. Skipping...\n",
      "Processing Record 49 of Set 7 | plouzane\n",
      "Processing Record 50 of Set 7 | kaya\n",
      "Processing Record 1 of Set 8 | dawson creek\n",
      "Processing Record 2 of Set 8 | ambrolauri\n",
      "Processing Record 3 of Set 8 | agadir\n",
      "Processing Record 4 of Set 8 | roebourne\n",
      "Processing Record 5 of Set 8 | fairview\n",
      "Processing Record 6 of Set 8 | kruisfontein\n",
      "Processing Record 7 of Set 8 | grand gaube\n",
      "Processing Record 8 of Set 8 | callaway\n",
      "Processing Record 9 of Set 8 | ankpa\n",
      "Processing Record 10 of Set 8 | nishihara\n",
      "Processing Record 11 of Set 8 | iranshahr\n",
      "Processing Record 12 of Set 8 | lebu\n",
      "City not found. Skipping...\n",
      "Processing Record 13 of Set 8 | olovyannaya\n",
      "Processing Record 14 of Set 8 | fairbanks\n",
      "Processing Record 15 of Set 8 | ayan\n",
      "Processing Record 16 of Set 8 | reconquista\n",
      "Processing Record 17 of Set 8 | zlobin\n",
      "Processing Record 18 of Set 8 | narsaq\n",
      "Processing Record 19 of Set 8 | drummondville\n",
      "Processing Record 20 of Set 8 | poyarkovo\n",
      "Processing Record 21 of Set 8 | ayagoz\n",
      "Processing Record 22 of Set 8 | kyzyl-suu\n",
      "City not found. Skipping...\n",
      "Processing Record 23 of Set 8 | buri\n",
      "Processing Record 24 of Set 8 | clarence town\n",
      "Processing Record 25 of Set 8 | isiro\n"
     ]
    },
    {
     "name": "stdout",
     "output_type": "stream",
     "text": [
      "Processing Record 26 of Set 8 | mayo\n",
      "Processing Record 27 of Set 8 | sabha\n",
      "Processing Record 28 of Set 8 | hualmay\n",
      "Processing Record 29 of Set 8 | limbazi\n",
      "Processing Record 30 of Set 8 | apache junction\n",
      "Processing Record 31 of Set 8 | portland\n",
      "Processing Record 32 of Set 8 | tierranueva\n",
      "Processing Record 33 of Set 8 | bairiki\n",
      "City not found. Skipping...\n",
      "Processing Record 34 of Set 8 | kambove\n",
      "Processing Record 35 of Set 8 | kieta\n",
      "Processing Record 36 of Set 8 | pionerskiy\n",
      "Processing Record 37 of Set 8 | menongue\n",
      "City not found. Skipping...\n",
      "Processing Record 38 of Set 8 | amahai\n",
      "Processing Record 39 of Set 8 | axim\n",
      "Processing Record 40 of Set 8 | ocosingo\n",
      "Processing Record 41 of Set 8 | urubicha\n",
      "City not found. Skipping...\n",
      "Processing Record 42 of Set 8 | vao\n",
      "Processing Record 43 of Set 8 | kristiansund\n",
      "Processing Record 44 of Set 8 | lixourion\n",
      "Processing Record 45 of Set 8 | damphu\n",
      "Processing Record 46 of Set 8 | kozhevnikovo\n",
      "Processing Record 47 of Set 8 | mount gambier\n",
      "Processing Record 48 of Set 8 | west bay\n",
      "Processing Record 49 of Set 8 | moose factory\n",
      "Processing Record 50 of Set 8 | asau\n",
      "Processing Record 1 of Set 9 | rio grande\n",
      "City not found. Skipping...\n",
      "Processing Record 2 of Set 9 | vanavara\n",
      "Processing Record 3 of Set 9 | kodino\n",
      "Processing Record 4 of Set 9 | arman\n",
      "Processing Record 5 of Set 9 | turayf\n",
      "Processing Record 6 of Set 9 | seddon\n",
      "Processing Record 7 of Set 9 | taoudenni\n",
      "Processing Record 8 of Set 9 | sakhipur\n",
      "Processing Record 9 of Set 9 | tucuman\n",
      "Processing Record 10 of Set 9 | bandiagara\n",
      "Processing Record 11 of Set 9 | yaan\n",
      "Processing Record 12 of Set 9 | waw\n",
      "Processing Record 13 of Set 9 | yuryev-polskiy\n",
      "Processing Record 14 of Set 9 | caravelas\n",
      "Processing Record 15 of Set 9 | lorengau\n",
      "Processing Record 16 of Set 9 | nouadhibou\n",
      "City not found. Skipping...\n",
      "Processing Record 17 of Set 9 | martil\n",
      "Processing Record 18 of Set 9 | zhifang\n",
      "Processing Record 19 of Set 9 | antalaha\n",
      "City not found. Skipping...\n",
      "City not found. Skipping...\n",
      "Processing Record 20 of Set 9 | tutoia\n",
      "Processing Record 21 of Set 9 | banes\n",
      "Processing Record 22 of Set 9 | goalpara\n",
      "Processing Record 23 of Set 9 | svetlogorsk\n",
      "Processing Record 24 of Set 9 | katsuura\n",
      "Processing Record 25 of Set 9 | fomboni\n",
      "Processing Record 26 of Set 9 | wabag\n",
      "Processing Record 27 of Set 9 | santa cruz cabralia\n",
      "Processing Record 28 of Set 9 | merauke\n",
      "Processing Record 29 of Set 9 | mahenge\n",
      "Processing Record 30 of Set 9 | dingle\n",
      "City not found. Skipping...\n",
      "Processing Record 31 of Set 9 | mizoch\n",
      "Processing Record 32 of Set 9 | bahia blanca\n",
      "Processing Record 33 of Set 9 | bien hoa\n",
      "Processing Record 34 of Set 9 | margate\n",
      "Processing Record 35 of Set 9 | lufilufi\n",
      "Processing Record 36 of Set 9 | sudak\n",
      "Processing Record 37 of Set 9 | bozdar\n",
      "Processing Record 38 of Set 9 | ilebo\n",
      "Processing Record 39 of Set 9 | sistranda\n",
      "Processing Record 40 of Set 9 | vestmannaeyjar\n",
      "Processing Record 41 of Set 9 | winnemucca\n",
      "City not found. Skipping...\n",
      "Processing Record 42 of Set 9 | manggar\n",
      "Processing Record 43 of Set 9 | necochea\n",
      "Processing Record 44 of Set 9 | ouallam\n",
      "Processing Record 45 of Set 9 | barcelona\n",
      "Processing Record 46 of Set 9 | lichuan\n",
      "Processing Record 47 of Set 9 | helong\n",
      "Processing Record 48 of Set 9 | viedma\n",
      "Processing Record 49 of Set 9 | kodinsk\n",
      "Processing Record 50 of Set 9 | rauma\n",
      "City not found. Skipping...\n",
      "City not found. Skipping...\n",
      "Processing Record 1 of Set 10 | sinnamary\n",
      "Processing Record 2 of Set 10 | pacocha\n",
      "Processing Record 3 of Set 10 | coxim\n",
      "City not found. Skipping...\n",
      "Processing Record 4 of Set 10 | orocue\n",
      "Processing Record 5 of Set 10 | gamba\n",
      "Processing Record 6 of Set 10 | alekseyevka\n",
      "Processing Record 7 of Set 10 | socorro\n",
      "Processing Record 8 of Set 10 | pochutla\n",
      "Processing Record 9 of Set 10 | iskateley\n",
      "Processing Record 10 of Set 10 | pasni\n",
      "City not found. Skipping...\n",
      "Processing Record 11 of Set 10 | champerico\n",
      "Processing Record 12 of Set 10 | catamarca\n",
      "Processing Record 13 of Set 10 | rozkishne\n",
      "Processing Record 14 of Set 10 | alofi\n",
      "City not found. Skipping...\n",
      "Processing Record 15 of Set 10 | kropotkin\n",
      "Processing Record 16 of Set 10 | bauan\n",
      "Processing Record 17 of Set 10 | farsund\n",
      "Processing Record 18 of Set 10 | morondava\n",
      "Processing Record 19 of Set 10 | hofn\n",
      "City not found. Skipping...\n",
      "Processing Record 20 of Set 10 | pirganj\n",
      "Processing Record 21 of Set 10 | terrasini\n",
      "Processing Record 22 of Set 10 | pavlodar\n",
      "Processing Record 23 of Set 10 | aklavik\n",
      "Processing Record 24 of Set 10 | port-gentil\n",
      "Processing Record 25 of Set 10 | vallenar\n",
      "Processing Record 26 of Set 10 | sola\n",
      "Processing Record 27 of Set 10 | mount isa\n",
      "Processing Record 28 of Set 10 | marienburg\n",
      "Processing Record 29 of Set 10 | high level\n",
      "Processing Record 30 of Set 10 | varna\n",
      "City not found. Skipping...\n",
      "Processing Record 31 of Set 10 | kloulklubed\n",
      "Processing Record 32 of Set 10 | hohhot\n",
      "Processing Record 33 of Set 10 | yuzhne\n",
      "Processing Record 34 of Set 10 | boende\n",
      "Processing Record 35 of Set 10 | katobu\n",
      "Processing Record 36 of Set 10 | lazurne\n",
      "Processing Record 37 of Set 10 | moron\n",
      "Processing Record 38 of Set 10 | brynmawr\n",
      "Processing Record 39 of Set 10 | impfondo\n",
      "Processing Record 40 of Set 10 | lydenburg\n",
      "Processing Record 41 of Set 10 | ust-koksa\n",
      "City not found. Skipping...\n",
      "Processing Record 42 of Set 10 | mogadishu\n",
      "Processing Record 43 of Set 10 | mlonggo\n",
      "Processing Record 44 of Set 10 | hornepayne\n",
      "Processing Record 45 of Set 10 | dicabisagan\n",
      "Processing Record 46 of Set 10 | kavaratti\n",
      "City not found. Skipping...\n",
      "Processing Record 47 of Set 10 | carauari\n",
      "City not found. Skipping...\n",
      "Processing Record 48 of Set 10 | kosonsoy\n",
      "Processing Record 49 of Set 10 | northam\n",
      "Processing Record 50 of Set 10 | jalu\n",
      "City not found. Skipping...\n",
      "Processing Record 1 of Set 11 | cantagalo\n",
      "Processing Record 2 of Set 11 | techiman\n",
      "City not found. Skipping...\n",
      "Processing Record 3 of Set 11 | beinamar\n",
      "Processing Record 4 of Set 11 | atagay\n",
      "Processing Record 5 of Set 11 | chinsali\n",
      "Processing Record 6 of Set 11 | korostyshiv\n",
      "Processing Record 7 of Set 11 | college\n",
      "Processing Record 8 of Set 11 | sobolevo\n",
      "Processing Record 9 of Set 11 | jaisalmer\n",
      "Processing Record 10 of Set 11 | atasu\n",
      "Processing Record 11 of Set 11 | olen\n",
      "Processing Record 12 of Set 11 | qaqortoq\n",
      "Processing Record 13 of Set 11 | victor harbor\n",
      "Processing Record 14 of Set 11 | chalakudi\n",
      "Processing Record 15 of Set 11 | znamenskoye\n",
      "Processing Record 16 of Set 11 | dori\n",
      "Processing Record 17 of Set 11 | acajutla\n",
      "Processing Record 18 of Set 11 | san andres\n",
      "Processing Record 19 of Set 11 | nemuro\n",
      "Processing Record 20 of Set 11 | port moresby\n",
      "Processing Record 21 of Set 11 | santa branca\n",
      "Processing Record 22 of Set 11 | phan rang\n",
      "Processing Record 23 of Set 11 | phan thiet\n",
      "Processing Record 24 of Set 11 | waipawa\n",
      "Processing Record 25 of Set 11 | rio gallegos\n",
      "Processing Record 26 of Set 11 | chapais\n",
      "Processing Record 27 of Set 11 | kiruna\n",
      "Processing Record 28 of Set 11 | marrakesh\n",
      "Processing Record 29 of Set 11 | touros\n",
      "Processing Record 30 of Set 11 | maraa\n",
      "Processing Record 31 of Set 11 | chunar\n",
      "Processing Record 32 of Set 11 | jatai\n",
      "Processing Record 33 of Set 11 | marzuq\n",
      "Processing Record 34 of Set 11 | valdez\n",
      "Processing Record 35 of Set 11 | garh maharaja\n",
      "Processing Record 36 of Set 11 | itoman\n",
      "Processing Record 37 of Set 11 | kahului\n",
      "Processing Record 38 of Set 11 | panaba\n",
      "Processing Record 39 of Set 11 | arinos\n",
      "Processing Record 40 of Set 11 | roald\n",
      "Processing Record 41 of Set 11 | mujiayingzi\n",
      "Processing Record 42 of Set 11 | kurri kurri\n",
      "Processing Record 43 of Set 11 | gweta\n",
      "City not found. Skipping...\n",
      "Processing Record 44 of Set 11 | tevaitoa\n",
      "Processing Record 45 of Set 11 | fort nelson\n",
      "Processing Record 46 of Set 11 | zonguldak\n",
      "City not found. Skipping...\n",
      "Processing Record 47 of Set 11 | palenque\n",
      "Processing Record 48 of Set 11 | mecca\n",
      "City not found. Skipping...\n",
      "Processing Record 49 of Set 11 | amos\n",
      "Processing Record 50 of Set 11 | asifabad\n",
      "Processing Record 1 of Set 12 | novopskov\n",
      "City not found. Skipping...\n",
      "Processing Record 2 of Set 12 | boa vista\n",
      "Processing Record 3 of Set 12 | tabuk\n",
      "Processing Record 4 of Set 12 | port lincoln\n",
      "Processing Record 5 of Set 12 | yunyang\n",
      "Processing Record 6 of Set 12 | alta floresta\n",
      "Processing Record 7 of Set 12 | manuk mangkaw\n",
      "Processing Record 8 of Set 12 | ostrovnoy\n"
     ]
    },
    {
     "name": "stdout",
     "output_type": "stream",
     "text": [
      "Processing Record 9 of Set 12 | felsotarkany\n",
      "Processing Record 10 of Set 12 | villa carlos paz\n",
      "Processing Record 11 of Set 12 | yeppoon\n",
      "Processing Record 12 of Set 12 | dukat\n",
      "Processing Record 13 of Set 12 | port macquarie\n",
      "Processing Record 14 of Set 12 | boyolangu\n",
      "Processing Record 15 of Set 12 | riyadh\n",
      "Processing Record 16 of Set 12 | sur\n",
      "Processing Record 17 of Set 12 | tilichiki\n",
      "Processing Record 18 of Set 12 | toledo\n",
      "Processing Record 19 of Set 12 | saldanha\n",
      "Processing Record 20 of Set 12 | egvekinot\n",
      "Processing Record 21 of Set 12 | mitchell\n",
      "Processing Record 22 of Set 12 | ouadda\n",
      "------------------------------\n",
      "Data Retrieval Complete\n",
      "------------------------------\n"
     ]
    }
   ],
   "source": [
    "#set lists\n",
    "city_two = []\n",
    "cloudinesses = []\n",
    "dates = []\n",
    "humidities = []\n",
    "lats = []\n",
    "lngs = []\n",
    "max_temps = []\n",
    "wind_speeds = []\n",
    "countries = []\n",
    "\n",
    "# set initial count quantities\n",
    "count_one = 0\n",
    "set_one = 1\n",
    "\n",
    "# loop for dataframe \n",
    "for city in cities:\n",
    "    try:\n",
    "        response = requests.get(query_url + city.replace(\" \",\"&\")).json()\n",
    "        cloudinesses.append(response['clouds']['all'])\n",
    "        countries.append(response['sys']['country'])\n",
    "        dates.append(response['dt'])\n",
    "        humidities.append(response['main']['humidity'])\n",
    "        lats.append(response['coord']['lat'])\n",
    "        lngs.append(response['coord']['lon'])\n",
    "        max_temps.append(response['main']['temp_max'])\n",
    "        wind_speeds.append(response['wind']['speed'])\n",
    "        if count_one > 49:\n",
    "            count_one = 1\n",
    "            set_one += 1\n",
    "            city_two.append(city)\n",
    "        else:\n",
    "            count_one += 1\n",
    "            city_two.append(city)\n",
    "        print(f\"Processing Record {count_one} of Set {set_one} | {city}\")\n",
    "    except Exception:\n",
    "        print(\"City not found. Skipping...\")\n",
    "print(\"------------------------------\\nData Retrieval Complete\\n------------------------------\")"
   ]
  },
  {
   "cell_type": "markdown",
   "metadata": {},
   "source": [
    "### Convert Raw Data to DataFrame\n",
    "* Export the city data into a .csv.\n",
    "* Display the DataFrame"
   ]
  },
  {
   "cell_type": "code",
   "execution_count": 35,
   "metadata": {},
   "outputs": [
    {
     "data": {
      "text/html": [
       "<div>\n",
       "<style scoped>\n",
       "    .dataframe tbody tr th:only-of-type {\n",
       "        vertical-align: middle;\n",
       "    }\n",
       "\n",
       "    .dataframe tbody tr th {\n",
       "        vertical-align: top;\n",
       "    }\n",
       "\n",
       "    .dataframe thead th {\n",
       "        text-align: right;\n",
       "    }\n",
       "</style>\n",
       "<table border=\"1\" class=\"dataframe\">\n",
       "  <thead>\n",
       "    <tr style=\"text-align: right;\">\n",
       "      <th></th>\n",
       "      <th>City</th>\n",
       "      <th>Lat</th>\n",
       "      <th>Lng</th>\n",
       "      <th>Max Temp</th>\n",
       "      <th>Humidity</th>\n",
       "      <th>Cloudiness</th>\n",
       "      <th>Wind Speed</th>\n",
       "      <th>Country</th>\n",
       "      <th>Date</th>\n",
       "    </tr>\n",
       "  </thead>\n",
       "  <tbody>\n",
       "    <tr>\n",
       "      <th>0</th>\n",
       "      <td>mandera</td>\n",
       "      <td>3.94</td>\n",
       "      <td>41.87</td>\n",
       "      <td>79.54</td>\n",
       "      <td>70</td>\n",
       "      <td>33</td>\n",
       "      <td>15.41</td>\n",
       "      <td>KE</td>\n",
       "      <td>1603242496</td>\n",
       "    </tr>\n",
       "    <tr>\n",
       "      <th>1</th>\n",
       "      <td>torbay</td>\n",
       "      <td>47.67</td>\n",
       "      <td>-52.73</td>\n",
       "      <td>57.99</td>\n",
       "      <td>93</td>\n",
       "      <td>90</td>\n",
       "      <td>12.75</td>\n",
       "      <td>CA</td>\n",
       "      <td>1603242315</td>\n",
       "    </tr>\n",
       "    <tr>\n",
       "      <th>2</th>\n",
       "      <td>hilo</td>\n",
       "      <td>19.73</td>\n",
       "      <td>-155.09</td>\n",
       "      <td>87.80</td>\n",
       "      <td>45</td>\n",
       "      <td>1</td>\n",
       "      <td>12.75</td>\n",
       "      <td>US</td>\n",
       "      <td>1603242473</td>\n",
       "    </tr>\n",
       "    <tr>\n",
       "      <th>3</th>\n",
       "      <td>bethel</td>\n",
       "      <td>41.37</td>\n",
       "      <td>-73.41</td>\n",
       "      <td>61.00</td>\n",
       "      <td>100</td>\n",
       "      <td>1</td>\n",
       "      <td>0.18</td>\n",
       "      <td>US</td>\n",
       "      <td>1603243039</td>\n",
       "    </tr>\n",
       "    <tr>\n",
       "      <th>4</th>\n",
       "      <td>jamestown</td>\n",
       "      <td>42.10</td>\n",
       "      <td>-79.24</td>\n",
       "      <td>48.00</td>\n",
       "      <td>93</td>\n",
       "      <td>90</td>\n",
       "      <td>8.05</td>\n",
       "      <td>US</td>\n",
       "      <td>1603243034</td>\n",
       "    </tr>\n",
       "  </tbody>\n",
       "</table>\n",
       "</div>"
      ],
      "text/plain": [
       "        City    Lat     Lng  Max Temp  Humidity  Cloudiness  Wind Speed  \\\n",
       "0    mandera   3.94   41.87     79.54        70          33       15.41   \n",
       "1     torbay  47.67  -52.73     57.99        93          90       12.75   \n",
       "2       hilo  19.73 -155.09     87.80        45           1       12.75   \n",
       "3     bethel  41.37  -73.41     61.00       100           1        0.18   \n",
       "4  jamestown  42.10  -79.24     48.00        93          90        8.05   \n",
       "\n",
       "  Country        Date  \n",
       "0      KE  1603242496  \n",
       "1      CA  1603242315  \n",
       "2      US  1603242473  \n",
       "3      US  1603243039  \n",
       "4      US  1603243034  "
      ]
     },
     "execution_count": 35,
     "metadata": {},
     "output_type": "execute_result"
    }
   ],
   "source": [
    "weather_dictionary = {\n",
    "    \"City\": city_two,\n",
    "    \"Lat\":lats,\n",
    "    \"Lng\":lngs,\n",
    "    \"Max Temp\":max_temps,\n",
    "    \"Humidity\":humidities,\n",
    "    \"Cloudiness\":cloudinesses,\n",
    "    \"Wind Speed\":wind_speeds,\n",
    "    \"Country\":countries,\n",
    "    \"Date\":dates,\n",
    "}\n",
    "\n",
    "weather_df = pd.DataFrame(weather_dictionary)\n",
    "weather_df.head()"
   ]
  },
  {
   "cell_type": "code",
   "execution_count": 36,
   "metadata": {},
   "outputs": [],
   "source": [
    "weather_df.to_csv(output_data_file)"
   ]
  },
  {
   "cell_type": "code",
   "execution_count": 37,
   "metadata": {
    "scrolled": true
   },
   "outputs": [
    {
     "data": {
      "text/html": [
       "<div>\n",
       "<style scoped>\n",
       "    .dataframe tbody tr th:only-of-type {\n",
       "        vertical-align: middle;\n",
       "    }\n",
       "\n",
       "    .dataframe tbody tr th {\n",
       "        vertical-align: top;\n",
       "    }\n",
       "\n",
       "    .dataframe thead th {\n",
       "        text-align: right;\n",
       "    }\n",
       "</style>\n",
       "<table border=\"1\" class=\"dataframe\">\n",
       "  <thead>\n",
       "    <tr style=\"text-align: right;\">\n",
       "      <th></th>\n",
       "      <th>Lat</th>\n",
       "      <th>Lng</th>\n",
       "      <th>Max Temp</th>\n",
       "      <th>Humidity</th>\n",
       "      <th>Cloudiness</th>\n",
       "      <th>Wind Speed</th>\n",
       "      <th>Date</th>\n",
       "    </tr>\n",
       "  </thead>\n",
       "  <tbody>\n",
       "    <tr>\n",
       "      <th>count</th>\n",
       "      <td>572.000000</td>\n",
       "      <td>572.000000</td>\n",
       "      <td>572.000000</td>\n",
       "      <td>572.000000</td>\n",
       "      <td>572.000000</td>\n",
       "      <td>572.000000</td>\n",
       "      <td>5.720000e+02</td>\n",
       "    </tr>\n",
       "    <tr>\n",
       "      <th>mean</th>\n",
       "      <td>22.570874</td>\n",
       "      <td>21.769108</td>\n",
       "      <td>60.207587</td>\n",
       "      <td>74.935315</td>\n",
       "      <td>50.171329</td>\n",
       "      <td>7.209108</td>\n",
       "      <td>1.603243e+09</td>\n",
       "    </tr>\n",
       "    <tr>\n",
       "      <th>std</th>\n",
       "      <td>31.175190</td>\n",
       "      <td>84.726914</td>\n",
       "      <td>19.441622</td>\n",
       "      <td>20.501190</td>\n",
       "      <td>41.248536</td>\n",
       "      <td>4.897634</td>\n",
       "      <td>2.021848e+02</td>\n",
       "    </tr>\n",
       "    <tr>\n",
       "      <th>min</th>\n",
       "      <td>-54.800000</td>\n",
       "      <td>-179.170000</td>\n",
       "      <td>1.400000</td>\n",
       "      <td>8.000000</td>\n",
       "      <td>0.000000</td>\n",
       "      <td>0.180000</td>\n",
       "      <td>1.603242e+09</td>\n",
       "    </tr>\n",
       "    <tr>\n",
       "      <th>25%</th>\n",
       "      <td>-2.952500</td>\n",
       "      <td>-46.065000</td>\n",
       "      <td>44.885000</td>\n",
       "      <td>65.000000</td>\n",
       "      <td>1.000000</td>\n",
       "      <td>3.552500</td>\n",
       "      <td>1.603243e+09</td>\n",
       "    </tr>\n",
       "    <tr>\n",
       "      <th>50%</th>\n",
       "      <td>26.620000</td>\n",
       "      <td>23.995000</td>\n",
       "      <td>64.635000</td>\n",
       "      <td>81.000000</td>\n",
       "      <td>40.500000</td>\n",
       "      <td>6.005000</td>\n",
       "      <td>1.603243e+09</td>\n",
       "    </tr>\n",
       "    <tr>\n",
       "      <th>75%</th>\n",
       "      <td>48.525000</td>\n",
       "      <td>88.370000</td>\n",
       "      <td>76.582500</td>\n",
       "      <td>91.000000</td>\n",
       "      <td>92.000000</td>\n",
       "      <td>9.985000</td>\n",
       "      <td>1.603243e+09</td>\n",
       "    </tr>\n",
       "    <tr>\n",
       "      <th>max</th>\n",
       "      <td>78.220000</td>\n",
       "      <td>179.320000</td>\n",
       "      <td>91.400000</td>\n",
       "      <td>100.000000</td>\n",
       "      <td>100.000000</td>\n",
       "      <td>27.560000</td>\n",
       "      <td>1.603243e+09</td>\n",
       "    </tr>\n",
       "  </tbody>\n",
       "</table>\n",
       "</div>"
      ],
      "text/plain": [
       "              Lat         Lng    Max Temp    Humidity  Cloudiness  Wind Speed  \\\n",
       "count  572.000000  572.000000  572.000000  572.000000  572.000000  572.000000   \n",
       "mean    22.570874   21.769108   60.207587   74.935315   50.171329    7.209108   \n",
       "std     31.175190   84.726914   19.441622   20.501190   41.248536    4.897634   \n",
       "min    -54.800000 -179.170000    1.400000    8.000000    0.000000    0.180000   \n",
       "25%     -2.952500  -46.065000   44.885000   65.000000    1.000000    3.552500   \n",
       "50%     26.620000   23.995000   64.635000   81.000000   40.500000    6.005000   \n",
       "75%     48.525000   88.370000   76.582500   91.000000   92.000000    9.985000   \n",
       "max     78.220000  179.320000   91.400000  100.000000  100.000000   27.560000   \n",
       "\n",
       "               Date  \n",
       "count  5.720000e+02  \n",
       "mean   1.603243e+09  \n",
       "std    2.021848e+02  \n",
       "min    1.603242e+09  \n",
       "25%    1.603243e+09  \n",
       "50%    1.603243e+09  \n",
       "75%    1.603243e+09  \n",
       "max    1.603243e+09  "
      ]
     },
     "execution_count": 37,
     "metadata": {},
     "output_type": "execute_result"
    }
   ],
   "source": [
    "weather_df.describe()"
   ]
  },
  {
   "cell_type": "markdown",
   "metadata": {},
   "source": [
    "## Inspect the data and remove the cities where the humidity > 100%.\n",
    "----\n",
    "Skip this step if there are no cities that have humidity > 100%. "
   ]
  },
  {
   "cell_type": "code",
   "execution_count": 38,
   "metadata": {},
   "outputs": [
    {
     "data": {
      "text/html": [
       "<div>\n",
       "<style scoped>\n",
       "    .dataframe tbody tr th:only-of-type {\n",
       "        vertical-align: middle;\n",
       "    }\n",
       "\n",
       "    .dataframe tbody tr th {\n",
       "        vertical-align: top;\n",
       "    }\n",
       "\n",
       "    .dataframe thead th {\n",
       "        text-align: right;\n",
       "    }\n",
       "</style>\n",
       "<table border=\"1\" class=\"dataframe\">\n",
       "  <thead>\n",
       "    <tr style=\"text-align: right;\">\n",
       "      <th></th>\n",
       "      <th>City</th>\n",
       "      <th>Lat</th>\n",
       "      <th>Lng</th>\n",
       "      <th>Max Temp</th>\n",
       "      <th>Humidity</th>\n",
       "      <th>Cloudiness</th>\n",
       "      <th>Wind Speed</th>\n",
       "      <th>Country</th>\n",
       "      <th>Date</th>\n",
       "    </tr>\n",
       "  </thead>\n",
       "  <tbody>\n",
       "  </tbody>\n",
       "</table>\n",
       "</div>"
      ],
      "text/plain": [
       "Empty DataFrame\n",
       "Columns: [City, Lat, Lng, Max Temp, Humidity, Cloudiness, Wind Speed, Country, Date]\n",
       "Index: []"
      ]
     },
     "execution_count": 38,
     "metadata": {},
     "output_type": "execute_result"
    }
   ],
   "source": [
    "#print out any cities with humidity over 100, store in new DF. use loc funtion to look. we might not find anything with \n",
    "#humidity over 100, but if you do, exclude from data set\n",
    "humidity_errors = weather_df.loc[weather_df[\"Humidity\"] > 100]\n",
    "humidity_errors\n",
    "#print(weather_df[weather_df['Humidity']> 100])"
   ]
  },
  {
   "cell_type": "code",
   "execution_count": 39,
   "metadata": {},
   "outputs": [],
   "source": [
    "#  Get the indices of cities that have humidity over 100%.\n",
    "#none exist "
   ]
  },
  {
   "cell_type": "code",
   "execution_count": 40,
   "metadata": {},
   "outputs": [],
   "source": [
    "# Make a new DataFrame equal to the city data to drop all humidity outliers by index.\n",
    "# Passing \"inplace=False\" will make a copy of the city_data DataFrame, which we call \"clean_city_data\".\n",
    "#no cities exist with humidity over 100. skipping this step as the df is already clean"
   ]
  },
  {
   "cell_type": "code",
   "execution_count": null,
   "metadata": {},
   "outputs": [],
   "source": [
    "\n"
   ]
  },
  {
   "cell_type": "markdown",
   "metadata": {},
   "source": [
    "## Plotting the Data\n",
    "* Use proper labeling of the plots using plot titles (including date of analysis) and axes labels.\n",
    "* Save the plotted figures as .pngs."
   ]
  },
  {
   "cell_type": "markdown",
   "metadata": {},
   "source": [
    "## Latitude vs. Temperature Plot"
   ]
  },
  {
   "cell_type": "code",
   "execution_count": 41,
   "metadata": {
    "scrolled": true
   },
   "outputs": [
    {
     "data": {
      "image/png": "[encoded data removed]",
      "text/plain": [
       "<Figure size 432x288 with 1 Axes>"
      ]
     },
     "metadata": {
      "needs_background": "light"
     },
     "output_type": "display_data"
    }
   ],
   "source": [
    "#scatter plot\n",
    "plt.scatter(weather_df[\"Lat\"], weather_df[\"Max Temp\"], marker=\"o\", s=10)\n",
    "\n",
    "plt.title(\"City Latitude vs. Max Temperature\")\n",
    "plt.ylabel(\"Max. Temperature (F)\")\n",
    "plt.xlabel(\"Latitude\")\n",
    "plt.grid(True)\n",
    "\n",
    "#save\n",
    "plt.savefig(\"output_plots/latitude_temperature_plot.png\")\n",
    "\n",
    "#show\n",
    "plt.show()"
   ]
  },
  {
   "cell_type": "markdown",
   "metadata": {},
   "source": [
    "## Latitude vs. Humidity Plot"
   ]
  },
  {
   "cell_type": "code",
   "execution_count": 42,
   "metadata": {},
   "outputs": [
    {
     "data": {
      "image/png": "[encoded data removed]",
      "text/plain": [
       "<Figure size 432x288 with 1 Axes>"
      ]
     },
     "metadata": {
      "needs_background": "light"
     },
     "output_type": "display_data"
    }
   ],
   "source": [
    "#scatter plot\n",
    "plt.scatter(weather_df[\"Lat\"], weather_df[\"Humidity\"], marker=\"o\", s=10)\n",
    "\n",
    "plt.title(\"City Latitude vs. Humidity\")\n",
    "plt.ylabel(\"Humidity (%)\")\n",
    "plt.xlabel(\"Latitude\")\n",
    "plt.grid(True)\n",
    "\n",
    "#save\n",
    "plt.savefig(\"output_plots/latitude_humidity_plot.png\")\n",
    "\n",
    "#show\n",
    "plt.show()"
   ]
  },
  {
   "cell_type": "markdown",
   "metadata": {},
   "source": [
    "## Latitude vs. Cloudiness Plot"
   ]
  },
  {
   "cell_type": "code",
   "execution_count": 43,
   "metadata": {},
   "outputs": [
    {
     "data": {
      "image/png": "[encoded data removed]",
      "text/plain": [
       "<Figure size 432x288 with 1 Axes>"
      ]
     },
     "metadata": {
      "needs_background": "light"
     },
     "output_type": "display_data"
    }
   ],
   "source": [
    "#scatter plot\n",
    "plt.scatter(weather_df[\"Lat\"], weather_df[\"Cloudiness\"], marker=\"o\", s=10)\n",
    "\n",
    "plt.title(\"City Latitude vs. Cloudiness\")\n",
    "plt.ylabel(\"Cloudiness (%)\")\n",
    "plt.xlabel(\"Latitude\")\n",
    "plt.grid(True)\n",
    "\n",
    "#save\n",
    "plt.savefig(\"output_plots/latitude_cloudiness_plot.png\")\n",
    "\n",
    "#show\n",
    "plt.show()"
   ]
  },
  {
   "cell_type": "markdown",
   "metadata": {},
   "source": [
    "## Latitude vs. Wind Speed Plot"
   ]
  },
  {
   "cell_type": "code",
   "execution_count": 44,
   "metadata": {},
   "outputs": [
    {
     "data": {
      "image/png": "[encoded data removed]",
      "text/plain": [
       "<Figure size 432x288 with 1 Axes>"
      ]
     },
     "metadata": {
      "needs_background": "light"
     },
     "output_type": "display_data"
    }
   ],
   "source": [
    "#scatter plot\n",
    "plt.scatter(weather_df[\"Lat\"], weather_df[\"Wind Speed\"], marker=\"o\", s=10)\n",
    "\n",
    "plt.title(\"City Latitude vs. Wind Speed\")\n",
    "plt.ylabel(\"Wind Speed (mph)\")\n",
    "plt.xlabel(\"Latitude\")\n",
    "plt.grid(True)\n",
    "\n",
    "#save\n",
    "plt.savefig(\"output_plots/latitude_windspeed_plot.png\")\n",
    "\n",
    "#show\n",
    "plt.show()"
   ]
  },
  {
   "cell_type": "markdown",
   "metadata": {},
   "source": [
    "## Linear Regression"
   ]
  },
  {
   "cell_type": "code",
   "execution_count": 45,
   "metadata": {},
   "outputs": [],
   "source": [
    "northern_hemisphere = weather_df[weather_df['Lat'] >= 0]\n",
    "southern_hemisphere = weather_df[weather_df['Lat'] < 0]"
   ]
  },
  {
   "cell_type": "markdown",
   "metadata": {},
   "source": [
    "####  Northern Hemisphere - Max Temp vs. Latitude Linear Regression"
   ]
  },
  {
   "cell_type": "code",
   "execution_count": 48,
   "metadata": {},
   "outputs": [
    {
     "name": "stdout",
     "output_type": "stream",
     "text": [
      "The r-squared is: 0.7790476439527253\n"
     ]
    },
    {
     "data": {
      "image/png": "[encoded data removed]",
      "text/plain": [
       "<Figure size 432x288 with 1 Axes>"
      ]
     },
     "metadata": {
      "needs_background": "light"
     },
     "output_type": "display_data"
    }
   ],
   "source": [
    "#scatter plot & linear regression\n",
    "latitude = northern_hemisphere[\"Lat\"]\n",
    "max_temp = northern_hemisphere[\"Max Temp\"]\n",
    "\n",
    "(slope, intercept, rvalue, pvalue, stderr) = linregress (latitude, max_temp)\n",
    "regress_values = latitude * slope + intercept\n",
    "line_eq = \"max_temp = \" + str(round(slope,2)) + \"latitude + \" + str(round(intercept,2))\n",
    "correlation = round(st.pearsonr(latitude,max_temp)[0],2)\n",
    "\n",
    "plt.scatter(northern_hemisphere[\"Lat\"], northern_hemisphere[\"Max Temp\"], marker=\"o\", s=10)\n",
    "plt.plot(latitude,regress_values,\"r-\")\n",
    "plt.title(\"Northern Hemisphere-Max Temp vs Latitude\")\n",
    "plt.ylabel(\"Max Temp\")\n",
    "plt.xlabel(\"Latitude\")\n",
    "plt.grid(True)\n",
    "\n",
    "print(f\"The r-squared is: {rvalue**2}\")\n",
    "\n",
    "#save\n",
    "#plt.savefig(\"output_plots/latitude_windspeed_plot.png\")\n",
    "\n",
    "#show\n",
    "plt.show()"
   ]
  },
  {
   "cell_type": "markdown",
   "metadata": {},
   "source": [
    "####  Southern Hemisphere - Max Temp vs. Latitude Linear Regression"
   ]
  },
  {
   "cell_type": "code",
   "execution_count": 26,
   "metadata": {},
   "outputs": [
    {
     "name": "stdout",
     "output_type": "stream",
     "text": [
      "The r-value is: 0.6082708688906918\n"
     ]
    },
    {
     "data": {
      "image/png": "[encoded data removed]",
      "text/plain": [
       "<Figure size 432x288 with 1 Axes>"
      ]
     },
     "metadata": {
      "needs_background": "light"
     },
     "output_type": "display_data"
    }
   ],
   "source": []
  },
  {
   "cell_type": "markdown",
   "metadata": {},
   "source": [
    "####  Northern Hemisphere - Humidity (%) vs. Latitude Linear Regression"
   ]
  },
  {
   "cell_type": "code",
   "execution_count": 27,
   "metadata": {},
   "outputs": [
    {
     "name": "stdout",
     "output_type": "stream",
     "text": [
      "The r-value is: 0.000543987878808455\n"
     ]
    },
    {
     "data": {
      "image/png": "[encoded data removed]",
      "text/plain": [
       "<Figure size 432x288 with 1 Axes>"
      ]
     },
     "metadata": {
      "needs_background": "light"
     },
     "output_type": "display_data"
    }
   ],
   "source": []
  },
  {
   "cell_type": "markdown",
   "metadata": {},
   "source": [
    "####  Southern Hemisphere - Humidity (%) vs. Latitude Linear Regression"
   ]
  },
  {
   "cell_type": "code",
   "execution_count": 28,
   "metadata": {},
   "outputs": [
    {
     "name": "stdout",
     "output_type": "stream",
     "text": [
      "The r-value is: 0.014985174297345524\n"
     ]
    },
    {
     "data": {
      "image/png": "[encoded data removed]",
      "text/plain": [
       "<Figure size 432x288 with 1 Axes>"
      ]
     },
     "metadata": {
      "needs_background": "light"
     },
     "output_type": "display_data"
    }
   ],
   "source": []
  },
  {
   "cell_type": "markdown",
   "metadata": {},
   "source": [
    "####  Northern Hemisphere - Cloudiness (%) vs. Latitude Linear Regression"
   ]
  },
  {
   "cell_type": "code",
   "execution_count": 29,
   "metadata": {},
   "outputs": [
    {
     "name": "stdout",
     "output_type": "stream",
     "text": [
      "The r-value is: 0.0020898727664228514\n"
     ]
    },
    {
     "data": {
      "image/png": "[encoded data removed]",
      "text/plain": [
       "<Figure size 432x288 with 1 Axes>"
      ]
     },
     "metadata": {
      "needs_background": "light"
     },
     "output_type": "display_data"
    }
   ],
   "source": []
  },
  {
   "cell_type": "markdown",
   "metadata": {},
   "source": [
    "####  Southern Hemisphere - Cloudiness (%) vs. Latitude Linear Regression"
   ]
  },
  {
   "cell_type": "code",
   "execution_count": 30,
   "metadata": {},
   "outputs": [
    {
     "name": "stdout",
     "output_type": "stream",
     "text": [
      "The r-value is: 0.0035263772085582894\n"
     ]
    },
    {
     "data": {
      "image/png": "[encoded data removed]",
      "text/plain": [
       "<Figure size 432x288 with 1 Axes>"
      ]
     },
     "metadata": {
      "needs_background": "light"
     },
     "output_type": "display_data"
    }
   ],
   "source": []
  },
  {
   "cell_type": "markdown",
   "metadata": {},
   "source": [
    "####  Northern Hemisphere - Wind Speed (mph) vs. Latitude Linear Regression"
   ]
  },
  {
   "cell_type": "code",
   "execution_count": 31,
   "metadata": {},
   "outputs": [
    {
     "name": "stdout",
     "output_type": "stream",
     "text": [
      "The r-value is: 0.04019723576144484\n"
     ]
    },
    {
     "data": {
      "image/png": "[encoded data removed]",
      "text/plain": [
       "<Figure size 432x288 with 1 Axes>"
      ]
     },
     "metadata": {
      "needs_background": "light"
     },
     "output_type": "display_data"
    }
   ],
   "source": []
  },
  {
   "cell_type": "markdown",
   "metadata": {},
   "source": [
    "####  Southern Hemisphere - Wind Speed (mph) vs. Latitude Linear Regression"
   ]
  },
  {
   "cell_type": "code",
   "execution_count": 32,
   "metadata": {},
   "outputs": [
    {
     "name": "stdout",
     "output_type": "stream",
     "text": [
      "The r-value is: 0.017128274759839232\n"
     ]
    },
    {
     "data": {
      "image/png": "[encoded data removed]",
      "text/plain": [
       "<Figure size 432x288 with 1 Axes>"
      ]
     },
     "metadata": {
      "needs_background": "light"
     },
     "output_type": "display_data"
    }
   ],
   "source": []
  },
  {
   "cell_type": "code",
   "execution_count": null,
   "metadata": {},
   "outputs": [],
   "source": []
  }
 ],
 "metadata": {
  "anaconda-cloud": {},
  "kernel_info": {
   "name": "python3"
  },
  "kernelspec": {
   "display_name": "Python [conda env:PythonData] *",
   "language": "python",
   "name": "conda-env-PythonData-py"
  },
  "language_info": {
   "codemirror_mode": {
    "name": "ipython",
    "version": 3
   },
   "file_extension": ".py",
   "mimetype": "text/x-python",
   "name": "python",
   "nbconvert_exporter": "python",
   "pygments_lexer": "ipython3",
   "version": "3.7.1"
  },
  "latex_envs": {
   "LaTeX_envs_menu_present": true,
   "autoclose": false,
   "autocomplete": true,
   "bibliofile": "biblio.bib",
   "cite_by": "apalike",
   "current_citInitial": 1,
   "eqLabelWithNumbers": true,
   "eqNumInitial": 1,
   "hotkeys": {
    "equation": "Ctrl-E",
    "itemize": "Ctrl-I"
   },
   "labels_anchors": false,
   "latex_user_defs": false,
   "report_style_numbering": false,
   "user_envs_cfg": false
  },
  "nteract": {
   "version": "0.12.3"
  }
 },
 "nbformat": 4,
 "nbformat_minor": 2
}
