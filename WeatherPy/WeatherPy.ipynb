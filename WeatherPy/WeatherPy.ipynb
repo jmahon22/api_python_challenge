{
 "cells": [
  {
   "cell_type": "markdown",
   "metadata": {},
   "source": [
    "# WeatherPy\n",
    "----\n",
    "\n",
    "#### Note\n",
    "* Instructions have been included for each segment. You do not have to follow them exactly, but they are included to help you think through the steps."
   ]
  },
  {
   "cell_type": "code",
   "execution_count": 35,
   "metadata": {
    "scrolled": true
   },
   "outputs": [],
   "source": [
    "# Dependencies and Setup\n",
    "#!pip install citipy\n",
    "import matplotlib.pyplot as plt\n",
    "import pandas as pd\n",
    "import numpy as np\n",
    "import requests\n",
    "import time\n",
    "from scipy.stats import linregress\n",
    "import json\n",
    "from pprint import pprint\n",
    "\n",
    "# Import API key\n",
    "from api_keys import weather_api_key\n",
    "\n",
    "\n",
    "# Incorporated citipy to determine city based on latitude and longitude\n",
    "from citipy import citipy\n",
    "\n",
    "# Output File (CSV)\n",
    "output_data_file = \"output_data/cities.csv\"\n",
    "\n",
    "# Range of latitudes and longitudes\n",
    "lat_range = (-90, 90)\n",
    "lng_range = (-180, 180)"
   ]
  },
  {
   "cell_type": "markdown",
   "metadata": {},
   "source": [
    "## Generate Cities List"
   ]
  },
  {
   "cell_type": "code",
   "execution_count": 2,
   "metadata": {},
   "outputs": [
    {
     "data": {
      "text/plain": [
       "627"
      ]
     },
     "execution_count": 2,
     "metadata": {},
     "output_type": "execute_result"
    }
   ],
   "source": [
    "# List for holding lat_lngs and cities\n",
    "lat_lngs = []\n",
    "cities = []\n",
    "\n",
    "# random lat and lng combinations\n",
    "lats = np.random.uniform(lat_range[0], lat_range[1], size=1500)\n",
    "lngs = np.random.uniform(lng_range[0], lng_range[1], size=1500)\n",
    "lat_lngs = zip(lats, lngs)\n",
    "\n",
    "# Identify nearest city for each lat, lng combination\n",
    "for lat_lng in lat_lngs:\n",
    "    city = citipy.nearest_city(lat_lng[0], lat_lng[1]).city_name\n",
    "    \n",
    "    # If the city is unique, then add it to a our cities list\n",
    "    if city not in cities:\n",
    "        cities.append(city)\n",
    "\n",
    "# Print the city count to confirm sufficient count\n",
    "len(cities)"
   ]
  },
  {
   "cell_type": "markdown",
   "metadata": {},
   "source": [
    "### Perform API Calls\n",
    "* Perform a weather check on each city using a series of successive API calls.\n",
    "* Include a print log of each city as it'sbeing processed (with the city number and city name).\n"
   ]
  },
  {
   "cell_type": "code",
   "execution_count": 3,
   "metadata": {},
   "outputs": [],
   "source": [
    "#url\n",
    "#url = \"http://api.openweathermap.org/data/2.5/weather?\"\n",
    "temp_units = \"imperial\"\n",
    "query_url = f\"http://api.openweathermap.org/data/2.5/weather?appid={weather_api_key}&units={temp_units}&q=\""
   ]
  },
  {
   "cell_type": "code",
   "execution_count": 4,
   "metadata": {
    "scrolled": true
   },
   "outputs": [
    {
     "name": "stdout",
     "output_type": "stream",
     "text": [
      "{\n",
      "    \"cod\": \"400\",\n",
      "    \"message\": \"Nothing to geocode\"\n",
      "}\n"
     ]
    }
   ],
   "source": [
    "response = requests.get(query_url).json()\n",
    "print(json.dumps(response, indent=4, sort_keys=True))"
   ]
  },
  {
   "cell_type": "code",
   "execution_count": 5,
   "metadata": {
    "scrolled": true
   },
   "outputs": [
    {
     "name": "stdout",
     "output_type": "stream",
     "text": [
      "City not found. Skipping...\n",
      "Processing Record 1 of Set 1 | albany\n",
      "Processing Record 2 of Set 1 | kapaa\n",
      "Processing Record 3 of Set 1 | gillette\n",
      "Processing Record 4 of Set 1 | castro\n",
      "Processing Record 5 of Set 1 | inirida\n",
      "Processing Record 6 of Set 1 | east london\n",
      "City not found. Skipping...\n",
      "Processing Record 7 of Set 1 | busselton\n",
      "Processing Record 8 of Set 1 | new norfolk\n",
      "Processing Record 9 of Set 1 | batavia\n",
      "Processing Record 10 of Set 1 | lapua\n",
      "Processing Record 11 of Set 1 | victoria\n",
      "Processing Record 12 of Set 1 | jamestown\n",
      "Processing Record 13 of Set 1 | punta arenas\n",
      "Processing Record 14 of Set 1 | valparaiso\n",
      "City not found. Skipping...\n",
      "Processing Record 15 of Set 1 | vaini\n",
      "Processing Record 16 of Set 1 | vilnius\n",
      "Processing Record 17 of Set 1 | sirur\n",
      "Processing Record 18 of Set 1 | rikitea\n",
      "Processing Record 19 of Set 1 | lakes entrance\n",
      "Processing Record 20 of Set 1 | hermanus\n",
      "Processing Record 21 of Set 1 | buraydah\n",
      "Processing Record 22 of Set 1 | ushuaia\n",
      "Processing Record 23 of Set 1 | hobart\n",
      "Processing Record 24 of Set 1 | marshall\n",
      "Processing Record 25 of Set 1 | bengkulu\n",
      "Processing Record 26 of Set 1 | waipawa\n",
      "Processing Record 27 of Set 1 | sandwick\n",
      "Processing Record 28 of Set 1 | dunda\n",
      "Processing Record 29 of Set 1 | jaciara\n",
      "Processing Record 30 of Set 1 | aasiaat\n",
      "Processing Record 31 of Set 1 | atuona\n",
      "Processing Record 32 of Set 1 | biu\n",
      "Processing Record 33 of Set 1 | bluff\n",
      "Processing Record 34 of Set 1 | ribeira grande\n",
      "Processing Record 35 of Set 1 | aguililla\n",
      "Processing Record 36 of Set 1 | severo-kurilsk\n",
      "Processing Record 37 of Set 1 | tuktoyaktuk\n",
      "Processing Record 38 of Set 1 | hilo\n",
      "Processing Record 39 of Set 1 | butaritari\n",
      "Processing Record 40 of Set 1 | shenzhen\n",
      "City not found. Skipping...\n",
      "Processing Record 41 of Set 1 | tasiilaq\n",
      "Processing Record 42 of Set 1 | hambantota\n",
      "Processing Record 43 of Set 1 | muromtsevo\n",
      "Processing Record 44 of Set 1 | prince rupert\n",
      "Processing Record 45 of Set 1 | preobrazheniye\n",
      "Processing Record 46 of Set 1 | barrow\n",
      "Processing Record 47 of Set 1 | mataura\n",
      "Processing Record 48 of Set 1 | puerto carreno\n",
      "Processing Record 49 of Set 1 | muli\n",
      "Processing Record 50 of Set 1 | saint-philippe\n",
      "Processing Record 51 of Set 1 | puerto ayora\n",
      "City not found. Skipping...\n",
      "Processing Record 1 of Set 2 | yar-sale\n",
      "Processing Record 2 of Set 2 | hasaki\n",
      "Processing Record 3 of Set 2 | thohoyandou\n",
      "City not found. Skipping...\n",
      "Processing Record 4 of Set 2 | stolin\n",
      "Processing Record 5 of Set 2 | kudahuvadhoo\n",
      "Processing Record 6 of Set 2 | miyang\n",
      "Processing Record 7 of Set 2 | hithadhoo\n",
      "Processing Record 8 of Set 2 | kavieng\n",
      "Processing Record 9 of Set 2 | kenai\n",
      "Processing Record 10 of Set 2 | thurso\n",
      "Processing Record 11 of Set 2 | bandarbeyla\n",
      "Processing Record 12 of Set 2 | grand-lahou\n",
      "Processing Record 13 of Set 2 | kaitangata\n",
      "Processing Record 14 of Set 2 | soyo\n",
      "Processing Record 15 of Set 2 | tuensang\n",
      "Processing Record 16 of Set 2 | fairbanks\n",
      "Processing Record 17 of Set 2 | cape town\n",
      "Processing Record 18 of Set 2 | yellowknife\n",
      "Processing Record 19 of Set 2 | port hardy\n",
      "City not found. Skipping...\n",
      "Processing Record 20 of Set 2 | klaksvik\n",
      "City not found. Skipping...\n",
      "Processing Record 21 of Set 2 | sao filipe\n",
      "Processing Record 22 of Set 2 | yamada\n",
      "Processing Record 23 of Set 2 | lake elsinore\n",
      "Processing Record 24 of Set 2 | zeya\n",
      "Processing Record 25 of Set 2 | mahebourg\n",
      "Processing Record 26 of Set 2 | cockburn town\n",
      "Processing Record 27 of Set 2 | borda da mata\n",
      "Processing Record 28 of Set 2 | torbay\n",
      "City not found. Skipping...\n",
      "Processing Record 29 of Set 2 | arraial do cabo\n",
      "Processing Record 30 of Set 2 | airai\n",
      "Processing Record 31 of Set 2 | souillac\n",
      "Processing Record 32 of Set 2 | sao miguel do araguaia\n",
      "Processing Record 33 of Set 2 | tromso\n",
      "Processing Record 34 of Set 2 | san andres del rabanedo\n",
      "Processing Record 35 of Set 2 | samarai\n",
      "Processing Record 36 of Set 2 | nabire\n",
      "Processing Record 37 of Set 2 | port elizabeth\n",
      "Processing Record 38 of Set 2 | cherskiy\n",
      "City not found. Skipping...\n",
      "Processing Record 39 of Set 2 | nargana\n",
      "City not found. Skipping...\n",
      "Processing Record 40 of Set 2 | tessalit\n",
      "City not found. Skipping...\n",
      "Processing Record 41 of Set 2 | mercedes\n",
      "Processing Record 42 of Set 2 | sabang\n",
      "Processing Record 43 of Set 2 | thompson\n",
      "Processing Record 44 of Set 2 | killybegs\n",
      "Processing Record 45 of Set 2 | taltal\n",
      "Processing Record 46 of Set 2 | murgab\n",
      "Processing Record 47 of Set 2 | kumluca\n",
      "Processing Record 48 of Set 2 | gulu\n",
      "Processing Record 49 of Set 2 | inta\n",
      "Processing Record 50 of Set 2 | shibetsu\n",
      "City not found. Skipping...\n",
      "Processing Record 51 of Set 2 | khatanga\n",
      "Processing Record 1 of Set 3 | honiara\n",
      "Processing Record 2 of Set 3 | zhigansk\n",
      "Processing Record 3 of Set 3 | laguna\n",
      "Processing Record 4 of Set 3 | norman wells\n",
      "Processing Record 5 of Set 3 | port alfred\n",
      "Processing Record 6 of Set 3 | humble\n",
      "Processing Record 7 of Set 3 | chuy\n",
      "Processing Record 8 of Set 3 | mehamn\n",
      "Processing Record 9 of Set 3 | guerrero negro\n",
      "Processing Record 10 of Set 3 | porto novo\n",
      "Processing Record 11 of Set 3 | aba\n",
      "City not found. Skipping...\n",
      "Processing Record 12 of Set 3 | tautira\n",
      "City not found. Skipping...\n",
      "Processing Record 13 of Set 3 | cabo san lucas\n",
      "Processing Record 14 of Set 3 | hervey bay\n",
      "Processing Record 15 of Set 3 | hindoria\n",
      "Processing Record 16 of Set 3 | saldanha\n",
      "Processing Record 17 of Set 3 | saskylakh\n",
      "Processing Record 18 of Set 3 | aktau\n",
      "Processing Record 19 of Set 3 | kumta\n",
      "Processing Record 20 of Set 3 | pangnirtung\n",
      "Processing Record 21 of Set 3 | qaanaaq\n",
      "Processing Record 22 of Set 3 | boa vista\n",
      "Processing Record 23 of Set 3 | dikson\n",
      "Processing Record 24 of Set 3 | lewisburg\n",
      "Processing Record 25 of Set 3 | youghal\n",
      "City not found. Skipping...\n",
      "Processing Record 26 of Set 3 | dunmore town\n",
      "Processing Record 27 of Set 3 | marrakesh\n",
      "Processing Record 28 of Set 3 | pisco\n",
      "Processing Record 29 of Set 3 | domoni\n",
      "City not found. Skipping...\n",
      "Processing Record 30 of Set 3 | provideniya\n",
      "Processing Record 31 of Set 3 | bethel\n",
      "Processing Record 32 of Set 3 | vardo\n",
      "Processing Record 33 of Set 3 | karasjok\n",
      "Processing Record 34 of Set 3 | lasa\n",
      "Processing Record 35 of Set 3 | shihezi\n",
      "Processing Record 36 of Set 3 | pokhara\n",
      "Processing Record 37 of Set 3 | aleksandrov gay\n",
      "Processing Record 38 of Set 3 | lac du bonnet\n",
      "Processing Record 39 of Set 3 | santo amaro\n",
      "Processing Record 40 of Set 3 | bredasdorp\n",
      "Processing Record 41 of Set 3 | vadso\n",
      "Processing Record 42 of Set 3 | shingu\n",
      "Processing Record 43 of Set 3 | yerbogachen\n",
      "City not found. Skipping...\n",
      "Processing Record 44 of Set 3 | obihiro\n",
      "Processing Record 45 of Set 3 | oussouye\n",
      "Processing Record 46 of Set 3 | luderitz\n",
      "Processing Record 47 of Set 3 | eregli\n",
      "Processing Record 48 of Set 3 | kununurra\n",
      "City not found. Skipping...\n",
      "Processing Record 49 of Set 3 | upernavik\n",
      "City not found. Skipping...\n",
      "Processing Record 50 of Set 3 | vao\n",
      "Processing Record 51 of Set 3 | sao jose de ribamar\n",
      "Processing Record 1 of Set 4 | funadhoo\n",
      "City not found. Skipping...\n",
      "Processing Record 2 of Set 4 | kaka\n",
      "Processing Record 3 of Set 4 | talnakh\n",
      "Processing Record 4 of Set 4 | georgetown\n",
      "Processing Record 5 of Set 4 | vila franca do campo\n",
      "City not found. Skipping...\n",
      "City not found. Skipping...\n",
      "Processing Record 6 of Set 4 | varhaug\n",
      "Processing Record 7 of Set 4 | dzialdowo\n",
      "Processing Record 8 of Set 4 | bartica\n",
      "Processing Record 9 of Set 4 | berlevag\n",
      "Processing Record 10 of Set 4 | katsuura\n",
      "Processing Record 11 of Set 4 | hailar\n",
      "Processing Record 12 of Set 4 | eureka\n",
      "Processing Record 13 of Set 4 | sarangani\n",
      "Processing Record 14 of Set 4 | fallon\n",
      "City not found. Skipping...\n",
      "Processing Record 15 of Set 4 | dingle\n",
      "Processing Record 16 of Set 4 | yumen\n",
      "Processing Record 17 of Set 4 | arroyo\n",
      "Processing Record 18 of Set 4 | kruisfontein\n",
      "City not found. Skipping...\n",
      "Processing Record 19 of Set 4 | wuchang\n",
      "Processing Record 20 of Set 4 | harper\n",
      "Processing Record 21 of Set 4 | lavrentiya\n",
      "Processing Record 22 of Set 4 | avarua\n",
      "Processing Record 23 of Set 4 | panguna\n",
      "Processing Record 24 of Set 4 | necochea\n",
      "Processing Record 25 of Set 4 | irbeyskoye\n",
      "Processing Record 26 of Set 4 | wanaka\n",
      "Processing Record 27 of Set 4 | cidreira\n",
      "Processing Record 28 of Set 4 | nanortalik\n",
      "Processing Record 29 of Set 4 | nampula\n"
     ]
    },
    {
     "name": "stdout",
     "output_type": "stream",
     "text": [
      "City not found. Skipping...\n",
      "Processing Record 30 of Set 4 | iranshahr\n",
      "Processing Record 31 of Set 4 | kousseri\n",
      "Processing Record 32 of Set 4 | shubarshi\n",
      "Processing Record 33 of Set 4 | chapais\n",
      "Processing Record 34 of Set 4 | tibati\n",
      "Processing Record 35 of Set 4 | morondava\n",
      "Processing Record 36 of Set 4 | beloha\n",
      "Processing Record 37 of Set 4 | lagoa\n",
      "Processing Record 38 of Set 4 | vallenar\n",
      "Processing Record 39 of Set 4 | sao joao da barra\n",
      "Processing Record 40 of Set 4 | ishigaki\n",
      "Processing Record 41 of Set 4 | edremit\n",
      "Processing Record 42 of Set 4 | constitucion\n",
      "City not found. Skipping...\n",
      "Processing Record 43 of Set 4 | alcoa\n",
      "Processing Record 44 of Set 4 | flinders\n",
      "Processing Record 45 of Set 4 | palu\n",
      "Processing Record 46 of Set 4 | nizhniy tsasuchey\n",
      "Processing Record 47 of Set 4 | karangampel\n",
      "Processing Record 48 of Set 4 | bambous virieux\n",
      "City not found. Skipping...\n",
      "City not found. Skipping...\n",
      "Processing Record 49 of Set 4 | derbent\n",
      "Processing Record 50 of Set 4 | katobu\n",
      "Processing Record 51 of Set 4 | havoysund\n",
      "Processing Record 1 of Set 5 | myaundzha\n",
      "Processing Record 2 of Set 5 | egvekinot\n",
      "Processing Record 3 of Set 5 | matagami\n",
      "Processing Record 4 of Set 5 | rocha\n",
      "Processing Record 5 of Set 5 | ignacio zaragoza\n",
      "Processing Record 6 of Set 5 | zonguldak\n",
      "Processing Record 7 of Set 5 | tacoronte\n",
      "Processing Record 8 of Set 5 | santa cruz\n",
      "Processing Record 9 of Set 5 | christchurch\n",
      "Processing Record 10 of Set 5 | alice springs\n",
      "City not found. Skipping...\n",
      "Processing Record 11 of Set 5 | esperance\n",
      "Processing Record 12 of Set 5 | dakar\n",
      "Processing Record 13 of Set 5 | chumikan\n",
      "Processing Record 14 of Set 5 | zdvinsk\n",
      "Processing Record 15 of Set 5 | lucapa\n",
      "Processing Record 16 of Set 5 | elko\n",
      "Processing Record 17 of Set 5 | dubbo\n",
      "Processing Record 18 of Set 5 | hun\n",
      "Processing Record 19 of Set 5 | manyana\n",
      "Processing Record 20 of Set 5 | karratha\n",
      "Processing Record 21 of Set 5 | lubango\n",
      "Processing Record 22 of Set 5 | portobelo\n",
      "Processing Record 23 of Set 5 | tiksi\n",
      "Processing Record 24 of Set 5 | finschhafen\n",
      "Processing Record 25 of Set 5 | nouadhibou\n",
      "Processing Record 26 of Set 5 | faanui\n",
      "Processing Record 27 of Set 5 | leningradskiy\n",
      "Processing Record 28 of Set 5 | taksimo\n",
      "Processing Record 29 of Set 5 | pemba\n",
      "Processing Record 30 of Set 5 | gladstone\n",
      "Processing Record 31 of Set 5 | kodiak\n",
      "Processing Record 32 of Set 5 | ancud\n",
      "Processing Record 33 of Set 5 | ilulissat\n",
      "City not found. Skipping...\n",
      "Processing Record 34 of Set 5 | vanimo\n",
      "Processing Record 35 of Set 5 | makat\n",
      "Processing Record 36 of Set 5 | ottawa\n",
      "Processing Record 37 of Set 5 | vredendal\n",
      "Processing Record 38 of Set 5 | iqaluit\n",
      "Processing Record 39 of Set 5 | koumac\n",
      "Processing Record 40 of Set 5 | kalia\n",
      "Processing Record 41 of Set 5 | jablanica\n",
      "Processing Record 42 of Set 5 | longyearbyen\n",
      "Processing Record 43 of Set 5 | lorengau\n",
      "Processing Record 44 of Set 5 | chor\n",
      "City not found. Skipping...\n",
      "Processing Record 45 of Set 5 | kavaratti\n",
      "Processing Record 46 of Set 5 | berekua\n",
      "Processing Record 47 of Set 5 | siguiri\n",
      "City not found. Skipping...\n",
      "Processing Record 48 of Set 5 | mount isa\n",
      "Processing Record 49 of Set 5 | akureyri\n",
      "Processing Record 50 of Set 5 | alofi\n",
      "Processing Record 51 of Set 5 | tiarei\n",
      "Processing Record 1 of Set 6 | banda aceh\n",
      "Processing Record 2 of Set 6 | wuwei\n",
      "Processing Record 3 of Set 6 | bachaquero\n",
      "Processing Record 4 of Set 6 | kintampo\n",
      "Processing Record 5 of Set 6 | mys shmidta\n",
      "Processing Record 6 of Set 6 | ponta do sol\n",
      "Processing Record 7 of Set 6 | wesselsbron\n",
      "Processing Record 8 of Set 6 | chicama\n",
      "Processing Record 9 of Set 6 | severobaykalsk\n",
      "Processing Record 10 of Set 6 | gigmoto\n",
      "Processing Record 11 of Set 6 | nanpiao\n",
      "Processing Record 12 of Set 6 | saint-pierre\n",
      "Processing Record 13 of Set 6 | hofn\n",
      "Processing Record 14 of Set 6 | ahipara\n",
      "City not found. Skipping...\n",
      "Processing Record 15 of Set 6 | hay river\n",
      "Processing Record 16 of Set 6 | noyabrsk\n",
      "City not found. Skipping...\n",
      "Processing Record 17 of Set 6 | hami\n",
      "Processing Record 18 of Set 6 | ust-nera\n",
      "Processing Record 19 of Set 6 | shitanjing\n",
      "Processing Record 20 of Set 6 | grand river south east\n",
      "Processing Record 21 of Set 6 | garowe\n",
      "Processing Record 22 of Set 6 | weihai\n",
      "Processing Record 23 of Set 6 | altay\n",
      "Processing Record 24 of Set 6 | sioux lookout\n",
      "Processing Record 25 of Set 6 | sao domingos\n",
      "City not found. Skipping...\n",
      "Processing Record 26 of Set 6 | burns lake\n",
      "Processing Record 27 of Set 6 | loiza\n",
      "Processing Record 28 of Set 6 | gat\n",
      "Processing Record 29 of Set 6 | debre sina\n",
      "Processing Record 30 of Set 6 | paracuru\n",
      "Processing Record 31 of Set 6 | saquena\n",
      "Processing Record 32 of Set 6 | aksarka\n",
      "City not found. Skipping...\n",
      "Processing Record 33 of Set 6 | dwarka\n",
      "Processing Record 34 of Set 6 | hamilton\n",
      "Processing Record 35 of Set 6 | doha\n",
      "Processing Record 36 of Set 6 | denizli\n",
      "Processing Record 37 of Set 6 | saskatoon\n",
      "City not found. Skipping...\n",
      "Processing Record 38 of Set 6 | pevek\n",
      "Processing Record 39 of Set 6 | rio formoso\n",
      "Processing Record 40 of Set 6 | geraldton\n",
      "Processing Record 41 of Set 6 | husavik\n",
      "Processing Record 42 of Set 6 | fortuna\n",
      "Processing Record 43 of Set 6 | muros\n",
      "Processing Record 44 of Set 6 | vaitape\n",
      "Processing Record 45 of Set 6 | kieta\n",
      "Processing Record 46 of Set 6 | churapcha\n",
      "Processing Record 47 of Set 6 | manama\n",
      "Processing Record 48 of Set 6 | san cristobal\n",
      "City not found. Skipping...\n",
      "Processing Record 49 of Set 6 | anadyr\n",
      "Processing Record 50 of Set 6 | watertown\n",
      "City not found. Skipping...\n",
      "Processing Record 51 of Set 6 | aragarcas\n",
      "Processing Record 1 of Set 7 | raga\n",
      "Processing Record 2 of Set 7 | dillon\n",
      "Processing Record 3 of Set 7 | najran\n",
      "Processing Record 4 of Set 7 | tahe\n",
      "Processing Record 5 of Set 7 | shirokiy\n",
      "Processing Record 6 of Set 7 | fengcheng\n",
      "Processing Record 7 of Set 7 | komsomolskiy\n",
      "Processing Record 8 of Set 7 | huanan\n",
      "Processing Record 9 of Set 7 | korla\n",
      "Processing Record 10 of Set 7 | bernburg\n",
      "Processing Record 11 of Set 7 | windsor\n",
      "Processing Record 12 of Set 7 | coquimbo\n",
      "Processing Record 13 of Set 7 | homer\n",
      "Processing Record 14 of Set 7 | nikolskoye\n",
      "Processing Record 15 of Set 7 | rosarito\n",
      "Processing Record 16 of Set 7 | baghdad\n",
      "Processing Record 17 of Set 7 | vilyuysk\n",
      "Processing Record 18 of Set 7 | hobyo\n",
      "Processing Record 19 of Set 7 | atar\n",
      "City not found. Skipping...\n",
      "Processing Record 20 of Set 7 | dashitou\n",
      "City not found. Skipping...\n",
      "Processing Record 21 of Set 7 | krasnovishersk\n",
      "Processing Record 22 of Set 7 | svetlyy\n",
      "Processing Record 23 of Set 7 | lata\n",
      "Processing Record 24 of Set 7 | merauke\n",
      "Processing Record 25 of Set 7 | police\n",
      "Processing Record 26 of Set 7 | san patricio\n",
      "Processing Record 27 of Set 7 | sulangan\n",
      "Processing Record 28 of Set 7 | aswan\n",
      "Processing Record 29 of Set 7 | logansport\n",
      "Processing Record 30 of Set 7 | suntar\n",
      "Processing Record 31 of Set 7 | narsaq\n",
      "City not found. Skipping...\n",
      "Processing Record 32 of Set 7 | san quintin\n",
      "Processing Record 33 of Set 7 | labrea\n",
      "Processing Record 34 of Set 7 | iquique\n",
      "Processing Record 35 of Set 7 | oistins\n",
      "Processing Record 36 of Set 7 | auki\n",
      "Processing Record 37 of Set 7 | puerto montt\n",
      "Processing Record 38 of Set 7 | bukama\n",
      "Processing Record 39 of Set 7 | xichang\n",
      "Processing Record 40 of Set 7 | mar del plata\n",
      "City not found. Skipping...\n",
      "Processing Record 41 of Set 7 | ewa beach\n",
      "City not found. Skipping...\n",
      "Processing Record 42 of Set 7 | usinsk\n",
      "Processing Record 43 of Set 7 | barra do garcas\n",
      "Processing Record 44 of Set 7 | kontagora\n",
      "City not found. Skipping...\n",
      "Processing Record 45 of Set 7 | olinda\n",
      "Processing Record 46 of Set 7 | avesta\n",
      "Processing Record 47 of Set 7 | santa rosa\n",
      "Processing Record 48 of Set 7 | creel\n",
      "Processing Record 49 of Set 7 | erdemli\n",
      "Processing Record 50 of Set 7 | salalah\n",
      "City not found. Skipping...\n",
      "Processing Record 51 of Set 7 | clyde river\n",
      "Processing Record 1 of Set 8 | shemysheyka\n",
      "Processing Record 2 of Set 8 | aklavik\n",
      "Processing Record 3 of Set 8 | ishinomaki\n",
      "City not found. Skipping...\n",
      "Processing Record 4 of Set 8 | carmagnola\n",
      "Processing Record 5 of Set 8 | sol-iletsk\n",
      "Processing Record 6 of Set 8 | montepuez\n",
      "Processing Record 7 of Set 8 | marsa matruh\n",
      "City not found. Skipping...\n",
      "Processing Record 8 of Set 8 | nara\n",
      "Processing Record 9 of Set 8 | srednekolymsk\n"
     ]
    },
    {
     "name": "stdout",
     "output_type": "stream",
     "text": [
      "Processing Record 10 of Set 8 | porto walter\n",
      "Processing Record 11 of Set 8 | kahuta\n",
      "Processing Record 12 of Set 8 | moose jaw\n",
      "Processing Record 13 of Set 8 | nago\n",
      "Processing Record 14 of Set 8 | sirohi\n",
      "Processing Record 15 of Set 8 | tuatapere\n",
      "Processing Record 16 of Set 8 | bathsheba\n",
      "Processing Record 17 of Set 8 | ugoofaaru\n",
      "Processing Record 18 of Set 8 | fonte boa\n",
      "City not found. Skipping...\n",
      "Processing Record 19 of Set 8 | praia\n",
      "City not found. Skipping...\n",
      "Processing Record 20 of Set 8 | ambon\n",
      "Processing Record 21 of Set 8 | arrecife\n",
      "Processing Record 22 of Set 8 | chokurdakh\n",
      "City not found. Skipping...\n",
      "Processing Record 23 of Set 8 | severo-yeniseyskiy\n",
      "Processing Record 24 of Set 8 | kahului\n",
      "Processing Record 25 of Set 8 | larap\n",
      "Processing Record 26 of Set 8 | liverpool\n",
      "Processing Record 27 of Set 8 | camacha\n",
      "Processing Record 28 of Set 8 | lompoc\n",
      "Processing Record 29 of Set 8 | mount gambier\n",
      "Processing Record 30 of Set 8 | bealanana\n",
      "Processing Record 31 of Set 8 | molepolole\n",
      "Processing Record 32 of Set 8 | ako\n",
      "City not found. Skipping...\n",
      "Processing Record 33 of Set 8 | berasia\n",
      "Processing Record 34 of Set 8 | port pirie\n",
      "Processing Record 35 of Set 8 | faya\n",
      "Processing Record 36 of Set 8 | odienne\n",
      "Processing Record 37 of Set 8 | jaranwala\n",
      "Processing Record 38 of Set 8 | kota belud\n",
      "Processing Record 39 of Set 8 | russell\n",
      "Processing Record 40 of Set 8 | okhotsk\n",
      "Processing Record 41 of Set 8 | baykit\n",
      "Processing Record 42 of Set 8 | noumea\n",
      "Processing Record 43 of Set 8 | kathmandu\n",
      "Processing Record 44 of Set 8 | filadelfia\n",
      "Processing Record 45 of Set 8 | vestmannaeyjar\n",
      "Processing Record 46 of Set 8 | caningay\n",
      "Processing Record 47 of Set 8 | guarapari\n",
      "Processing Record 48 of Set 8 | san policarpo\n",
      "Processing Record 49 of Set 8 | san pedro\n",
      "Processing Record 50 of Set 8 | goderich\n",
      "Processing Record 51 of Set 8 | cockburn harbour\n",
      "Processing Record 1 of Set 9 | nochistlan\n",
      "Processing Record 2 of Set 9 | jati\n",
      "Processing Record 3 of Set 9 | belize\n",
      "Processing Record 4 of Set 9 | ust-kuyga\n",
      "Processing Record 5 of Set 9 | deyang\n",
      "Processing Record 6 of Set 9 | inhambane\n",
      "Processing Record 7 of Set 9 | jaque\n",
      "Processing Record 8 of Set 9 | barranca\n",
      "Processing Record 9 of Set 9 | kattivakkam\n",
      "Processing Record 10 of Set 9 | almeirim\n",
      "Processing Record 11 of Set 9 | havelock\n",
      "Processing Record 12 of Set 9 | natal\n",
      "Processing Record 13 of Set 9 | port lincoln\n",
      "City not found. Skipping...\n",
      "Processing Record 14 of Set 9 | fishers\n",
      "Processing Record 15 of Set 9 | olden\n",
      "Processing Record 16 of Set 9 | awbari\n",
      "Processing Record 17 of Set 9 | dondo\n",
      "Processing Record 18 of Set 9 | kirakira\n",
      "Processing Record 19 of Set 9 | batsfjord\n",
      "City not found. Skipping...\n",
      "Processing Record 20 of Set 9 | avera\n",
      "Processing Record 21 of Set 9 | kibaya\n",
      "Processing Record 22 of Set 9 | sibolga\n",
      "Processing Record 23 of Set 9 | codrington\n",
      "Processing Record 24 of Set 9 | lokomotivnyy\n",
      "Processing Record 25 of Set 9 | saint-quentin\n",
      "Processing Record 26 of Set 9 | paita\n",
      "Processing Record 27 of Set 9 | nishihara\n",
      "Processing Record 28 of Set 9 | bacungan\n",
      "Processing Record 29 of Set 9 | raudeberg\n",
      "City not found. Skipping...\n",
      "Processing Record 30 of Set 9 | cap malheureux\n",
      "Processing Record 31 of Set 9 | samana\n",
      "Processing Record 32 of Set 9 | rundu\n",
      "Processing Record 33 of Set 9 | chimoio\n",
      "City not found. Skipping...\n",
      "Processing Record 34 of Set 9 | bulgan\n",
      "Processing Record 35 of Set 9 | nelson bay\n",
      "City not found. Skipping...\n",
      "Processing Record 36 of Set 9 | inuvik\n",
      "Processing Record 37 of Set 9 | bose\n",
      "Processing Record 38 of Set 9 | zalantun\n",
      "Processing Record 39 of Set 9 | adrar\n",
      "City not found. Skipping...\n",
      "City not found. Skipping...\n",
      "Processing Record 40 of Set 9 | san angelo\n",
      "Processing Record 41 of Set 9 | davila\n",
      "Processing Record 42 of Set 9 | moctezuma\n",
      "City not found. Skipping...\n",
      "Processing Record 43 of Set 9 | alakurtti\n",
      "Processing Record 44 of Set 9 | carnarvon\n",
      "Processing Record 45 of Set 9 | payyannur\n",
      "Processing Record 46 of Set 9 | anito\n",
      "Processing Record 47 of Set 9 | meadow lake\n",
      "Processing Record 48 of Set 9 | lebu\n",
      "Processing Record 49 of Set 9 | jacona\n",
      "Processing Record 50 of Set 9 | petrozavodsk\n",
      "Processing Record 51 of Set 9 | joshimath\n",
      "Processing Record 1 of Set 10 | susanville\n",
      "Processing Record 2 of Set 10 | lodingen\n",
      "Processing Record 3 of Set 10 | mazyr\n",
      "Processing Record 4 of Set 10 | kozhva\n",
      "Processing Record 5 of Set 10 | dunedin\n",
      "City not found. Skipping...\n",
      "Processing Record 6 of Set 10 | vitorino freire\n",
      "Processing Record 7 of Set 10 | imbituba\n",
      "Processing Record 8 of Set 10 | angoram\n",
      "Processing Record 9 of Set 10 | pochutla\n",
      "Processing Record 10 of Set 10 | gonen\n",
      "Processing Record 11 of Set 10 | olafsvik\n",
      "City not found. Skipping...\n",
      "Processing Record 12 of Set 10 | ostrovnoy\n",
      "Processing Record 13 of Set 10 | chifeng\n",
      "Processing Record 14 of Set 10 | gasa\n",
      "City not found. Skipping...\n",
      "Processing Record 15 of Set 10 | tezu\n",
      "Processing Record 16 of Set 10 | ayagoz\n",
      "Processing Record 17 of Set 10 | bardiyah\n",
      "Processing Record 18 of Set 10 | sinnamary\n",
      "City not found. Skipping...\n",
      "Processing Record 19 of Set 10 | poum\n",
      "Processing Record 20 of Set 10 | montes claros\n",
      "Processing Record 21 of Set 10 | vestmanna\n",
      "Processing Record 22 of Set 10 | yabrud\n",
      "Processing Record 23 of Set 10 | kovdor\n",
      "Processing Record 24 of Set 10 | itarema\n",
      "City not found. Skipping...\n",
      "Processing Record 25 of Set 10 | ketchikan\n",
      "Processing Record 26 of Set 10 | salisbury\n",
      "Processing Record 27 of Set 10 | misratah\n",
      "Processing Record 28 of Set 10 | kismayo\n",
      "Processing Record 29 of Set 10 | nehe\n",
      "Processing Record 30 of Set 10 | kanigoro\n",
      "Processing Record 31 of Set 10 | alta gracia\n",
      "Processing Record 32 of Set 10 | chimbote\n",
      "Processing Record 33 of Set 10 | bolu\n",
      "Processing Record 34 of Set 10 | acarau\n",
      "Processing Record 35 of Set 10 | ayacucho\n",
      "Processing Record 36 of Set 10 | nemuro\n",
      "Processing Record 37 of Set 10 | katherine\n",
      "Processing Record 38 of Set 10 | halifax\n",
      "Processing Record 39 of Set 10 | petropavlovsk-kamchatskiy\n",
      "Processing Record 40 of Set 10 | mumford\n",
      "Processing Record 41 of Set 10 | uslar\n",
      "Processing Record 42 of Set 10 | roma\n",
      "Processing Record 43 of Set 10 | tostedt\n",
      "Processing Record 44 of Set 10 | dori\n",
      "Processing Record 45 of Set 10 | conde\n",
      "Processing Record 46 of Set 10 | college\n",
      "Processing Record 47 of Set 10 | sept-iles\n",
      "Processing Record 48 of Set 10 | beihai\n",
      "Processing Record 49 of Set 10 | virginia beach\n",
      "Processing Record 50 of Set 10 | metlaltoyuca\n",
      "Processing Record 51 of Set 10 | nauen\n",
      "Processing Record 1 of Set 11 | sakakah\n",
      "Processing Record 2 of Set 11 | deputatskiy\n",
      "Processing Record 3 of Set 11 | diourbel\n",
      "Processing Record 4 of Set 11 | dali\n",
      "Processing Record 5 of Set 11 | port-gentil\n",
      "Processing Record 6 of Set 11 | shache\n",
      "Processing Record 7 of Set 11 | tabuk\n",
      "Processing Record 8 of Set 11 | sakaiminato\n",
      "Processing Record 9 of Set 11 | marystown\n",
      "Processing Record 10 of Set 11 | ornskoldsvik\n",
      "Processing Record 11 of Set 11 | baberu\n",
      "Processing Record 12 of Set 11 | touros\n",
      "Processing Record 13 of Set 11 | grindavik\n",
      "City not found. Skipping...\n",
      "Processing Record 14 of Set 11 | guerrero\n",
      "Processing Record 15 of Set 11 | araouane\n",
      "Processing Record 16 of Set 11 | salaga\n",
      "Processing Record 17 of Set 11 | gorontalo\n",
      "Processing Record 18 of Set 11 | natitingou\n",
      "Processing Record 19 of Set 11 | khilok\n",
      "Processing Record 20 of Set 11 | libourne\n",
      "City not found. Skipping...\n",
      "City not found. Skipping...\n",
      "Processing Record 21 of Set 11 | fort nelson\n",
      "Processing Record 22 of Set 11 | kabare\n",
      "Processing Record 23 of Set 11 | maarianhamina\n",
      "Processing Record 24 of Set 11 | arlit\n",
      "Processing Record 25 of Set 11 | portland\n",
      "Processing Record 26 of Set 11 | kathu\n",
      "Processing Record 27 of Set 11 | sitka\n",
      "Processing Record 28 of Set 11 | torata\n",
      "Processing Record 29 of Set 11 | hovd\n",
      "City not found. Skipping...\n",
      "Processing Record 30 of Set 11 | linxia\n",
      "Processing Record 31 of Set 11 | twin falls\n",
      "Processing Record 32 of Set 11 | yola\n",
      "Processing Record 33 of Set 11 | nanchang\n",
      "Processing Record 34 of Set 11 | pocone\n",
      "Processing Record 35 of Set 11 | llanes\n",
      "Processing Record 36 of Set 11 | ajdabiya\n",
      "Processing Record 37 of Set 11 | chalus\n",
      "Processing Record 38 of Set 11 | kalvarija\n",
      "Processing Record 39 of Set 11 | north bend\n",
      "Processing Record 40 of Set 11 | odda\n",
      "Processing Record 41 of Set 11 | meulaboh\n"
     ]
    },
    {
     "name": "stdout",
     "output_type": "stream",
     "text": [
      "Processing Record 42 of Set 11 | padang\n",
      "City not found. Skipping...\n",
      "City not found. Skipping...\n",
      "Processing Record 43 of Set 11 | moron\n",
      "Processing Record 44 of Set 11 | longonjo\n",
      "Processing Record 45 of Set 11 | san felipe\n",
      "------------------------------\n",
      "Data Retrieval Complete\n",
      "------------------------------\n"
     ]
    }
   ],
   "source": [
    "#set lists\n",
    "city_weather = []\n",
    "cloudinesses = []\n",
    "dates = []\n",
    "humidities = []\n",
    "lats = []\n",
    "lngs = []\n",
    "max_temps = []\n",
    "wind_speeds = []\n",
    "countries = []\n",
    "\n",
    "# set initial count quantities\n",
    "count_one = 0\n",
    "set_one = 1\n",
    "\n",
    "# loops for dataframe \n",
    "for city in cities:\n",
    "    try:\n",
    "        response = requests.get(query_url + city.replace(\" \",\"&\")).json()\n",
    "        cloudinesses.append(response['clouds']['all'])\n",
    "        countries.append(response['sys']['country'])\n",
    "        dates.append(response['dt'])\n",
    "        humidities.append(response['main']['humidity'])\n",
    "        lats.append(response['coord']['lat'])\n",
    "        lngs.append(response['coord']['lon'])\n",
    "        max_temps.append(response['main']['temp_max'])\n",
    "        wind_speeds.append(response['wind']['speed'])\n",
    "        if count_one > 50:\n",
    "            count_one = 1\n",
    "            set_one += 1\n",
    "            city_weather.append(city)\n",
    "        else:\n",
    "            count_one += 1\n",
    "            city_weather.append(city)\n",
    "        print(f\"Processing Record {count_one} of Set {set_one} | {city}\")\n",
    "    except Exception:\n",
    "        print(\"City not found. Skipping...\")\n",
    "print(\"------------------------------\\nData Retrieval Complete\\n------------------------------\")"
   ]
  },
  {
   "cell_type": "markdown",
   "metadata": {},
   "source": [
    "### Convert Raw Data to DataFrame\n",
    "* Export the city data into a .csv.\n",
    "* Display the DataFrame"
   ]
  },
  {
   "cell_type": "code",
   "execution_count": 21,
   "metadata": {},
   "outputs": [
    {
     "data": {
      "text/html": [
       "<div>\n",
       "<style scoped>\n",
       "    .dataframe tbody tr th:only-of-type {\n",
       "        vertical-align: middle;\n",
       "    }\n",
       "\n",
       "    .dataframe tbody tr th {\n",
       "        vertical-align: top;\n",
       "    }\n",
       "\n",
       "    .dataframe thead th {\n",
       "        text-align: right;\n",
       "    }\n",
       "</style>\n",
       "<table border=\"1\" class=\"dataframe\">\n",
       "  <thead>\n",
       "    <tr style=\"text-align: right;\">\n",
       "      <th></th>\n",
       "      <th>City</th>\n",
       "      <th>Lat</th>\n",
       "      <th>Lng</th>\n",
       "      <th>Max Temp</th>\n",
       "      <th>Humidity</th>\n",
       "      <th>Cloudiness</th>\n",
       "      <th>Wind Speed</th>\n",
       "      <th>Country</th>\n",
       "      <th>Date</th>\n",
       "    </tr>\n",
       "  </thead>\n",
       "  <tbody>\n",
       "    <tr>\n",
       "      <th>0</th>\n",
       "      <td>albany</td>\n",
       "      <td>42.60</td>\n",
       "      <td>-73.97</td>\n",
       "      <td>66.00</td>\n",
       "      <td>75</td>\n",
       "      <td>100</td>\n",
       "      <td>0.56</td>\n",
       "      <td>US</td>\n",
       "      <td>1603219095</td>\n",
       "    </tr>\n",
       "    <tr>\n",
       "      <th>1</th>\n",
       "      <td>kapaa</td>\n",
       "      <td>22.08</td>\n",
       "      <td>-159.32</td>\n",
       "      <td>77.00</td>\n",
       "      <td>88</td>\n",
       "      <td>75</td>\n",
       "      <td>10.29</td>\n",
       "      <td>US</td>\n",
       "      <td>1603218976</td>\n",
       "    </tr>\n",
       "    <tr>\n",
       "      <th>2</th>\n",
       "      <td>gillette</td>\n",
       "      <td>44.29</td>\n",
       "      <td>-105.50</td>\n",
       "      <td>41.00</td>\n",
       "      <td>80</td>\n",
       "      <td>90</td>\n",
       "      <td>16.11</td>\n",
       "      <td>US</td>\n",
       "      <td>1603218921</td>\n",
       "    </tr>\n",
       "    <tr>\n",
       "      <th>3</th>\n",
       "      <td>castro</td>\n",
       "      <td>-24.79</td>\n",
       "      <td>-50.01</td>\n",
       "      <td>79.97</td>\n",
       "      <td>48</td>\n",
       "      <td>16</td>\n",
       "      <td>1.70</td>\n",
       "      <td>BR</td>\n",
       "      <td>1603219096</td>\n",
       "    </tr>\n",
       "    <tr>\n",
       "      <th>4</th>\n",
       "      <td>inirida</td>\n",
       "      <td>3.87</td>\n",
       "      <td>-67.92</td>\n",
       "      <td>91.69</td>\n",
       "      <td>53</td>\n",
       "      <td>100</td>\n",
       "      <td>2.04</td>\n",
       "      <td>CO</td>\n",
       "      <td>1603219096</td>\n",
       "    </tr>\n",
       "  </tbody>\n",
       "</table>\n",
       "</div>"
      ],
      "text/plain": [
       "       City    Lat     Lng  Max Temp  Humidity  Cloudiness  Wind Speed  \\\n",
       "0    albany  42.60  -73.97     66.00        75         100        0.56   \n",
       "1     kapaa  22.08 -159.32     77.00        88          75       10.29   \n",
       "2  gillette  44.29 -105.50     41.00        80          90       16.11   \n",
       "3    castro -24.79  -50.01     79.97        48          16        1.70   \n",
       "4   inirida   3.87  -67.92     91.69        53         100        2.04   \n",
       "\n",
       "  Country        Date  \n",
       "0      US  1603219095  \n",
       "1      US  1603218976  \n",
       "2      US  1603218921  \n",
       "3      BR  1603219096  \n",
       "4      CO  1603219096  "
      ]
     },
     "execution_count": 21,
     "metadata": {},
     "output_type": "execute_result"
    }
   ],
   "source": [
    "weather_dictionary = {\n",
    "    \"City\": city_weather,\n",
    "    \"Lat\":lats,\n",
    "    \"Lng\":lngs,\n",
    "    \"Max Temp\":max_temps,\n",
    "    \"Humidity\":humidities,\n",
    "    \"Cloudiness\":cloudinesses,\n",
    "    \"Wind Speed\":wind_speeds,\n",
    "    \"Country\":countries,\n",
    "    \"Date\":dates,\n",
    "}\n",
    "\n",
    "weather_df = pd.DataFrame(weather_dictionary)\n",
    "weather_df.head()"
   ]
  },
  {
   "cell_type": "code",
   "execution_count": 9,
   "metadata": {},
   "outputs": [],
   "source": [
    "weather_df.to_csv(output_data_file)"
   ]
  },
  {
   "cell_type": "code",
   "execution_count": 22,
   "metadata": {
    "scrolled": true
   },
   "outputs": [
    {
     "data": {
      "text/html": [
       "<div>\n",
       "<style scoped>\n",
       "    .dataframe tbody tr th:only-of-type {\n",
       "        vertical-align: middle;\n",
       "    }\n",
       "\n",
       "    .dataframe tbody tr th {\n",
       "        vertical-align: top;\n",
       "    }\n",
       "\n",
       "    .dataframe thead th {\n",
       "        text-align: right;\n",
       "    }\n",
       "</style>\n",
       "<table border=\"1\" class=\"dataframe\">\n",
       "  <thead>\n",
       "    <tr style=\"text-align: right;\">\n",
       "      <th></th>\n",
       "      <th>Lat</th>\n",
       "      <th>Lng</th>\n",
       "      <th>Max Temp</th>\n",
       "      <th>Humidity</th>\n",
       "      <th>Cloudiness</th>\n",
       "      <th>Wind Speed</th>\n",
       "      <th>Date</th>\n",
       "    </tr>\n",
       "  </thead>\n",
       "  <tbody>\n",
       "    <tr>\n",
       "      <th>count</th>\n",
       "      <td>555.000000</td>\n",
       "      <td>555.000000</td>\n",
       "      <td>555.000000</td>\n",
       "      <td>555.000000</td>\n",
       "      <td>555.000000</td>\n",
       "      <td>555.000000</td>\n",
       "      <td>5.550000e+02</td>\n",
       "    </tr>\n",
       "    <tr>\n",
       "      <th>mean</th>\n",
       "      <td>23.780018</td>\n",
       "      <td>21.340757</td>\n",
       "      <td>61.390631</td>\n",
       "      <td>71.893694</td>\n",
       "      <td>53.810811</td>\n",
       "      <td>7.768937</td>\n",
       "      <td>1.603219e+09</td>\n",
       "    </tr>\n",
       "    <tr>\n",
       "      <th>std</th>\n",
       "      <td>31.409894</td>\n",
       "      <td>86.955909</td>\n",
       "      <td>20.684828</td>\n",
       "      <td>22.000358</td>\n",
       "      <td>40.625461</td>\n",
       "      <td>5.290851</td>\n",
       "      <td>1.838840e+02</td>\n",
       "    </tr>\n",
       "    <tr>\n",
       "      <th>min</th>\n",
       "      <td>-54.800000</td>\n",
       "      <td>-179.170000</td>\n",
       "      <td>2.030000</td>\n",
       "      <td>5.000000</td>\n",
       "      <td>0.000000</td>\n",
       "      <td>0.560000</td>\n",
       "      <td>1.603218e+09</td>\n",
       "    </tr>\n",
       "    <tr>\n",
       "      <th>25%</th>\n",
       "      <td>-1.235000</td>\n",
       "      <td>-51.675000</td>\n",
       "      <td>46.200000</td>\n",
       "      <td>61.500000</td>\n",
       "      <td>5.000000</td>\n",
       "      <td>3.500000</td>\n",
       "      <td>1.603219e+09</td>\n",
       "    </tr>\n",
       "    <tr>\n",
       "      <th>50%</th>\n",
       "      <td>28.480000</td>\n",
       "      <td>23.230000</td>\n",
       "      <td>66.200000</td>\n",
       "      <td>77.000000</td>\n",
       "      <td>65.000000</td>\n",
       "      <td>6.710000</td>\n",
       "      <td>1.603219e+09</td>\n",
       "    </tr>\n",
       "    <tr>\n",
       "      <th>75%</th>\n",
       "      <td>48.535000</td>\n",
       "      <td>95.075000</td>\n",
       "      <td>78.400000</td>\n",
       "      <td>87.000000</td>\n",
       "      <td>97.500000</td>\n",
       "      <td>10.290000</td>\n",
       "      <td>1.603219e+09</td>\n",
       "    </tr>\n",
       "    <tr>\n",
       "      <th>max</th>\n",
       "      <td>78.220000</td>\n",
       "      <td>178.420000</td>\n",
       "      <td>97.740000</td>\n",
       "      <td>100.000000</td>\n",
       "      <td>100.000000</td>\n",
       "      <td>28.860000</td>\n",
       "      <td>1.603219e+09</td>\n",
       "    </tr>\n",
       "  </tbody>\n",
       "</table>\n",
       "</div>"
      ],
      "text/plain": [
       "              Lat         Lng    Max Temp    Humidity  Cloudiness  Wind Speed  \\\n",
       "count  555.000000  555.000000  555.000000  555.000000  555.000000  555.000000   \n",
       "mean    23.780018   21.340757   61.390631   71.893694   53.810811    7.768937   \n",
       "std     31.409894   86.955909   20.684828   22.000358   40.625461    5.290851   \n",
       "min    -54.800000 -179.170000    2.030000    5.000000    0.000000    0.560000   \n",
       "25%     -1.235000  -51.675000   46.200000   61.500000    5.000000    3.500000   \n",
       "50%     28.480000   23.230000   66.200000   77.000000   65.000000    6.710000   \n",
       "75%     48.535000   95.075000   78.400000   87.000000   97.500000   10.290000   \n",
       "max     78.220000  178.420000   97.740000  100.000000  100.000000   28.860000   \n",
       "\n",
       "               Date  \n",
       "count  5.550000e+02  \n",
       "mean   1.603219e+09  \n",
       "std    1.838840e+02  \n",
       "min    1.603218e+09  \n",
       "25%    1.603219e+09  \n",
       "50%    1.603219e+09  \n",
       "75%    1.603219e+09  \n",
       "max    1.603219e+09  "
      ]
     },
     "execution_count": 22,
     "metadata": {},
     "output_type": "execute_result"
    }
   ],
   "source": [
    "weather_df.describe()"
   ]
  },
  {
   "cell_type": "markdown",
   "metadata": {},
   "source": [
    "## Inspect the data and remove the cities where the humidity > 100%.\n",
    "----\n",
    "Skip this step if there are no cities that have humidity > 100%. "
   ]
  },
  {
   "cell_type": "code",
   "execution_count": 23,
   "metadata": {},
   "outputs": [
    {
     "name": "stdout",
     "output_type": "stream",
     "text": [
      "Empty DataFrame\n",
      "Columns: [City, Lat, Lng, Max Temp, Humidity, Cloudiness, Wind Speed, Country, Date]\n",
      "Index: []\n"
     ]
    }
   ],
   "source": [
    "#print out any cities with humidity over 100, store in new DF. use loc funtion to look. we might not find anything with \n",
    "#humidity over 100, but if you do, exclude from data set\n",
    "print(weather_df[weather_df['Humidity']> 100])"
   ]
  },
  {
   "cell_type": "code",
   "execution_count": 17,
   "metadata": {},
   "outputs": [
    {
     "data": {
      "text/plain": [
       "Int64Index([], dtype='int64')"
      ]
     },
     "execution_count": 17,
     "metadata": {},
     "output_type": "execute_result"
    }
   ],
   "source": [
    "#  Get the indices of cities that have humidity over 100%.\n",
    "#none exist "
   ]
  },
  {
   "cell_type": "code",
   "execution_count": 19,
   "metadata": {},
   "outputs": [
    {
     "data": {
      "text/html": [
       "<div>\n",
       "<style scoped>\n",
       "    .dataframe tbody tr th:only-of-type {\n",
       "        vertical-align: middle;\n",
       "    }\n",
       "\n",
       "    .dataframe tbody tr th {\n",
       "        vertical-align: top;\n",
       "    }\n",
       "\n",
       "    .dataframe thead th {\n",
       "        text-align: right;\n",
       "    }\n",
       "</style>\n",
       "<table border=\"1\" class=\"dataframe\">\n",
       "  <thead>\n",
       "    <tr style=\"text-align: right;\">\n",
       "      <th></th>\n",
       "      <th>City</th>\n",
       "      <th>Lat</th>\n",
       "      <th>Lng</th>\n",
       "      <th>Max Temp</th>\n",
       "      <th>Humidity</th>\n",
       "      <th>Cloudiness</th>\n",
       "      <th>Wind Speed</th>\n",
       "      <th>Country</th>\n",
       "      <th>Date</th>\n",
       "    </tr>\n",
       "  </thead>\n",
       "  <tbody>\n",
       "    <tr>\n",
       "      <td>0</td>\n",
       "      <td>butaritari</td>\n",
       "      <td>3.07</td>\n",
       "      <td>172.79</td>\n",
       "      <td>83.32</td>\n",
       "      <td>74</td>\n",
       "      <td>84</td>\n",
       "      <td>10.42</td>\n",
       "      <td>KI</td>\n",
       "      <td>1593605283</td>\n",
       "    </tr>\n",
       "    <tr>\n",
       "      <td>1</td>\n",
       "      <td>yerbogachen</td>\n",
       "      <td>61.28</td>\n",
       "      <td>108.01</td>\n",
       "      <td>79.52</td>\n",
       "      <td>58</td>\n",
       "      <td>20</td>\n",
       "      <td>7.70</td>\n",
       "      <td>RU</td>\n",
       "      <td>1593605121</td>\n",
       "    </tr>\n",
       "    <tr>\n",
       "      <td>2</td>\n",
       "      <td>cape town</td>\n",
       "      <td>-33.93</td>\n",
       "      <td>18.42</td>\n",
       "      <td>73.00</td>\n",
       "      <td>77</td>\n",
       "      <td>27</td>\n",
       "      <td>4.70</td>\n",
       "      <td>ZA</td>\n",
       "      <td>1593605039</td>\n",
       "    </tr>\n",
       "    <tr>\n",
       "      <td>3</td>\n",
       "      <td>touba</td>\n",
       "      <td>8.28</td>\n",
       "      <td>-7.68</td>\n",
       "      <td>79.97</td>\n",
       "      <td>75</td>\n",
       "      <td>82</td>\n",
       "      <td>3.58</td>\n",
       "      <td>CI</td>\n",
       "      <td>1593605284</td>\n",
       "    </tr>\n",
       "    <tr>\n",
       "      <td>4</td>\n",
       "      <td>jamestown</td>\n",
       "      <td>42.10</td>\n",
       "      <td>-79.24</td>\n",
       "      <td>64.00</td>\n",
       "      <td>88</td>\n",
       "      <td>1</td>\n",
       "      <td>6.93</td>\n",
       "      <td>US</td>\n",
       "      <td>1593605284</td>\n",
       "    </tr>\n",
       "  </tbody>\n",
       "</table>\n",
       "</div>"
      ],
      "text/plain": [
       "          City    Lat     Lng  Max Temp  Humidity  Cloudiness  Wind Speed  \\\n",
       "0   butaritari   3.07  172.79     83.32        74          84       10.42   \n",
       "1  yerbogachen  61.28  108.01     79.52        58          20        7.70   \n",
       "2    cape town -33.93   18.42     73.00        77          27        4.70   \n",
       "3        touba   8.28   -7.68     79.97        75          82        3.58   \n",
       "4    jamestown  42.10  -79.24     64.00        88           1        6.93   \n",
       "\n",
       "  Country        Date  \n",
       "0      KI  1593605283  \n",
       "1      RU  1593605121  \n",
       "2      ZA  1593605039  \n",
       "3      CI  1593605284  \n",
       "4      US  1593605284  "
      ]
     },
     "execution_count": 19,
     "metadata": {},
     "output_type": "execute_result"
    }
   ],
   "source": [
    "# Make a new DataFrame equal to the city data to drop all humidity outliers by index.\n",
    "# Passing \"inplace=False\" will make a copy of the city_data DataFrame, which we call \"clean_city_data\".\n",
    "#no cities exist with humidity over 100. skipping this step as the df is already clean"
   ]
  },
  {
   "cell_type": "code",
   "execution_count": null,
   "metadata": {},
   "outputs": [],
   "source": [
    "\n"
   ]
  },
  {
   "cell_type": "markdown",
   "metadata": {},
   "source": [
    "## Plotting the Data\n",
    "* Use proper labeling of the plots using plot titles (including date of analysis) and axes labels.\n",
    "* Save the plotted figures as .pngs."
   ]
  },
  {
   "cell_type": "markdown",
   "metadata": {},
   "source": [
    "## Latitude vs. Temperature Plot"
   ]
  },
  {
   "cell_type": "code",
   "execution_count": 17,
   "metadata": {
    "scrolled": true
   },
   "outputs": [
    {
     "data": {
      "image/png": "[encoded data removed]",
      "text/plain": [
       "<Figure size 432x288 with 1 Axes>"
      ]
     },
     "metadata": {
      "needs_background": "light"
     },
     "output_type": "display_data"
    }
   ],
   "source": [
    "#scatter plot\n",
    "plt.scatter(weather_df[\"Lat\"], weather_df[\"Max Temp\"], marker=\"o\", s=10)\n",
    "\n",
    "plt.title(\"City Latitude vs. Max Temperature\")\n",
    "plt.ylabel(\"Max. Temperature (F)\")\n",
    "plt.xlabel(\"Latitude\")\n",
    "plt.grid(True)\n",
    "\n",
    "#save\n",
    "plt.savefig(\"output_plots/latitude_temperature_plot.png\")\n",
    "\n",
    "#show\n",
    "plt.show()"
   ]
  },
  {
   "cell_type": "markdown",
   "metadata": {},
   "source": [
    "## Latitude vs. Humidity Plot"
   ]
  },
  {
   "cell_type": "code",
   "execution_count": 18,
   "metadata": {},
   "outputs": [
    {
     "data": {
      "image/png": "[encoded data removed]",
      "text/plain": [
       "<Figure size 432x288 with 1 Axes>"
      ]
     },
     "metadata": {
      "needs_background": "light"
     },
     "output_type": "display_data"
    }
   ],
   "source": [
    "#scatter plot\n",
    "plt.scatter(weather_df[\"Lat\"], weather_df[\"Humidity\"], marker=\"o\", s=10)\n",
    "\n",
    "plt.title(\"City Latitude vs. Humidity\")\n",
    "plt.ylabel(\"Humidity (%)\")\n",
    "plt.xlabel(\"Latitude\")\n",
    "plt.grid(True)\n",
    "\n",
    "#save\n",
    "plt.savefig(\"output_plots/latitude_humidity_plot.png\")\n",
    "\n",
    "#show\n",
    "plt.show()"
   ]
  },
  {
   "cell_type": "markdown",
   "metadata": {},
   "source": [
    "## Latitude vs. Cloudiness Plot"
   ]
  },
  {
   "cell_type": "code",
   "execution_count": 19,
   "metadata": {},
   "outputs": [
    {
     "data": {
      "image/png": "[encoded data removed]",
      "text/plain": [
       "<Figure size 432x288 with 1 Axes>"
      ]
     },
     "metadata": {
      "needs_background": "light"
     },
     "output_type": "display_data"
    }
   ],
   "source": [
    "#scatter plot\n",
    "plt.scatter(weather_df[\"Lat\"], weather_df[\"Cloudiness\"], marker=\"o\", s=10)\n",
    "\n",
    "plt.title(\"City Latitude vs. Cloudiness\")\n",
    "plt.ylabel(\"Cloudiness (%)\")\n",
    "plt.xlabel(\"Latitude\")\n",
    "plt.grid(True)\n",
    "\n",
    "#save\n",
    "plt.savefig(\"output_plots/latitude_cloudiness_plot.png\")\n",
    "\n",
    "#show\n",
    "plt.show()"
   ]
  },
  {
   "cell_type": "markdown",
   "metadata": {},
   "source": [
    "## Latitude vs. Wind Speed Plot"
   ]
  },
  {
   "cell_type": "code",
   "execution_count": 20,
   "metadata": {},
   "outputs": [
    {
     "data": {
      "image/png": "[encoded data removed]",
      "text/plain": [
       "<Figure size 432x288 with 1 Axes>"
      ]
     },
     "metadata": {
      "needs_background": "light"
     },
     "output_type": "display_data"
    }
   ],
   "source": [
    "#scatter plot\n",
    "plt.scatter(weather_df[\"Lat\"], weather_df[\"Wind Speed\"], marker=\"o\", s=10)\n",
    "\n",
    "plt.title(\"City Latitude vs. Wind Speed\")\n",
    "plt.ylabel(\"Wind Speed (mph)\")\n",
    "plt.xlabel(\"Latitude\")\n",
    "plt.grid(True)\n",
    "\n",
    "#save\n",
    "plt.savefig(\"output_plots/latitude_windspeed_plot.png\")\n",
    "\n",
    "#show\n",
    "plt.show()"
   ]
  },
  {
   "cell_type": "markdown",
   "metadata": {},
   "source": [
    "## Linear Regression"
   ]
  },
  {
   "cell_type": "code",
   "execution_count": 33,
   "metadata": {},
   "outputs": [],
   "source": [
    "northern_hemisphere = weather_df[weather_df['Lat'] >= 0]\n",
    "southern_hemisphere = weather_df[weather_df['Lat'] < 0]"
   ]
  },
  {
   "cell_type": "markdown",
   "metadata": {},
   "source": [
    "####  Northern Hemisphere - Max Temp vs. Latitude Linear Regression"
   ]
  },
  {
   "cell_type": "code",
   "execution_count": 38,
   "metadata": {},
   "outputs": [
    {
     "data": {
      "image/png": "[encoded data removed]",
      "text/plain": [
       "<Figure size 432x288 with 1 Axes>"
      ]
     },
     "metadata": {
      "needs_background": "light"
     },
     "output_type": "display_data"
    }
   ],
   "source": [
    "#scatter plot & linear regression\n",
    "# latitude = northern_hemisphere[\"Lat\"]\n",
    "# max_temp = northern_hemisphere[\"Max Temp\"]\n",
    "\n",
    "# (slope, intercept, rvalue, pvalue, stderr) = linregress (latitude, max_temp)\n",
    "# regress_values = latitude * slope + intercept\n",
    "# correlation = round(st.pearsonr(latitude, max_temp)[0],2)\n",
    "\n",
    "plt.scatter(northern_hemisphere[\"Lat\"], northern_hemisphere[\"Max Temp\"], marker=\"o\", s=10)\n",
    "plt.title(\"Northern Hemisphere-Max Temp vs Latitude\")\n",
    "plt.ylabel(\"Max Temp\")\n",
    "plt.xlabel(\"Latitude\")\n",
    "plt.grid(True)\n",
    "\n",
    "#save\n",
    "#plt.savefig(\"output_plots/latitude_windspeed_plot.png\")\n",
    "\n",
    "#show\n",
    "plt.show()"
   ]
  },
  {
   "cell_type": "markdown",
   "metadata": {},
   "source": [
    "####  Southern Hemisphere - Max Temp vs. Latitude Linear Regression"
   ]
  },
  {
   "cell_type": "code",
   "execution_count": 26,
   "metadata": {},
   "outputs": [
    {
     "name": "stdout",
     "output_type": "stream",
     "text": [
      "The r-value is: 0.6082708688906918\n"
     ]
    },
    {
     "data": {
      "image/png": "[encoded data removed]",
      "text/plain": [
       "<Figure size 432x288 with 1 Axes>"
      ]
     },
     "metadata": {
      "needs_background": "light"
     },
     "output_type": "display_data"
    }
   ],
   "source": []
  },
  {
   "cell_type": "markdown",
   "metadata": {},
   "source": [
    "####  Northern Hemisphere - Humidity (%) vs. Latitude Linear Regression"
   ]
  },
  {
   "cell_type": "code",
   "execution_count": 27,
   "metadata": {},
   "outputs": [
    {
     "name": "stdout",
     "output_type": "stream",
     "text": [
      "The r-value is: 0.000543987878808455\n"
     ]
    },
    {
     "data": {
      "image/png": "[encoded data removed]",
      "text/plain": [
       "<Figure size 432x288 with 1 Axes>"
      ]
     },
     "metadata": {
      "needs_background": "light"
     },
     "output_type": "display_data"
    }
   ],
   "source": []
  },
  {
   "cell_type": "markdown",
   "metadata": {},
   "source": [
    "####  Southern Hemisphere - Humidity (%) vs. Latitude Linear Regression"
   ]
  },
  {
   "cell_type": "code",
   "execution_count": 28,
   "metadata": {},
   "outputs": [
    {
     "name": "stdout",
     "output_type": "stream",
     "text": [
      "The r-value is: 0.014985174297345524\n"
     ]
    },
    {
     "data": {
      "image/png": "[encoded data removed]",
      "text/plain": [
       "<Figure size 432x288 with 1 Axes>"
      ]
     },
     "metadata": {
      "needs_background": "light"
     },
     "output_type": "display_data"
    }
   ],
   "source": []
  },
  {
   "cell_type": "markdown",
   "metadata": {},
   "source": [
    "####  Northern Hemisphere - Cloudiness (%) vs. Latitude Linear Regression"
   ]
  },
  {
   "cell_type": "code",
   "execution_count": 29,
   "metadata": {},
   "outputs": [
    {
     "name": "stdout",
     "output_type": "stream",
     "text": [
      "The r-value is: 0.0020898727664228514\n"
     ]
    },
    {
     "data": {
      "image/png": "[encoded data removed]",
      "text/plain": [
       "<Figure size 432x288 with 1 Axes>"
      ]
     },
     "metadata": {
      "needs_background": "light"
     },
     "output_type": "display_data"
    }
   ],
   "source": []
  },
  {
   "cell_type": "markdown",
   "metadata": {},
   "source": [
    "####  Southern Hemisphere - Cloudiness (%) vs. Latitude Linear Regression"
   ]
  },
  {
   "cell_type": "code",
   "execution_count": 30,
   "metadata": {},
   "outputs": [
    {
     "name": "stdout",
     "output_type": "stream",
     "text": [
      "The r-value is: 0.0035263772085582894\n"
     ]
    },
    {
     "data": {
      "image/png": "[encoded data removed]",
      "text/plain": [
       "<Figure size 432x288 with 1 Axes>"
      ]
     },
     "metadata": {
      "needs_background": "light"
     },
     "output_type": "display_data"
    }
   ],
   "source": []
  },
  {
   "cell_type": "markdown",
   "metadata": {},
   "source": [
    "####  Northern Hemisphere - Wind Speed (mph) vs. Latitude Linear Regression"
   ]
  },
  {
   "cell_type": "code",
   "execution_count": 31,
   "metadata": {},
   "outputs": [
    {
     "name": "stdout",
     "output_type": "stream",
     "text": [
      "The r-value is: 0.04019723576144484\n"
     ]
    },
    {
     "data": {
      "image/png": "[encoded data removed]",
      "text/plain": [
       "<Figure size 432x288 with 1 Axes>"
      ]
     },
     "metadata": {
      "needs_background": "light"
     },
     "output_type": "display_data"
    }
   ],
   "source": []
  },
  {
   "cell_type": "markdown",
   "metadata": {},
   "source": [
    "####  Southern Hemisphere - Wind Speed (mph) vs. Latitude Linear Regression"
   ]
  },
  {
   "cell_type": "code",
   "execution_count": 32,
   "metadata": {},
   "outputs": [
    {
     "name": "stdout",
     "output_type": "stream",
     "text": [
      "The r-value is: 0.017128274759839232\n"
     ]
    },
    {
     "data": {
      "image/png": "[encoded data removed]",
      "text/plain": [
       "<Figure size 432x288 with 1 Axes>"
      ]
     },
     "metadata": {
      "needs_background": "light"
     },
     "output_type": "display_data"
    }
   ],
   "source": []
  },
  {
   "cell_type": "code",
   "execution_count": null,
   "metadata": {},
   "outputs": [],
   "source": []
  }
 ],
 "metadata": {
  "anaconda-cloud": {},
  "kernel_info": {
   "name": "python3"
  },
  "kernelspec": {
   "display_name": "Python [conda env:PythonData] *",
   "language": "python",
   "name": "conda-env-PythonData-py"
  },
  "language_info": {
   "codemirror_mode": {
    "name": "ipython",
    "version": 3
   },
   "file_extension": ".py",
   "mimetype": "text/x-python",
   "name": "python",
   "nbconvert_exporter": "python",
   "pygments_lexer": "ipython3",
   "version": "3.7.1"
  },
  "latex_envs": {
   "LaTeX_envs_menu_present": true,
   "autoclose": false,
   "autocomplete": true,
   "bibliofile": "biblio.bib",
   "cite_by": "apalike",
   "current_citInitial": 1,
   "eqLabelWithNumbers": true,
   "eqNumInitial": 1,
   "hotkeys": {
    "equation": "Ctrl-E",
    "itemize": "Ctrl-I"
   },
   "labels_anchors": false,
   "latex_user_defs": false,
   "report_style_numbering": false,
   "user_envs_cfg": false
  },
  "nteract": {
   "version": "0.12.3"
  }
 },
 "nbformat": 4,
 "nbformat_minor": 2
}
